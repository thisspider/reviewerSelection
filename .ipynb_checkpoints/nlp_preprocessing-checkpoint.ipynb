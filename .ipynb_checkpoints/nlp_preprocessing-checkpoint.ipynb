{
 "cells": [
  {
   "cell_type": "code",
   "execution_count": 128,
   "metadata": {},
   "outputs": [],
   "source": [
    "\n",
    "# Steps for preprocessing:\n",
    "    # Tokenization?\n",
    "    # Lower casing\n",
    "    # Stop words removal\n",
    "    # Stemming?\n",
    "    # Lemmatization?\n",
    "    # Bag of words/W2V, CBOW, Skip-gram\n",
    "    # TF-IDF\n",
    "import pandas as pd\n",
    "from rapidfuzz import process, fuzz\n",
    "import matplotlib.pyplot as plt\n",
    "\n",
    "import numpy as np\n",
    "import nltk\n",
    "from nltk.corpus import stopwords\n",
    "from nltk.tokenize import word_tokenize\n",
    "from nltk.stem import WordNetLemmatizer\n",
    "from sklearn.feature_extraction.text import TfidfVectorizer\n",
    "from sklearn.metrics.pairwise import cosine_similarity"
   ]
  },
  {
   "cell_type": "code",
   "execution_count": 244,
   "metadata": {},
   "outputs": [
    {
     "data": {
      "text/html": [
       "<div>\n",
       "<style scoped>\n",
       "    .dataframe tbody tr th:only-of-type {\n",
       "        vertical-align: middle;\n",
       "    }\n",
       "\n",
       "    .dataframe tbody tr th {\n",
       "        vertical-align: top;\n",
       "    }\n",
       "\n",
       "    .dataframe thead th {\n",
       "        text-align: right;\n",
       "    }\n",
       "</style>\n",
       "<table border=\"1\" class=\"dataframe\">\n",
       "  <thead>\n",
       "    <tr style=\"text-align: right;\">\n",
       "      <th></th>\n",
       "      <th>work_id</th>\n",
       "      <th>abstract_content</th>\n",
       "    </tr>\n",
       "  </thead>\n",
       "  <tbody>\n",
       "    <tr>\n",
       "      <th>0</th>\n",
       "      <td>W2089745446</td>\n",
       "      <td>The research access/impact problem arises beca...</td>\n",
       "    </tr>\n",
       "    <tr>\n",
       "      <th>1</th>\n",
       "      <td>W2100379340</td>\n",
       "      <td>Information technology (IT) acceptance researc...</td>\n",
       "    </tr>\n",
       "    <tr>\n",
       "      <th>2</th>\n",
       "      <td>W1981083189</td>\n",
       "      <td>Edward O. Wilson, in his famous work, Sociobio...</td>\n",
       "    </tr>\n",
       "    <tr>\n",
       "      <th>3</th>\n",
       "      <td>W1560783210</td>\n",
       "      <td>Open access (OA) is free, unrestricted access ...</td>\n",
       "    </tr>\n",
       "    <tr>\n",
       "      <th>4</th>\n",
       "      <td>W2463568293</td>\n",
       "      <td>Open access, open data, open source and other ...</td>\n",
       "    </tr>\n",
       "  </tbody>\n",
       "</table>\n",
       "</div>"
      ],
      "text/plain": [
       "       work_id                                   abstract_content\n",
       "0  W2089745446  The research access/impact problem arises beca...\n",
       "1  W2100379340  Information technology (IT) acceptance researc...\n",
       "2  W1981083189  Edward O. Wilson, in his famous work, Sociobio...\n",
       "3  W1560783210  Open access (OA) is free, unrestricted access ...\n",
       "4  W2463568293  Open access, open data, open source and other ..."
      ]
     },
     "execution_count": 244,
     "metadata": {},
     "output_type": "execute_result"
    }
   ],
   "source": [
    "abstracts = pd.read_csv('./abstracts.csv')\n",
    "abstracts.columns = ['work_id', 'abstract_content']\n",
    "abstracts.head()"
   ]
  },
  {
   "cell_type": "code",
   "execution_count": 112,
   "metadata": {},
   "outputs": [],
   "source": [
    "def text_similarity(text1, text2):\n",
    "    # Tokenize and lemmatize the texts\n",
    "    tokens1 = word_tokenize(text1)\n",
    "    tokens2 = word_tokenize(text2)\n",
    "    lemmatizer = WordNetLemmatizer()\n",
    "    tokens1 = [lemmatizer.lemmatize(token) for token in tokens1]\n",
    "    tokens2 = [lemmatizer.lemmatize(token) for token in tokens2]\n",
    "\n",
    "    # Remove stopwords\n",
    "    stop_words = stopwords.words('english')\n",
    "    tokens1 = [token for token in tokens1 if token not in stop_words]\n",
    "    tokens2 = [token for token in tokens2 if token not in stop_words]\n",
    "\n",
    "    # Create the TF-IDF vectors\n",
    "    vectorizer = TfidfVectorizer()\n",
    "    vector1 = vectorizer.fit_transform(tokens1)\n",
    "    vector2 = vectorizer.transform(tokens2)\n",
    "\n",
    "    # Calculate the cosine similarity\n",
    "    similarity = cosine_similarity(vector1, vector2, dense_output=True)\n",
    "    return similarity\n",
    "\n",
    "def cosine_match(target_ref:str, open_alex_works):\n",
    "    similarities = []\n",
    "    for i, work in open_alex_works.iterrows():\n",
    "        print(work)\n",
    "        similarity = text_similarity(target_ref, work['abstract_content'])\n",
    "        work_similarity = {\n",
    "                work['work_id']: similarity\n",
    "            }\n",
    "        similarities.append(work_similarity)\n",
    "        # print(work_similarity)\n",
    "    return similarities"
   ]
  },
  {
   "cell_type": "code",
   "execution_count": 260,
   "metadata": {},
   "outputs": [
    {
     "data": {
      "text/plain": [
       "work_id                                                   W2089745446\n",
       "abstract_content    The research access/impact problem arises beca...\n",
       "Name: 0, dtype: object"
      ]
     },
     "execution_count": 260,
     "metadata": {},
     "output_type": "execute_result"
    }
   ],
   "source": [
    "target_ref = [abstracts[0:1]]\n",
    "target_ref\n",
    "open_alex_works = abstracts\n",
    "open_alex_works['work_id']\n",
    "abstracts.iloc[0]\n"
   ]
  },
  {
   "cell_type": "code",
   "execution_count": 113,
   "metadata": {},
   "outputs": [
    {
     "name": "stdout",
     "output_type": "stream",
     "text": [
      "W2100379340\n",
      "W1981083189\n"
     ]
    }
   ],
   "source": [
    "for i, row in open_alex_works.iterrows():\n",
    "    print(row['work_id'])"
   ]
  },
  {
   "cell_type": "code",
   "execution_count": 297,
   "metadata": {},
   "outputs": [
    {
     "name": "stdout",
     "output_type": "stream",
     "text": [
      "The research access/impact problem arises because journal articles are not accessible to all of their would-be users; hence, they are losing potential research impact. The solution is to make all articles Open Access (OA; i.e., accessible online, free for all). OA articles have significantly higher citation impact than non-OA articles. There are two roads to OA: the “golden” road (publish your article in an OA journal) and the “green” road (publish your article in a non-OA journal but also self-archive it in an OA archive). Only 5% of journals are gold, but over 90% are already green (i.e., they have given their authors the green light to self-archive); yet only about 10â€“20% of articles have been self-archived. To reach 100% OA, self-archiving needs to be mandated by researchers' employers and funders, as the United Kingdom and the United States have recently recommended, and universities need to implement that mandate. The research access/impact problem arises because journal articles are not accessible to all of their would-be users; hence, they are losing potential research impact. The solution is to make all articles open access (OA, i.e., accessible online, free for all). OA articles have significantly higher citation impact than non-OA articles. There are two roads to OA: the “golden” road (publish your article in an OA journal) and the “green” road (publish your article in a non-OA journal but also self-archive it in an OA archive). About 10% of journals are gold, but over 90% are already green (i.e., they have given their authors the green light to self-archive); yet only about 10–20% of articles have been self-archived. To reach 100% OA, self-archiving needs to be mandated by researchers’ employers and funders, as they are now increasingly beginning to do.\n"
     ]
    }
   ],
   "source": [
    "vectorizer = TfidfVectorizer()\n",
    "vectors = vectorizer.fit_transform(abstracts['abstract_content']) #input all document\n",
    "similarities = []\n",
    "# len(vectors)\n",
    "vectors[0]\n",
    "for i in range(len(abstracts)):\n",
    "#     cosine_similarity(np.array(vectors[0], vectors[i]))\n",
    "\n",
    "#     # Calculate the cosine similarity between the vectors\n",
    "    similarity = [ abstracts.iloc[i]['work_id'],cosine_similarity(vectors[0], vectors[i]), abstracts.iloc[i]['abstract_content']] \n",
    "#     # cosine_similarity(vectors[0], vectors[i]) for i in range ... \n",
    "    # cosine_similarity( np.array( vectors[index for query] , vectors[index for comparison] ) )\n",
    "    \n",
    "    similarities.append(similarity)\n",
    "df = pd.DataFrame(similarities)\n",
    "df.columns = ['work_id', 'cosine_similarity','abstract_content']\n",
    "df\n",
    "print(abstracts.iloc[0]['abstract_content'], abstracts.iloc[62]['abstract_content'])\n"
   ]
  },
  {
   "cell_type": "code",
   "execution_count": 195,
   "metadata": {},
   "outputs": [],
   "source": [
    "\n",
    "\n",
    "def rapidfuzz_match(extracted_references: list, openalex_works: list, scorer = fuzz.WRatio):\n",
    "    top_match = []\n",
    "    second_match = []\n",
    "    third_match = []\n",
    "    top_names = []\n",
    "    top_scores = []\n",
    "    top_indexes = []\n",
    "    second_scores = []\n",
    "    second_indexes = []\n",
    "    second_names = []\n",
    "    choices = openalex_works\n",
    "    for i, reference in extracted_references.iterrows():\n",
    "        print(choices)\n",
    "        # possible scorers are fuzz.WRatio , fuzz.partial_ratio , fuzz.token_set_ratio , fuzz.partial_token_set_ratio , fuzz.token_sort_ratio\n",
    "        top, second, third = process.extract(reference['abstract_content'], choices['abstract_content'], scorer=scorer, limit=3)\n",
    "        top_score = top[1]\n",
    "        top_index = top[2]\n",
    "        top_name = top[0]\n",
    "        top_names.append(top_name)\n",
    "        top_scores.append(top_score)\n",
    "        top_indexes.append(top_index)\n",
    "        top_match.append(top)\n",
    "        second_match.append(second)\n",
    "        second_score = second[1]\n",
    "        second_index = second[2]\n",
    "        second_name = second[0]\n",
    "        second_names.append(second_name)\n",
    "        second_scores.append(second_score)\n",
    "        second_indexes.append(second_index)\n",
    "        third_match.append(third)\n",
    "    matched_df = pd.DataFrame(list(zip(extracted_references, top_match,top_names, top_scores, top_indexes, second_match, second_names, second_scores, second_indexes, third_match)), columns=['extracted_reference', 'top_match', 'top_names', 'top_scores', 'top_indexes', 'second_match', 'second_names', 'second_scores', 'second_indexes', 'third_match'])\n",
    "    return matched_df\n",
    "\n"
   ]
  },
  {
   "cell_type": "code",
   "execution_count": 197,
   "metadata": {},
   "outputs": [],
   "source": [
    "# target_ref = [abstracts[0:1]]\n",
    "# target_ref\n",
    "# open_alex_works = abstracts[1:]\n",
    "# open_alex_works['work_id']\n",
    "# abstracts.iloc[0]\n",
    "\n"
   ]
  }
 ],
 "metadata": {
  "kernelspec": {
   "display_name": "reviewerSelection",
   "language": "python",
   "name": "python3"
  },
  "language_info": {
   "codemirror_mode": {
    "name": "ipython",
    "version": 3
   },
   "file_extension": ".py",
   "mimetype": "text/x-python",
   "name": "python",
   "nbconvert_exporter": "python",
   "pygments_lexer": "ipython3",
   "version": "3.10.6"
  },
  "orig_nbformat": 4
 },
 "nbformat": 4,
 "nbformat_minor": 2
}
