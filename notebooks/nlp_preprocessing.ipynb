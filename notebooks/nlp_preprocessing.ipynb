{
 "cells": [
  {
   "cell_type": "code",
<<<<<<< HEAD
<<<<<<< HEAD
<<<<<<< HEAD
<<<<<<< HEAD
   "execution_count": 5,
   "metadata": {},
   "outputs": [],
   "source": [
    "# Steps for preprocessing:\n",
    "# Tokenization?\n",
    "# Lower casing\n",
    "# Stop words removal\n",
    "# Stemming?\n",
    "# Lemmatization?\n",
    "# Bag of words/W2V, CBOW, Skip-gram\n",
    "# TF-IDF\n",
=======
   "execution_count": 3,
=======
   "execution_count": 5,
>>>>>>> ac4679f (enabled ngrams)
=======
   "execution_count": 3,
>>>>>>> 9362bc4 (Created cosine similarity function)
=======
   "execution_count": 3,
=======
<<<<<<< HEAD
   "execution_count": 5,
   "metadata": {},
   "outputs": [],
   "source": [
    "# Steps for preprocessing:\n",
    "# Tokenization?\n",
    "# Lower casing\n",
    "# Stop words removal\n",
    "# Stemming?\n",
    "# Lemmatization?\n",
    "# Bag of words/W2V, CBOW, Skip-gram\n",
    "# TF-IDF\n",
=======
<<<<<<< HEAD
   "execution_count": 5,
=======
   "execution_count": 3,
>>>>>>> ad328b5477adf323faf94410fe850a6ccc91dab0
>>>>>>> cbeea5afcc6933f91a4cf40673698d35cf2bf77e
>>>>>>> f5f8237d7c8594210bcf211b7ca04032696dc3a3
   "metadata": {},
   "outputs": [],
   "source": [
    "\n",
    "# Steps for preprocessing:\n",
    "    # Tokenization?\n",
    "    # Lower casing\n",
    "    # Stop words removal\n",
    "    # Stemming?\n",
    "    # Lemmatization?\n",
    "    # Bag of words/W2V, CBOW, Skip-gram\n",
    "    # TF-IDF\n",
<<<<<<< HEAD
<<<<<<< HEAD
>>>>>>> b3b2ca2 (Created cosine similarity function)
=======
>>>>>>> 9362bc4 (Created cosine similarity function)
=======
=======
>>>>>>> b7b2743fcd3b7ff463116b757e63659b0ded6016
>>>>>>> cbeea5afcc6933f91a4cf40673698d35cf2bf77e
>>>>>>> f5f8237d7c8594210bcf211b7ca04032696dc3a3
    "import pandas as pd\n",
    "from rapidfuzz import process, fuzz\n",
    "import matplotlib.pyplot as plt\n",
    "\n",
    "import numpy as np\n",
    "import nltk\n",
    "from nltk.corpus import stopwords\n",
    "from nltk.tokenize import word_tokenize\n",
    "from nltk.stem import WordNetLemmatizer\n",
    "from sklearn.feature_extraction.text import TfidfVectorizer\n",
    "from sklearn.metrics.pairwise import cosine_similarity"
   ]
  },
  {
   "cell_type": "code",
<<<<<<< HEAD
<<<<<<< HEAD
<<<<<<< HEAD
<<<<<<< HEAD
   "execution_count": 6,
=======
   "execution_count": 4,
>>>>>>> b3b2ca2 (Created cosine similarity function)
=======
   "execution_count": 6,
>>>>>>> ac4679f (enabled ngrams)
=======
   "execution_count": 4,
>>>>>>> 9362bc4 (Created cosine similarity function)
=======
   "execution_count": 4,
=======
<<<<<<< HEAD
   "execution_count": 6,
=======
<<<<<<< HEAD
   "execution_count": 6,
=======
   "execution_count": 4,
>>>>>>> ad328b5477adf323faf94410fe850a6ccc91dab0
>>>>>>> b7b2743fcd3b7ff463116b757e63659b0ded6016
>>>>>>> cbeea5afcc6933f91a4cf40673698d35cf2bf77e
>>>>>>> f5f8237d7c8594210bcf211b7ca04032696dc3a3
   "metadata": {},
   "outputs": [
    {
     "data": {
      "text/html": [
       "<div>\n",
       "<style scoped>\n",
       "    .dataframe tbody tr th:only-of-type {\n",
       "        vertical-align: middle;\n",
       "    }\n",
       "\n",
       "    .dataframe tbody tr th {\n",
       "        vertical-align: top;\n",
       "    }\n",
       "\n",
       "    .dataframe thead th {\n",
       "        text-align: right;\n",
       "    }\n",
       "</style>\n",
       "<table border=\"1\" class=\"dataframe\">\n",
       "  <thead>\n",
       "    <tr style=\"text-align: right;\">\n",
       "      <th></th>\n",
       "      <th>work_id</th>\n",
       "      <th>abstract_content</th>\n",
       "    </tr>\n",
       "  </thead>\n",
       "  <tbody>\n",
       "    <tr>\n",
       "      <th>0</th>\n",
       "      <td>W2089745446</td>\n",
       "      <td>The research access/impact problem arises beca...</td>\n",
       "    </tr>\n",
       "    <tr>\n",
       "      <th>1</th>\n",
       "      <td>W2100379340</td>\n",
       "      <td>Information technology (IT) acceptance researc...</td>\n",
       "    </tr>\n",
       "    <tr>\n",
       "      <th>2</th>\n",
       "      <td>W1981083189</td>\n",
       "      <td>Edward O. Wilson, in his famous work, Sociobio...</td>\n",
       "    </tr>\n",
       "    <tr>\n",
       "      <th>3</th>\n",
       "      <td>W1560783210</td>\n",
       "      <td>Open access (OA) is free, unrestricted access ...</td>\n",
       "    </tr>\n",
       "    <tr>\n",
       "      <th>4</th>\n",
       "      <td>W2463568293</td>\n",
       "      <td>Open access, open data, open source and other ...</td>\n",
       "    </tr>\n",
       "  </tbody>\n",
       "</table>\n",
       "</div>"
      ],
      "text/plain": [
       "       work_id                                   abstract_content\n",
       "0  W2089745446  The research access/impact problem arises beca...\n",
       "1  W2100379340  Information technology (IT) acceptance researc...\n",
       "2  W1981083189  Edward O. Wilson, in his famous work, Sociobio...\n",
       "3  W1560783210  Open access (OA) is free, unrestricted access ...\n",
       "4  W2463568293  Open access, open data, open source and other ..."
      ]
     },
<<<<<<< HEAD
<<<<<<< HEAD
<<<<<<< HEAD
<<<<<<< HEAD
     "execution_count": 6,
=======
     "execution_count": 4,
>>>>>>> b3b2ca2 (Created cosine similarity function)
=======
     "execution_count": 6,
>>>>>>> ac4679f (enabled ngrams)
=======
     "execution_count": 4,
>>>>>>> 9362bc4 (Created cosine similarity function)
=======
     "execution_count": 4,
=======
<<<<<<< HEAD
     "execution_count": 6,
=======
<<<<<<< HEAD
     "execution_count": 6,
=======
     "execution_count": 4,
>>>>>>> ad328b5477adf323faf94410fe850a6ccc91dab0
>>>>>>> b7b2743fcd3b7ff463116b757e63659b0ded6016
>>>>>>> cbeea5afcc6933f91a4cf40673698d35cf2bf77e
>>>>>>> f5f8237d7c8594210bcf211b7ca04032696dc3a3
     "metadata": {},
     "output_type": "execute_result"
    }
   ],
   "source": [
<<<<<<< HEAD
<<<<<<< HEAD
<<<<<<< HEAD
<<<<<<< HEAD
    "abstracts = pd.read_csv('../abstracts.csv')\n",
=======
    "abstracts = pd.read_csv('./abstracts.csv')\n",
>>>>>>> b3b2ca2 (Created cosine similarity function)
=======
    "abstracts = pd.read_csv('../abstracts.csv')\n",
>>>>>>> ac4679f (enabled ngrams)
=======
    "abstracts = pd.read_csv('./abstracts.csv')\n",
>>>>>>> 9362bc4 (Created cosine similarity function)
=======
    "abstracts = pd.read_csv('./abstracts.csv')\n",
=======
<<<<<<< HEAD
    "abstracts = pd.read_csv('../abstracts.csv')\n",
=======
<<<<<<< HEAD
    "abstracts = pd.read_csv('../abstracts.csv')\n",
=======
    "abstracts = pd.read_csv('./abstracts.csv')\n",
>>>>>>> ad328b5477adf323faf94410fe850a6ccc91dab0
>>>>>>> b7b2743fcd3b7ff463116b757e63659b0ded6016
>>>>>>> cbeea5afcc6933f91a4cf40673698d35cf2bf77e
>>>>>>> f5f8237d7c8594210bcf211b7ca04032696dc3a3
    "abstracts.columns = ['work_id', 'abstract_content']\n",
    "abstracts.head()"
   ]
  },
  {
   "cell_type": "code",
<<<<<<< HEAD
<<<<<<< HEAD
<<<<<<< HEAD
<<<<<<< HEAD
   "execution_count": 7,
=======
   "execution_count": 5,
>>>>>>> b3b2ca2 (Created cosine similarity function)
=======
   "execution_count": 7,
>>>>>>> ac4679f (enabled ngrams)
=======
   "execution_count": 5,
>>>>>>> 9362bc4 (Created cosine similarity function)
=======
   "execution_count": 5,
=======
<<<<<<< HEAD
   "execution_count": 7,
=======
<<<<<<< HEAD
   "execution_count": 7,
=======
   "execution_count": 5,
>>>>>>> ad328b5477adf323faf94410fe850a6ccc91dab0
>>>>>>> b7b2743fcd3b7ff463116b757e63659b0ded6016
>>>>>>> cbeea5afcc6933f91a4cf40673698d35cf2bf77e
>>>>>>> f5f8237d7c8594210bcf211b7ca04032696dc3a3
   "metadata": {},
   "outputs": [],
   "source": [
    "def text_similarity(text1, text2):\n",
    "    # Tokenize and lemmatize the texts\n",
    "    tokens1 = word_tokenize(text1)\n",
    "    tokens2 = word_tokenize(text2)\n",
    "    lemmatizer = WordNetLemmatizer()\n",
    "    tokens1 = [lemmatizer.lemmatize(token) for token in tokens1]\n",
    "    tokens2 = [lemmatizer.lemmatize(token) for token in tokens2]\n",
    "\n",
    "    # Remove stopwords\n",
    "    stop_words = stopwords.words('english')\n",
    "    tokens1 = [token for token in tokens1 if token not in stop_words]\n",
    "    tokens2 = [token for token in tokens2 if token not in stop_words]\n",
    "\n",
    "    # Create the TF-IDF vectors\n",
    "    vectorizer = TfidfVectorizer()\n",
    "    vector1 = vectorizer.fit_transform(tokens1)\n",
    "    vector2 = vectorizer.transform(tokens2)\n",
    "\n",
    "    # Calculate the cosine similarity\n",
    "    similarity = cosine_similarity(vector1, vector2, dense_output=True)\n",
    "    return similarity\n",
    "\n",
<<<<<<< HEAD
<<<<<<< HEAD
<<<<<<< HEAD
    "\n",
    "def cosine_match(target_ref: str, open_alex_works):\n",
=======
    "def cosine_match(target_ref:str, open_alex_works):\n",
>>>>>>> b3b2ca2 (Created cosine similarity function)
=======
    "def cosine_match(target_ref:str, open_alex_works):\n",
>>>>>>> 9362bc4 (Created cosine similarity function)
=======
    "def cosine_match(target_ref:str, open_alex_works):\n",
=======
<<<<<<< HEAD
    "\n",
    "def cosine_match(target_ref: str, open_alex_works):\n",
=======
    "def cosine_match(target_ref:str, open_alex_works):\n",
>>>>>>> b7b2743fcd3b7ff463116b757e63659b0ded6016
>>>>>>> cbeea5afcc6933f91a4cf40673698d35cf2bf77e
>>>>>>> f5f8237d7c8594210bcf211b7ca04032696dc3a3
    "    similarities = []\n",
    "    for i, work in open_alex_works.iterrows():\n",
    "        print(work)\n",
    "        similarity = text_similarity(target_ref, work['abstract_content'])\n",
<<<<<<< HEAD
<<<<<<< HEAD
<<<<<<< HEAD
    "        work_similarity = {work['work_id']: similarity}\n",
=======
    "        work_similarity = {\n",
    "                work['work_id']: similarity\n",
    "            }\n",
>>>>>>> b3b2ca2 (Created cosine similarity function)
=======
    "        work_similarity = {\n",
    "                work['work_id']: similarity\n",
    "            }\n",
=======
<<<<<<< HEAD
    "        work_similarity = {work['work_id']: similarity}\n",
>>>>>>> f5f8237d7c8594210bcf211b7ca04032696dc3a3
=======
    "        work_similarity = {\n",
    "                work['work_id']: similarity\n",
    "            }\n",
<<<<<<< HEAD
>>>>>>> 9362bc4 (Created cosine similarity function)
=======
>>>>>>> b7b2743fcd3b7ff463116b757e63659b0ded6016
>>>>>>> cbeea5afcc6933f91a4cf40673698d35cf2bf77e
>>>>>>> f5f8237d7c8594210bcf211b7ca04032696dc3a3
    "        similarities.append(work_similarity)\n",
    "        # print(work_similarity)\n",
    "    return similarities"
   ]
  },
  {
   "cell_type": "code",
<<<<<<< HEAD
<<<<<<< HEAD
<<<<<<< HEAD
<<<<<<< HEAD
   "execution_count": 8,
=======
   "execution_count": 6,
>>>>>>> b3b2ca2 (Created cosine similarity function)
=======
   "execution_count": 8,
>>>>>>> ac4679f (enabled ngrams)
=======
   "execution_count": 6,
>>>>>>> 9362bc4 (Created cosine similarity function)
=======
   "execution_count": 6,
=======
<<<<<<< HEAD
   "execution_count": 8,
=======
<<<<<<< HEAD
   "execution_count": 8,
=======
   "execution_count": 6,
>>>>>>> ad328b5477adf323faf94410fe850a6ccc91dab0
>>>>>>> b7b2743fcd3b7ff463116b757e63659b0ded6016
>>>>>>> cbeea5afcc6933f91a4cf40673698d35cf2bf77e
>>>>>>> f5f8237d7c8594210bcf211b7ca04032696dc3a3
   "metadata": {},
   "outputs": [
    {
     "data": {
      "text/plain": [
       "work_id                                                   W2089745446\n",
       "abstract_content    The research access/impact problem arises beca...\n",
       "Name: 0, dtype: object"
      ]
     },
<<<<<<< HEAD
<<<<<<< HEAD
<<<<<<< HEAD
<<<<<<< HEAD
     "execution_count": 8,
=======
     "execution_count": 6,
>>>>>>> b3b2ca2 (Created cosine similarity function)
=======
     "execution_count": 8,
>>>>>>> ac4679f (enabled ngrams)
=======
     "execution_count": 6,
>>>>>>> 9362bc4 (Created cosine similarity function)
=======
     "execution_count": 6,
=======
<<<<<<< HEAD
     "execution_count": 8,
=======
<<<<<<< HEAD
     "execution_count": 8,
=======
     "execution_count": 6,
>>>>>>> ad328b5477adf323faf94410fe850a6ccc91dab0
>>>>>>> b7b2743fcd3b7ff463116b757e63659b0ded6016
>>>>>>> cbeea5afcc6933f91a4cf40673698d35cf2bf77e
>>>>>>> f5f8237d7c8594210bcf211b7ca04032696dc3a3
     "metadata": {},
     "output_type": "execute_result"
    }
   ],
   "source": [
    "target_ref = [abstracts[0:1]]\n",
    "target_ref\n",
    "open_alex_works = abstracts\n",
    "open_alex_works['work_id']\n",
    "abstracts.iloc[0]\n"
   ]
  },
  {
   "cell_type": "code",
<<<<<<< HEAD
<<<<<<< HEAD
<<<<<<< HEAD
<<<<<<< HEAD
   "execution_count": 9,
=======
   "execution_count": 7,
>>>>>>> b3b2ca2 (Created cosine similarity function)
=======
   "execution_count": 9,
>>>>>>> ac4679f (enabled ngrams)
=======
   "execution_count": 7,
>>>>>>> 9362bc4 (Created cosine similarity function)
=======
   "execution_count": 7,
=======
<<<<<<< HEAD
   "execution_count": 9,
=======
<<<<<<< HEAD
   "execution_count": 9,
=======
   "execution_count": 7,
>>>>>>> ad328b5477adf323faf94410fe850a6ccc91dab0
>>>>>>> b7b2743fcd3b7ff463116b757e63659b0ded6016
>>>>>>> cbeea5afcc6933f91a4cf40673698d35cf2bf77e
>>>>>>> f5f8237d7c8594210bcf211b7ca04032696dc3a3
   "metadata": {},
   "outputs": [
    {
     "name": "stdout",
     "output_type": "stream",
     "text": [
      "W2089745446\n",
      "W2100379340\n",
      "W1981083189\n",
      "W1560783210\n",
      "W2463568293\n",
      "W2016860460\n",
      "W2160597895\n",
      "W2140880926\n",
      "W2145046628\n",
      "W1907242353\n",
      "W4229617755\n",
      "W4291732787\n",
      "W2952984634\n",
      "W2343014812\n",
      "W3121567788\n",
      "W2089123513\n",
      "W2100117397\n",
      "W2078310052\n",
      "W2023783748\n",
      "W2058954808\n",
      "W2345375849\n",
      "W1997125517\n",
      "W2006972602\n",
      "W2040069617\n",
      "W2020807482\n",
      "W2048185449\n",
      "W2322381034\n",
      "W2124116191\n",
      "W2950890478\n",
      "W2566143661\n",
      "W2069656088\n",
      "W1985814542\n",
      "W2231201268\n",
      "W2096345420\n",
      "W2054299130\n",
      "W2020123068\n",
      "W2010041172\n",
      "W2587705861\n",
      "W2951351472\n",
      "W2089604928\n",
      "W2063332351\n",
      "W2031754690\n",
      "W2088230841\n",
      "W2011443643\n",
      "W2134049161\n",
      "W2737712680\n",
      "W2003844967\n",
      "W1970217003\n",
      "W2088909840\n",
      "W2137725064\n",
      "W3147537460\n",
      "W1767272795\n",
      "W4240507605\n",
      "W2753353163\n",
      "W2061451796\n",
      "W2015134878\n",
      "W2563251083\n",
      "W1987360189\n",
      "W2953072907\n",
      "W2115339903\n",
      "W2511661767\n",
      "W2002034968\n",
      "W4254015553\n",
      "W1842065797\n",
      "W2306268324\n",
      "W2029057325\n",
      "W2785823074\n",
      "W2997143876\n",
      "W1976396629\n",
      "W1957687230\n",
      "W4232875366\n",
      "W2039146085\n",
      "W2520991028\n"
     ]
    }
   ],
   "source": [
    "for i, row in open_alex_works.iterrows():\n",
    "    print(row['work_id'])"
   ]
  },
  {
   "cell_type": "code",
<<<<<<< HEAD
<<<<<<< HEAD
<<<<<<< HEAD
<<<<<<< HEAD
   "execution_count": 11,
=======
   "execution_count": 8,
>>>>>>> b3b2ca2 (Created cosine similarity function)
=======
   "execution_count": 11,
>>>>>>> ac4679f (enabled ngrams)
=======
   "execution_count": 8,
>>>>>>> 9362bc4 (Created cosine similarity function)
=======
   "execution_count": 8,
=======
<<<<<<< HEAD
   "execution_count": 11,
=======
<<<<<<< HEAD
   "execution_count": 11,
=======
   "execution_count": 8,
>>>>>>> ad328b5477adf323faf94410fe850a6ccc91dab0
>>>>>>> b7b2743fcd3b7ff463116b757e63659b0ded6016
>>>>>>> cbeea5afcc6933f91a4cf40673698d35cf2bf77e
>>>>>>> f5f8237d7c8594210bcf211b7ca04032696dc3a3
   "metadata": {},
   "outputs": [
    {
     "name": "stdout",
     "output_type": "stream",
     "text": [
      "The research access/impact problem arises because journal articles are not accessible to all of their would-be users; hence, they are losing potential research impact. The solution is to make all articles Open Access (OA; i.e., accessible online, free for all). OA articles have significantly higher citation impact than non-OA articles. There are two roads to OA: the “golden” road (publish your article in an OA journal) and the “green” road (publish your article in a non-OA journal but also self-archive it in an OA archive). Only 5% of journals are gold, but over 90% are already green (i.e., they have given their authors the green light to self-archive); yet only about 10â€“20% of articles have been self-archived. To reach 100% OA, self-archiving needs to be mandated by researchers' employers and funders, as the United Kingdom and the United States have recently recommended, and universities need to implement that mandate. The research access/impact problem arises because journal articles are not accessible to all of their would-be users; hence, they are losing potential research impact. The solution is to make all articles open access (OA, i.e., accessible online, free for all). OA articles have significantly higher citation impact than non-OA articles. There are two roads to OA: the “golden” road (publish your article in an OA journal) and the “green” road (publish your article in a non-OA journal but also self-archive it in an OA archive). About 10% of journals are gold, but over 90% are already green (i.e., they have given their authors the green light to self-archive); yet only about 10–20% of articles have been self-archived. To reach 100% OA, self-archiving needs to be mandated by researchers’ employers and funders, as they are now increasingly beginning to do.\n"
     ]
    }
   ],
   "source": [
<<<<<<< HEAD
<<<<<<< HEAD
<<<<<<< HEAD
<<<<<<< HEAD
    "# full_df --> full_df [ abstract, oa_id] --> full_df [ abstract, oa_id, cosine_similarity] --> full_df [abstract, oa_id, author, journal, etc...]\n",
    "\n",
    "vectorizer = TfidfVectorizer()\n",
    "vectors = vectorizer.fit_transform(\n",
    "    abstracts['abstract_content'])  #input all document\n",
=======
    "full_df --> full_df [ abstract, oa_id] --> full_df [ abstract, oa_id, cosine_similarity] --> full_df [abstract, oa_id, author, journal, etc...]\n",
=======
    "# full_df --> full_df [ abstract, oa_id] --> full_df [ abstract, oa_id, cosine_similarity] --> full_df [abstract, oa_id, author, journal, etc...]\n",
>>>>>>> ac4679f (enabled ngrams)
=======
    "full_df --> full_df [ abstract, oa_id] --> full_df [ abstract, oa_id, cosine_similarity] --> full_df [abstract, oa_id, author, journal, etc...]\n",
>>>>>>> 9362bc4 (Created cosine similarity function)
=======
    "full_df --> full_df [ abstract, oa_id] --> full_df [ abstract, oa_id, cosine_similarity] --> full_df [abstract, oa_id, author, journal, etc...]\n",
=======
<<<<<<< HEAD
    "# full_df --> full_df [ abstract, oa_id] --> full_df [ abstract, oa_id, cosine_similarity] --> full_df [abstract, oa_id, author, journal, etc...]\n",
    "\n",
    "vectorizer = TfidfVectorizer()\n",
    "vectors = vectorizer.fit_transform(\n",
    "    abstracts['abstract_content'])  #input all document\n",
=======
<<<<<<< HEAD
    "# full_df --> full_df [ abstract, oa_id] --> full_df [ abstract, oa_id, cosine_similarity] --> full_df [abstract, oa_id, author, journal, etc...]\n",
=======
    "full_df --> full_df [ abstract, oa_id] --> full_df [ abstract, oa_id, cosine_similarity] --> full_df [abstract, oa_id, author, journal, etc...]\n",
>>>>>>> ad328b5477adf323faf94410fe850a6ccc91dab0
>>>>>>> cbeea5afcc6933f91a4cf40673698d35cf2bf77e
>>>>>>> f5f8237d7c8594210bcf211b7ca04032696dc3a3
    "\n",
    "\n",
    "\n",
    "\n",
    "\n",
    "vectorizer = TfidfVectorizer()\n",
    "vectors = vectorizer.fit_transform(abstracts['abstract_content']) #input all document\n",
<<<<<<< HEAD
<<<<<<< HEAD
>>>>>>> b3b2ca2 (Created cosine similarity function)
=======
>>>>>>> 9362bc4 (Created cosine similarity function)
=======
=======
>>>>>>> b7b2743fcd3b7ff463116b757e63659b0ded6016
>>>>>>> cbeea5afcc6933f91a4cf40673698d35cf2bf77e
>>>>>>> f5f8237d7c8594210bcf211b7ca04032696dc3a3
    "similarities = []\n",
    "# len(vectors)\n",
    "vectors[0]\n",
    "for i in range(len(abstracts)):\n",
<<<<<<< HEAD
<<<<<<< HEAD
=======
=======
>>>>>>> f5f8237d7c8594210bcf211b7ca04032696dc3a3
<<<<<<< HEAD
    "    #     cosine_similarity(np.array(vectors[0], vectors[i]))\n",
    "\n",
    "    #     # Calculate the cosine similarity between the vectors\n",
    "    similarity = [\n",
    "        abstracts.iloc[i]['work_id'],\n",
    "        cosine_similarity(vectors[0], vectors[i]),\n",
    "        abstracts.iloc[i]['abstract_content']\n",
    "    ]\n",
    "    #     # cosine_similarity(vectors[0], vectors[i]) for i in range ...\n",
    "    # cosine_similarity( np.array( vectors[index for query] , vectors[index for comparison] ) )\n",
    "\n",
    "    similarities.append(similarity)\n",
    "df = pd.DataFrame(similarities)\n",
    "df.columns = ['work_id', 'cosine_similarity', 'abstract_content']\n",
    "df\n",
    "print(abstracts.iloc[0]['abstract_content'],\n",
    "      abstracts.iloc[62]['abstract_content'])\n"
=======
<<<<<<< HEAD
=======
>>>>>>> 9362bc4 (Created cosine similarity function)
=======
>>>>>>> cbeea5afcc6933f91a4cf40673698d35cf2bf77e
>>>>>>> f5f8237d7c8594210bcf211b7ca04032696dc3a3
    "#     cosine_similarity(np.array(vectors[0], vectors[i]))\n",
    "\n",
    "#     # Calculate the cosine similarity between the vectors\n",
    "    similarity = [ abstracts.iloc[i]['work_id'],cosine_similarity(vectors[0], vectors[i]), abstracts.iloc[i]['abstract_content']] \n",
    "#     # cosine_similarity(vectors[0], vectors[i]) for i in range ... \n",
    "    # cosine_similarity( np.array( vectors[index for query] , vectors[index for comparison] ) )\n",
    "    \n",
    "    similarities.append(similarity)\n",
    "df = pd.DataFrame(similarities)\n",
    "df.columns = ['work_id', 'cosine_similarity','abstract_content']\n",
    "df\n",
    "print(abstracts.iloc[0]['abstract_content'], abstracts.iloc[62]['abstract_content'])\n"
<<<<<<< HEAD
<<<<<<< HEAD
>>>>>>> b3b2ca2 (Created cosine similarity function)
=======
>>>>>>> 9362bc4 (Created cosine similarity function)
=======
=======
>>>>>>> b7b2743fcd3b7ff463116b757e63659b0ded6016
>>>>>>> cbeea5afcc6933f91a4cf40673698d35cf2bf77e
>>>>>>> f5f8237d7c8594210bcf211b7ca04032696dc3a3
   ]
  },
  {
   "cell_type": "code",
<<<<<<< HEAD
<<<<<<< HEAD
<<<<<<< HEAD
<<<<<<< HEAD
   "execution_count": 12,
   "metadata": {},
   "outputs": [],
   "source": [
    "def rapidfuzz_match(extracted_references: list,\n",
    "                    openalex_works: list,\n",
    "                    scorer=fuzz.WRatio):\n",
=======
   "execution_count": 9,
=======
   "execution_count": 12,
>>>>>>> ac4679f (enabled ngrams)
=======
   "execution_count": 9,
>>>>>>> 9362bc4 (Created cosine similarity function)
=======
   "execution_count": 9,
=======
<<<<<<< HEAD
   "execution_count": 12,
   "metadata": {},
   "outputs": [],
   "source": [
    "def rapidfuzz_match(extracted_references: list,\n",
    "                    openalex_works: list,\n",
    "                    scorer=fuzz.WRatio):\n",
=======
<<<<<<< HEAD
   "execution_count": 12,
=======
   "execution_count": 9,
>>>>>>> ad328b5477adf323faf94410fe850a6ccc91dab0
>>>>>>> cbeea5afcc6933f91a4cf40673698d35cf2bf77e
>>>>>>> f5f8237d7c8594210bcf211b7ca04032696dc3a3
   "metadata": {},
   "outputs": [],
   "source": [
    "\n",
    "\n",
    "def rapidfuzz_match(extracted_references: list, openalex_works: list, scorer = fuzz.WRatio):\n",
<<<<<<< HEAD
<<<<<<< HEAD
>>>>>>> b3b2ca2 (Created cosine similarity function)
=======
>>>>>>> 9362bc4 (Created cosine similarity function)
=======
=======
>>>>>>> b7b2743fcd3b7ff463116b757e63659b0ded6016
>>>>>>> cbeea5afcc6933f91a4cf40673698d35cf2bf77e
>>>>>>> f5f8237d7c8594210bcf211b7ca04032696dc3a3
    "    top_match = []\n",
    "    second_match = []\n",
    "    third_match = []\n",
    "    top_names = []\n",
    "    top_scores = []\n",
    "    top_indexes = []\n",
    "    second_scores = []\n",
    "    second_indexes = []\n",
    "    second_names = []\n",
    "    choices = openalex_works\n",
    "    for i, reference in extracted_references.iterrows():\n",
    "        print(choices)\n",
    "        # possible scorers are fuzz.WRatio , fuzz.partial_ratio , fuzz.token_set_ratio , fuzz.partial_token_set_ratio , fuzz.token_sort_ratio\n",
<<<<<<< HEAD
<<<<<<< HEAD
<<<<<<< HEAD
    "        top, second, third = process.extract(reference['abstract_content'],\n",
    "                                             choices['abstract_content'],\n",
    "                                             scorer=scorer,\n",
    "                                             limit=3)\n",
=======
    "        top, second, third = process.extract(reference['abstract_content'], choices['abstract_content'], scorer=scorer, limit=3)\n",
>>>>>>> b3b2ca2 (Created cosine similarity function)
=======
    "        top, second, third = process.extract(reference['abstract_content'], choices['abstract_content'], scorer=scorer, limit=3)\n",
>>>>>>> 9362bc4 (Created cosine similarity function)
=======
    "        top, second, third = process.extract(reference['abstract_content'], choices['abstract_content'], scorer=scorer, limit=3)\n",
=======
<<<<<<< HEAD
    "        top, second, third = process.extract(reference['abstract_content'],\n",
    "                                             choices['abstract_content'],\n",
    "                                             scorer=scorer,\n",
    "                                             limit=3)\n",
=======
    "        top, second, third = process.extract(reference['abstract_content'], choices['abstract_content'], scorer=scorer, limit=3)\n",
>>>>>>> b7b2743fcd3b7ff463116b757e63659b0ded6016
>>>>>>> cbeea5afcc6933f91a4cf40673698d35cf2bf77e
>>>>>>> f5f8237d7c8594210bcf211b7ca04032696dc3a3
    "        top_score = top[1]\n",
    "        top_index = top[2]\n",
    "        top_name = top[0]\n",
    "        top_names.append(top_name)\n",
    "        top_scores.append(top_score)\n",
    "        top_indexes.append(top_index)\n",
    "        top_match.append(top)\n",
    "        second_match.append(second)\n",
    "        second_score = second[1]\n",
    "        second_index = second[2]\n",
    "        second_name = second[0]\n",
    "        second_names.append(second_name)\n",
    "        second_scores.append(second_score)\n",
    "        second_indexes.append(second_index)\n",
    "        third_match.append(third)\n",
<<<<<<< HEAD
<<<<<<< HEAD
<<<<<<< HEAD
    "    matched_df = pd.DataFrame(list(\n",
    "        zip(extracted_references, top_match, top_names, top_scores,\n",
    "            top_indexes, second_match, second_names, second_scores,\n",
    "            second_indexes, third_match)),\n",
    "                              columns=[\n",
    "                                  'extracted_reference', 'top_match',\n",
    "                                  'top_names', 'top_scores', 'top_indexes',\n",
    "                                  'second_match', 'second_names',\n",
    "                                  'second_scores', 'second_indexes',\n",
    "                                  'third_match'\n",
    "                              ])\n",
    "    return matched_df\n"
=======
    "    matched_df = pd.DataFrame(list(zip(extracted_references, top_match,top_names, top_scores, top_indexes, second_match, second_names, second_scores, second_indexes, third_match)), columns=['extracted_reference', 'top_match', 'top_names', 'top_scores', 'top_indexes', 'second_match', 'second_names', 'second_scores', 'second_indexes', 'third_match'])\n",
    "    return matched_df\n",
    "\n"
>>>>>>> b3b2ca2 (Created cosine similarity function)
=======
    "    matched_df = pd.DataFrame(list(zip(extracted_references, top_match,top_names, top_scores, top_indexes, second_match, second_names, second_scores, second_indexes, third_match)), columns=['extracted_reference', 'top_match', 'top_names', 'top_scores', 'top_indexes', 'second_match', 'second_names', 'second_scores', 'second_indexes', 'third_match'])\n",
    "    return matched_df\n",
    "\n"
=======
<<<<<<< HEAD
    "    matched_df = pd.DataFrame(list(\n",
    "        zip(extracted_references, top_match, top_names, top_scores,\n",
    "            top_indexes, second_match, second_names, second_scores,\n",
    "            second_indexes, third_match)),\n",
    "                              columns=[\n",
    "                                  'extracted_reference', 'top_match',\n",
    "                                  'top_names', 'top_scores', 'top_indexes',\n",
    "                                  'second_match', 'second_names',\n",
    "                                  'second_scores', 'second_indexes',\n",
    "                                  'third_match'\n",
    "                              ])\n",
    "    return matched_df\n"
>>>>>>> f5f8237d7c8594210bcf211b7ca04032696dc3a3
=======
    "    matched_df = pd.DataFrame(list(zip(extracted_references, top_match,top_names, top_scores, top_indexes, second_match, second_names, second_scores, second_indexes, third_match)), columns=['extracted_reference', 'top_match', 'top_names', 'top_scores', 'top_indexes', 'second_match', 'second_names', 'second_scores', 'second_indexes', 'third_match'])\n",
    "    return matched_df\n",
    "\n"
<<<<<<< HEAD
>>>>>>> 9362bc4 (Created cosine similarity function)
=======
>>>>>>> b7b2743fcd3b7ff463116b757e63659b0ded6016
>>>>>>> cbeea5afcc6933f91a4cf40673698d35cf2bf77e
>>>>>>> f5f8237d7c8594210bcf211b7ca04032696dc3a3
   ]
  },
  {
   "cell_type": "code",
<<<<<<< HEAD
<<<<<<< HEAD
<<<<<<< HEAD
<<<<<<< HEAD
   "execution_count": 13,
=======
   "execution_count": 10,
>>>>>>> b3b2ca2 (Created cosine similarity function)
=======
   "execution_count": 13,
>>>>>>> ac4679f (enabled ngrams)
=======
   "execution_count": 10,
>>>>>>> 9362bc4 (Created cosine similarity function)
=======
   "execution_count": 10,
=======
<<<<<<< HEAD
   "execution_count": 13,
=======
<<<<<<< HEAD
   "execution_count": 13,
=======
   "execution_count": 10,
>>>>>>> ad328b5477adf323faf94410fe850a6ccc91dab0
>>>>>>> b7b2743fcd3b7ff463116b757e63659b0ded6016
>>>>>>> cbeea5afcc6933f91a4cf40673698d35cf2bf77e
>>>>>>> f5f8237d7c8594210bcf211b7ca04032696dc3a3
   "metadata": {},
   "outputs": [
    {
     "data": {
      "text/plain": [
       "0      [[1.0000000000000002]]\n",
       "1      [[0.1056113022126066]]\n",
       "2      [[0.1116044104580543]]\n",
       "3     [[0.36970232453108803]]\n",
       "4     [[0.11496307286603752]]\n",
       "               ...           \n",
       "68    [[0.15248148115883478]]\n",
       "69    [[0.15785430458971297]]\n",
       "70     [[0.1757885292189339]]\n",
       "71    [[0.27067767027065537]]\n",
       "72    [[0.23102165000386224]]\n",
       "Name: cosine_similarity, Length: 73, dtype: object"
      ]
     },
<<<<<<< HEAD
<<<<<<< HEAD
<<<<<<< HEAD
<<<<<<< HEAD
     "execution_count": 13,
=======
     "execution_count": 10,
>>>>>>> b3b2ca2 (Created cosine similarity function)
=======
     "execution_count": 13,
>>>>>>> ac4679f (enabled ngrams)
=======
     "execution_count": 10,
>>>>>>> 9362bc4 (Created cosine similarity function)
=======
     "execution_count": 10,
=======
<<<<<<< HEAD
     "execution_count": 13,
=======
<<<<<<< HEAD
     "execution_count": 13,
=======
     "execution_count": 10,
>>>>>>> ad328b5477adf323faf94410fe850a6ccc91dab0
>>>>>>> b7b2743fcd3b7ff463116b757e63659b0ded6016
>>>>>>> cbeea5afcc6933f91a4cf40673698d35cf2bf77e
>>>>>>> f5f8237d7c8594210bcf211b7ca04032696dc3a3
     "metadata": {},
     "output_type": "execute_result"
    }
   ],
   "source": [
    "df['cosine_similarity']"
   ]
  },
  {
   "cell_type": "code",
<<<<<<< HEAD
<<<<<<< HEAD
<<<<<<< HEAD
<<<<<<< HEAD
=======
=======
<<<<<<< HEAD
=======
<<<<<<< HEAD
>>>>>>> b7b2743fcd3b7ff463116b757e63659b0ded6016
>>>>>>> f5f8237d7c8594210bcf211b7ca04032696dc3a3
   "execution_count": 22,
   "metadata": {},
   "outputs": [
    {
     "data": {
      "text/html": [
       "<div>\n",
       "<style scoped>\n",
       "    .dataframe tbody tr th:only-of-type {\n",
       "        vertical-align: middle;\n",
       "    }\n",
       "\n",
       "    .dataframe tbody tr th {\n",
       "        vertical-align: top;\n",
       "    }\n",
       "\n",
       "    .dataframe thead th {\n",
       "        text-align: right;\n",
       "    }\n",
       "</style>\n",
       "<table border=\"1\" class=\"dataframe\">\n",
       "  <thead>\n",
       "    <tr style=\"text-align: right;\">\n",
       "      <th></th>\n",
       "      <th>Unnamed: 0</th>\n",
       "      <th>work_id</th>\n",
       "      <th>cosine_similarity</th>\n",
       "      <th>abstract_content</th>\n",
       "    </tr>\n",
       "  </thead>\n",
       "  <tbody>\n",
       "    <tr>\n",
       "      <th>0</th>\n",
       "      <td>0</td>\n",
       "      <td>W2089745446</td>\n",
       "      <td>[[1.]]</td>\n",
       "      <td>The research access/impact problem arises beca...</td>\n",
       "    </tr>\n",
       "    <tr>\n",
       "      <th>1</th>\n",
       "      <td>62</td>\n",
       "      <td>W4254015553</td>\n",
       "      <td>[[0.91542839]]</td>\n",
       "      <td>The research access/impact problem arises beca...</td>\n",
       "    </tr>\n",
       "    <tr>\n",
       "      <th>2</th>\n",
       "      <td>25</td>\n",
       "      <td>W2048185449</td>\n",
       "      <td>[[0.44052165]]</td>\n",
       "      <td>Background Articles whose authors have supplem...</td>\n",
       "    </tr>\n",
       "    <tr>\n",
       "      <th>3</th>\n",
       "      <td>64</td>\n",
       "      <td>W2306268324</td>\n",
       "      <td>[[0.42718627]]</td>\n",
       "      <td>Open electronic access to scientific publicati...</td>\n",
       "    </tr>\n",
       "    <tr>\n",
       "      <th>4</th>\n",
       "      <td>24</td>\n",
       "      <td>W2020807482</td>\n",
       "      <td>[[0.38147169]]</td>\n",
       "      <td>As the number of Open Access (OA) journal arti...</td>\n",
       "    </tr>\n",
       "    <tr>\n",
       "      <th>...</th>\n",
       "      <td>...</td>\n",
       "      <td>...</td>\n",
       "      <td>...</td>\n",
       "      <td>...</td>\n",
       "    </tr>\n",
       "    <tr>\n",
       "      <th>68</th>\n",
       "      <td>13</td>\n",
       "      <td>W2343014812</td>\n",
       "      <td>[[0.09397782]]</td>\n",
       "      <td>Data from the controversial website Sci-Hub re...</td>\n",
       "    </tr>\n",
       "    <tr>\n",
       "      <th>69</th>\n",
       "      <td>9</td>\n",
       "      <td>W1907242353</td>\n",
       "      <td>[[0.08396956]]</td>\n",
       "      <td>Success in science is rewarded with attention....</td>\n",
       "    </tr>\n",
       "    <tr>\n",
       "      <th>70</th>\n",
       "      <td>30</td>\n",
       "      <td>W2069656088</td>\n",
       "      <td>[[0.07636567]]</td>\n",
       "      <td>Objectives To investigate whether longitudinal...</td>\n",
       "    </tr>\n",
       "    <tr>\n",
       "      <th>71</th>\n",
       "      <td>17</td>\n",
       "      <td>W2078310052</td>\n",
       "      <td>[[0.]]</td>\n",
       "      <td>フロリダ昆虫学会ではその学会誌Florida Entomologistの印刷版下ファイルから...</td>\n",
       "    </tr>\n",
       "    <tr>\n",
       "      <th>72</th>\n",
       "      <td>29</td>\n",
       "      <td>W2566143661</td>\n",
       "      <td>[[0.]]</td>\n",
       "      <td>Libraries pursue alternative delivery routes a...</td>\n",
       "    </tr>\n",
       "  </tbody>\n",
       "</table>\n",
       "<p>73 rows × 4 columns</p>\n",
       "</div>"
      ],
      "text/plain": [
       "    Unnamed: 0      work_id cosine_similarity  \\\n",
       "0            0  W2089745446            [[1.]]   \n",
       "1           62  W4254015553    [[0.91542839]]   \n",
       "2           25  W2048185449    [[0.44052165]]   \n",
       "3           64  W2306268324    [[0.42718627]]   \n",
       "4           24  W2020807482    [[0.38147169]]   \n",
       "..         ...          ...               ...   \n",
       "68          13  W2343014812    [[0.09397782]]   \n",
       "69           9  W1907242353    [[0.08396956]]   \n",
       "70          30  W2069656088    [[0.07636567]]   \n",
       "71          17  W2078310052            [[0.]]   \n",
       "72          29  W2566143661            [[0.]]   \n",
       "\n",
       "                                     abstract_content  \n",
       "0   The research access/impact problem arises beca...  \n",
       "1   The research access/impact problem arises beca...  \n",
       "2   Background Articles whose authors have supplem...  \n",
       "3   Open electronic access to scientific publicati...  \n",
       "4   As the number of Open Access (OA) journal arti...  \n",
       "..                                                ...  \n",
       "68  Data from the controversial website Sci-Hub re...  \n",
       "69  Success in science is rewarded with attention....  \n",
       "70  Objectives To investigate whether longitudinal...  \n",
       "71  フロリダ昆虫学会ではその学会誌Florida Entomologistの印刷版下ファイルから...  \n",
       "72  Libraries pursue alternative delivery routes a...  \n",
       "\n",
       "[73 rows x 4 columns]"
      ]
     },
     "execution_count": 22,
     "metadata": {},
     "output_type": "execute_result"
    }
   ],
   "source": [
    "import seaborn as sns\n",
<<<<<<< HEAD
    "\n",
    "pd.read_csv('../example_result.csv')\n"
=======
   "execution_count": 11,
=======
   "execution_count": 22,
>>>>>>> ac4679f (enabled ngrams)
   "metadata": {},
   "outputs": [
    {
     "data": {
      "text/html": [
       "<div>\n",
       "<style scoped>\n",
       "    .dataframe tbody tr th:only-of-type {\n",
       "        vertical-align: middle;\n",
       "    }\n",
       "\n",
       "    .dataframe tbody tr th {\n",
       "        vertical-align: top;\n",
       "    }\n",
       "\n",
       "    .dataframe thead th {\n",
       "        text-align: right;\n",
       "    }\n",
       "</style>\n",
       "<table border=\"1\" class=\"dataframe\">\n",
       "  <thead>\n",
       "    <tr style=\"text-align: right;\">\n",
       "      <th></th>\n",
       "      <th>Unnamed: 0</th>\n",
       "      <th>work_id</th>\n",
       "      <th>cosine_similarity</th>\n",
       "      <th>abstract_content</th>\n",
       "    </tr>\n",
       "  </thead>\n",
       "  <tbody>\n",
       "    <tr>\n",
       "      <th>0</th>\n",
       "      <td>0</td>\n",
       "      <td>W2089745446</td>\n",
       "      <td>[[1.]]</td>\n",
       "      <td>The research access/impact problem arises beca...</td>\n",
       "    </tr>\n",
       "    <tr>\n",
       "      <th>1</th>\n",
       "      <td>62</td>\n",
       "      <td>W4254015553</td>\n",
       "      <td>[[0.91542839]]</td>\n",
       "      <td>The research access/impact problem arises beca...</td>\n",
       "    </tr>\n",
       "    <tr>\n",
       "      <th>2</th>\n",
       "      <td>25</td>\n",
       "      <td>W2048185449</td>\n",
       "      <td>[[0.44052165]]</td>\n",
       "      <td>Background Articles whose authors have supplem...</td>\n",
       "    </tr>\n",
       "    <tr>\n",
       "      <th>3</th>\n",
       "      <td>64</td>\n",
       "      <td>W2306268324</td>\n",
       "      <td>[[0.42718627]]</td>\n",
       "      <td>Open electronic access to scientific publicati...</td>\n",
       "    </tr>\n",
       "    <tr>\n",
       "      <th>4</th>\n",
       "      <td>24</td>\n",
       "      <td>W2020807482</td>\n",
       "      <td>[[0.38147169]]</td>\n",
       "      <td>As the number of Open Access (OA) journal arti...</td>\n",
       "    </tr>\n",
       "    <tr>\n",
       "      <th>...</th>\n",
       "      <td>...</td>\n",
       "      <td>...</td>\n",
       "      <td>...</td>\n",
       "      <td>...</td>\n",
       "    </tr>\n",
       "    <tr>\n",
       "      <th>68</th>\n",
       "      <td>13</td>\n",
       "      <td>W2343014812</td>\n",
       "      <td>[[0.09397782]]</td>\n",
       "      <td>Data from the controversial website Sci-Hub re...</td>\n",
       "    </tr>\n",
       "    <tr>\n",
       "      <th>69</th>\n",
       "      <td>9</td>\n",
       "      <td>W1907242353</td>\n",
       "      <td>[[0.08396956]]</td>\n",
       "      <td>Success in science is rewarded with attention....</td>\n",
       "    </tr>\n",
       "    <tr>\n",
       "      <th>70</th>\n",
       "      <td>30</td>\n",
       "      <td>W2069656088</td>\n",
       "      <td>[[0.07636567]]</td>\n",
       "      <td>Objectives To investigate whether longitudinal...</td>\n",
       "    </tr>\n",
       "    <tr>\n",
       "      <th>71</th>\n",
       "      <td>17</td>\n",
       "      <td>W2078310052</td>\n",
       "      <td>[[0.]]</td>\n",
       "      <td>フロリダ昆虫学会ではその学会誌Florida Entomologistの印刷版下ファイルから...</td>\n",
       "    </tr>\n",
       "    <tr>\n",
       "      <th>72</th>\n",
       "      <td>29</td>\n",
       "      <td>W2566143661</td>\n",
       "      <td>[[0.]]</td>\n",
       "      <td>Libraries pursue alternative delivery routes a...</td>\n",
       "    </tr>\n",
       "  </tbody>\n",
       "</table>\n",
       "<p>73 rows × 4 columns</p>\n",
       "</div>"
      ],
      "text/plain": [
       "    Unnamed: 0      work_id cosine_similarity  \\\n",
       "0            0  W2089745446            [[1.]]   \n",
       "1           62  W4254015553    [[0.91542839]]   \n",
       "2           25  W2048185449    [[0.44052165]]   \n",
       "3           64  W2306268324    [[0.42718627]]   \n",
       "4           24  W2020807482    [[0.38147169]]   \n",
       "..         ...          ...               ...   \n",
       "68          13  W2343014812    [[0.09397782]]   \n",
       "69           9  W1907242353    [[0.08396956]]   \n",
       "70          30  W2069656088    [[0.07636567]]   \n",
       "71          17  W2078310052            [[0.]]   \n",
       "72          29  W2566143661            [[0.]]   \n",
       "\n",
       "                                     abstract_content  \n",
       "0   The research access/impact problem arises beca...  \n",
       "1   The research access/impact problem arises beca...  \n",
       "2   Background Articles whose authors have supplem...  \n",
       "3   Open electronic access to scientific publicati...  \n",
       "4   As the number of Open Access (OA) journal arti...  \n",
       "..                                                ...  \n",
       "68  Data from the controversial website Sci-Hub re...  \n",
       "69  Success in science is rewarded with attention....  \n",
       "70  Objectives To investigate whether longitudinal...  \n",
       "71  フロリダ昆虫学会ではその学会誌Florida Entomologistの印刷版下ファイルから...  \n",
       "72  Libraries pursue alternative delivery routes a...  \n",
       "\n",
       "[73 rows x 4 columns]"
      ]
     },
     "execution_count": 22,
     "metadata": {},
     "output_type": "execute_result"
    }
   ],
   "source": [
<<<<<<< HEAD
    "import seaborn as sns"
>>>>>>> b3b2ca2 (Created cosine similarity function)
=======
    "import seaborn as sns\n",
    "pd.read_csv('../example_result.csv')\n"
>>>>>>> ac4679f (enabled ngrams)
=======
=======
<<<<<<< HEAD
    "\n",
    "pd.read_csv('../example_result.csv')\n"
=======
    "pd.read_csv('../example_result.csv')\n"
=======
>>>>>>> cbeea5afcc6933f91a4cf40673698d35cf2bf77e
>>>>>>> f5f8237d7c8594210bcf211b7ca04032696dc3a3
   "execution_count": 11,
   "metadata": {},
   "outputs": [],
   "source": [
    "import seaborn as sns"
<<<<<<< HEAD
>>>>>>> 9362bc4 (Created cosine similarity function)
=======
<<<<<<< HEAD
=======
>>>>>>> ad328b5477adf323faf94410fe850a6ccc91dab0
>>>>>>> b7b2743fcd3b7ff463116b757e63659b0ded6016
>>>>>>> cbeea5afcc6933f91a4cf40673698d35cf2bf77e
>>>>>>> f5f8237d7c8594210bcf211b7ca04032696dc3a3
   ]
  },
  {
   "cell_type": "code",
<<<<<<< HEAD
<<<<<<< HEAD
<<<<<<< HEAD
<<<<<<< HEAD
   "execution_count": null,
=======
   "execution_count": 12,
>>>>>>> b3b2ca2 (Created cosine similarity function)
=======
   "execution_count": null,
>>>>>>> ac4679f (enabled ngrams)
=======
   "execution_count": 12,
>>>>>>> 9362bc4 (Created cosine similarity function)
=======
   "execution_count": 12,
=======
<<<<<<< HEAD
   "execution_count": null,
=======
<<<<<<< HEAD
   "execution_count": null,
=======
   "execution_count": 12,
>>>>>>> ad328b5477adf323faf94410fe850a6ccc91dab0
>>>>>>> b7b2743fcd3b7ff463116b757e63659b0ded6016
>>>>>>> cbeea5afcc6933f91a4cf40673698d35cf2bf77e
>>>>>>> f5f8237d7c8594210bcf211b7ca04032696dc3a3
   "metadata": {},
   "outputs": [
    {
     "data": {
      "text/plain": [
       "<Axes: ylabel='Count'>"
      ]
     },
     "execution_count": 12,
     "metadata": {},
     "output_type": "execute_result"
    },
    {
     "data": {
      "image/png": "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",
      "text/plain": [
       "<Figure size 640x480 with 1 Axes>"
      ]
     },
     "metadata": {},
     "output_type": "display_data"
    }
   ],
   "source": [
    "sns.histplot([i[0] for i in df['cosine_similarity']])"
   ]
  },
  {
   "cell_type": "code",
<<<<<<< HEAD
<<<<<<< HEAD
<<<<<<< HEAD
<<<<<<< HEAD
   "execution_count": null,
=======
   "execution_count": 13,
>>>>>>> b3b2ca2 (Created cosine similarity function)
=======
   "execution_count": null,
>>>>>>> ac4679f (enabled ngrams)
=======
   "execution_count": 13,
>>>>>>> 9362bc4 (Created cosine similarity function)
=======
   "execution_count": 13,
=======
<<<<<<< HEAD
   "execution_count": null,
=======
<<<<<<< HEAD
   "execution_count": null,
=======
   "execution_count": 13,
>>>>>>> ad328b5477adf323faf94410fe850a6ccc91dab0
>>>>>>> b7b2743fcd3b7ff463116b757e63659b0ded6016
>>>>>>> cbeea5afcc6933f91a4cf40673698d35cf2bf77e
>>>>>>> f5f8237d7c8594210bcf211b7ca04032696dc3a3
   "metadata": {},
   "outputs": [
    {
     "data": {
      "text/plain": [
       "<Axes: ylabel='count'>"
      ]
     },
     "execution_count": 13,
     "metadata": {},
     "output_type": "execute_result"
    },
    {
     "data": {
      "image/png": "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",
      "text/plain": [
       "<Figure size 640x480 with 1 Axes>"
      ]
     },
     "metadata": {},
     "output_type": "display_data"
    }
   ],
   "source": [
    "# target_ref = [abstracts[0:1]]\n",
    "# target_ref\n",
    "# open_alex_works = abstracts[1:]\n",
    "# open_alex_works['work_id']\n",
    "# abstracts.iloc[0]\n",
    "import seaborn as sns\n",
<<<<<<< HEAD
<<<<<<< HEAD
<<<<<<< HEAD
    "\n",
=======
>>>>>>> b3b2ca2 (Created cosine similarity function)
=======
>>>>>>> 9362bc4 (Created cosine similarity function)
=======
=======
<<<<<<< HEAD
    "\n",
=======
>>>>>>> b7b2743fcd3b7ff463116b757e63659b0ded6016
>>>>>>> cbeea5afcc6933f91a4cf40673698d35cf2bf77e
>>>>>>> f5f8237d7c8594210bcf211b7ca04032696dc3a3
    "sns.countplot([i[0] for i in df['cosine_similarity']])\n"
   ]
  },
  {
   "cell_type": "code",
<<<<<<< HEAD
<<<<<<< HEAD
<<<<<<< HEAD
<<<<<<< HEAD
   "execution_count": null,
=======
   "execution_count": 19,
>>>>>>> b3b2ca2 (Created cosine similarity function)
=======
   "execution_count": null,
>>>>>>> ac4679f (enabled ngrams)
=======
   "execution_count": 19,
>>>>>>> 9362bc4 (Created cosine similarity function)
=======
   "execution_count": 19,
=======
<<<<<<< HEAD
   "execution_count": null,
=======
<<<<<<< HEAD
   "execution_count": null,
=======
   "execution_count": 19,
>>>>>>> ad328b5477adf323faf94410fe850a6ccc91dab0
>>>>>>> b7b2743fcd3b7ff463116b757e63659b0ded6016
>>>>>>> cbeea5afcc6933f91a4cf40673698d35cf2bf77e
>>>>>>> f5f8237d7c8594210bcf211b7ca04032696dc3a3
   "metadata": {},
   "outputs": [
    {
     "data": {
      "text/plain": [
       "[1.0000000000000002,\n",
       " 0.1056113022126066,\n",
       " 0.1116044104580543,\n",
       " 0.36970232453108803,\n",
       " 0.11496307286603752,\n",
       " 0.27726339738030453,\n",
       " 0.17099164642744594,\n",
       " 0.3389740956792763,\n",
       " 0.1676089132006782,\n",
       " 0.08396956152739321,\n",
       " 0.15706369225272382,\n",
       " 0.13626135291712332,\n",
       " 0.12391312632678102,\n",
       " 0.09397782408723213,\n",
       " 0.1412852598374587,\n",
       " 0.30788778944055617,\n",
       " 0.17003296632284265,\n",
       " 0.0,\n",
       " 0.30535815929429827,\n",
       " 0.24000238510861596,\n",
       " 0.1791210936748695,\n",
       " 0.22465470774468285,\n",
       " 0.16928753734786095,\n",
       " 0.14187246626461947,\n",
       " 0.38147169486208915,\n",
       " 0.4405216499827809,\n",
       " 0.23314391513887542,\n",
       " 0.3002682922582057,\n",
       " 0.11139062571297954,\n",
       " 0.0,\n",
       " 0.07636566742680531,\n",
       " 0.1516235446341079,\n",
       " 0.1634290546789992,\n",
       " 0.21498022302298025,\n",
       " 0.19158462015806005,\n",
       " 0.2663562533338264,\n",
       " 0.1558522276109302,\n",
       " 0.1771393163267306,\n",
       " 0.14636333541661065,\n",
       " 0.3531910092743048,\n",
       " 0.10061068365680756,\n",
       " 0.34883908729400864,\n",
       " 0.30796688685774354,\n",
       " 0.2824627765860495,\n",
       " 0.11178898716484023,\n",
       " 0.13406492600857928,\n",
       " 0.22712420470984002,\n",
       " 0.1863955753756705,\n",
       " 0.14502127451350663,\n",
       " 0.14042285310680427,\n",
       " 0.13140704783815585,\n",
       " 0.11849175070977667,\n",
       " 0.1741143251755893,\n",
       " 0.2994089040591371,\n",
       " 0.13357218161705903,\n",
       " 0.16497172728353626,\n",
       " 0.18509368299447415,\n",
       " 0.14271191682763326,\n",
       " 0.1802187537394719,\n",
       " 0.3386663652991257,\n",
       " 0.2953441902652136,\n",
       " 0.24718440407215278,\n",
       " 0.9154283856277925,\n",
       " 0.19530804311823674,\n",
       " 0.42718627110615137,\n",
       " 0.2529881015130297,\n",
       " 0.16655969616723992,\n",
       " 0.22868653465520222,\n",
       " 0.15248148115883478,\n",
       " 0.15785430458971297,\n",
       " 0.1757885292189339,\n",
       " 0.27067767027065537,\n",
       " 0.23102165000386224]"
      ]
     },
     "execution_count": 19,
     "metadata": {},
     "output_type": "execute_result"
    }
   ],
   "source": [
    "[i[0][0] for i in df['cosine_similarity']]\n",
    "p"
   ]
  },
  {
   "cell_type": "code",
<<<<<<< HEAD
<<<<<<< HEAD
<<<<<<< HEAD
<<<<<<< HEAD
   "execution_count": null,
=======
   "execution_count": 22,
>>>>>>> b3b2ca2 (Created cosine similarity function)
=======
   "execution_count": null,
>>>>>>> ac4679f (enabled ngrams)
=======
   "execution_count": 22,
>>>>>>> 9362bc4 (Created cosine similarity function)
=======
   "execution_count": 22,
=======
<<<<<<< HEAD
   "execution_count": null,
=======
<<<<<<< HEAD
   "execution_count": null,
=======
   "execution_count": 22,
>>>>>>> ad328b5477adf323faf94410fe850a6ccc91dab0
>>>>>>> b7b2743fcd3b7ff463116b757e63659b0ded6016
>>>>>>> cbeea5afcc6933f91a4cf40673698d35cf2bf77e
>>>>>>> f5f8237d7c8594210bcf211b7ca04032696dc3a3
   "metadata": {},
   "outputs": [
    {
     "data": {
      "text/plain": [
       "(array([ 2.,  1.,  9., 16., 16.,  6.,  6.,  7.,  4.,  2.,  1.,  1.,  0.,\n",
       "         0.,  0.,  0.,  0.,  0.,  0.,  0.,  0.,  0.,  1.,  0.,  1.]),\n",
       " array([0.  , 0.04, 0.08, 0.12, 0.16, 0.2 , 0.24, 0.28, 0.32, 0.36, 0.4 ,\n",
       "        0.44, 0.48, 0.52, 0.56, 0.6 , 0.64, 0.68, 0.72, 0.76, 0.8 , 0.84,\n",
       "        0.88, 0.92, 0.96, 1.  ]),\n",
       " <BarContainer object of 25 artists>)"
      ]
     },
     "execution_count": 22,
     "metadata": {},
     "output_type": "execute_result"
    },
    {
     "data": {
      "image/png": "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",
      "text/plain": [
       "<Figure size 640x480 with 1 Axes>"
      ]
     },
     "metadata": {},
     "output_type": "display_data"
    }
   ],
   "source": [
<<<<<<< HEAD
<<<<<<< HEAD
<<<<<<< HEAD
    "plt.hist([i[0][0] for i in df['cosine_similarity']], bins=25)\n"
=======
    "plt.hist([i[0][0] for i in df['cosine_similarity']], bins=25\n",
    "        )"
>>>>>>> b3b2ca2 (Created cosine similarity function)
=======
    "plt.hist([i[0][0] for i in df['cosine_similarity']], bins=25\n",
    "        )"
>>>>>>> 9362bc4 (Created cosine similarity function)
=======
    "plt.hist([i[0][0] for i in df['cosine_similarity']], bins=25\n",
    "        )"
=======
<<<<<<< HEAD
    "plt.hist([i[0][0] for i in df['cosine_similarity']], bins=25)\n"
=======
    "plt.hist([i[0][0] for i in df['cosine_similarity']], bins=25\n",
    "        )"
>>>>>>> b7b2743fcd3b7ff463116b757e63659b0ded6016
>>>>>>> cbeea5afcc6933f91a4cf40673698d35cf2bf77e
>>>>>>> f5f8237d7c8594210bcf211b7ca04032696dc3a3
   ]
  },
  {
   "cell_type": "code",
<<<<<<< HEAD
<<<<<<< HEAD
<<<<<<< HEAD
<<<<<<< HEAD
   "execution_count": null,
=======
   "execution_count": 23,
>>>>>>> b3b2ca2 (Created cosine similarity function)
=======
   "execution_count": null,
>>>>>>> ac4679f (enabled ngrams)
=======
   "execution_count": 23,
>>>>>>> 9362bc4 (Created cosine similarity function)
=======
   "execution_count": 23,
=======
<<<<<<< HEAD
   "execution_count": null,
=======
<<<<<<< HEAD
   "execution_count": null,
=======
   "execution_count": 23,
>>>>>>> ad328b5477adf323faf94410fe850a6ccc91dab0
>>>>>>> b7b2743fcd3b7ff463116b757e63659b0ded6016
>>>>>>> cbeea5afcc6933f91a4cf40673698d35cf2bf77e
>>>>>>> f5f8237d7c8594210bcf211b7ca04032696dc3a3
   "metadata": {},
   "outputs": [
    {
     "data": {
      "text/html": [
       "<div>\n",
       "<style scoped>\n",
       "    .dataframe tbody tr th:only-of-type {\n",
       "        vertical-align: middle;\n",
       "    }\n",
       "\n",
       "    .dataframe tbody tr th {\n",
       "        vertical-align: top;\n",
       "    }\n",
       "\n",
       "    .dataframe thead th {\n",
       "        text-align: right;\n",
       "    }\n",
       "</style>\n",
       "<table border=\"1\" class=\"dataframe\">\n",
       "  <thead>\n",
       "    <tr style=\"text-align: right;\">\n",
       "      <th></th>\n",
       "      <th>work_id</th>\n",
       "      <th>cosine_similarity</th>\n",
       "      <th>abstract_content</th>\n",
       "    </tr>\n",
       "  </thead>\n",
       "  <tbody>\n",
       "    <tr>\n",
       "      <th>0</th>\n",
       "      <td>W2089745446</td>\n",
       "      <td>[[1.0000000000000002]]</td>\n",
       "      <td>The research access/impact problem arises beca...</td>\n",
       "    </tr>\n",
       "    <tr>\n",
       "      <th>62</th>\n",
       "      <td>W4254015553</td>\n",
       "      <td>[[0.9154283856277925]]</td>\n",
       "      <td>The research access/impact problem arises beca...</td>\n",
       "    </tr>\n",
       "    <tr>\n",
       "      <th>25</th>\n",
       "      <td>W2048185449</td>\n",
       "      <td>[[0.4405216499827809]]</td>\n",
       "      <td>Background Articles whose authors have supplem...</td>\n",
       "    </tr>\n",
       "    <tr>\n",
       "      <th>64</th>\n",
       "      <td>W2306268324</td>\n",
       "      <td>[[0.42718627110615137]]</td>\n",
       "      <td>Open electronic access to scientific publicati...</td>\n",
       "    </tr>\n",
       "    <tr>\n",
       "      <th>24</th>\n",
       "      <td>W2020807482</td>\n",
       "      <td>[[0.38147169486208915]]</td>\n",
       "      <td>As the number of Open Access (OA) journal arti...</td>\n",
       "    </tr>\n",
       "  </tbody>\n",
       "</table>\n",
       "</div>"
      ],
      "text/plain": [
       "        work_id        cosine_similarity  \\\n",
       "0   W2089745446   [[1.0000000000000002]]   \n",
       "62  W4254015553   [[0.9154283856277925]]   \n",
       "25  W2048185449   [[0.4405216499827809]]   \n",
       "64  W2306268324  [[0.42718627110615137]]   \n",
       "24  W2020807482  [[0.38147169486208915]]   \n",
       "\n",
       "                                     abstract_content  \n",
       "0   The research access/impact problem arises beca...  \n",
       "62  The research access/impact problem arises beca...  \n",
       "25  Background Articles whose authors have supplem...  \n",
       "64  Open electronic access to scientific publicati...  \n",
       "24  As the number of Open Access (OA) journal arti...  "
      ]
     },
     "execution_count": 23,
     "metadata": {},
     "output_type": "execute_result"
    }
   ],
   "source": [
    "pd.write_csv(df.sort_values(\"cosine_similarity\", ascending=False))"
   ]
  },
  {
   "cell_type": "code",
<<<<<<< HEAD
<<<<<<< HEAD
<<<<<<< HEAD
<<<<<<< HEAD
   "execution_count": null,
=======
   "execution_count": 317,
>>>>>>> b3b2ca2 (Created cosine similarity function)
=======
   "execution_count": null,
>>>>>>> ac4679f (enabled ngrams)
=======
   "execution_count": 317,
>>>>>>> 9362bc4 (Created cosine similarity function)
=======
   "execution_count": 317,
=======
<<<<<<< HEAD
   "execution_count": null,
=======
<<<<<<< HEAD
   "execution_count": null,
=======
   "execution_count": 317,
>>>>>>> ad328b5477adf323faf94410fe850a6ccc91dab0
>>>>>>> b7b2743fcd3b7ff463116b757e63659b0ded6016
>>>>>>> cbeea5afcc6933f91a4cf40673698d35cf2bf77e
>>>>>>> f5f8237d7c8594210bcf211b7ca04032696dc3a3
   "metadata": {},
   "outputs": [],
   "source": [
    "vectorizer = TfidfVectorizer(use_idf=False)\n",
<<<<<<< HEAD
<<<<<<< HEAD
<<<<<<< HEAD
    "vectors = vectorizer.fit_transform(\n",
    "    abstracts['abstract_content'])  #input all document\n",
=======
    "vectors = vectorizer.fit_transform(abstracts['abstract_content']) #input all document\n",
>>>>>>> b3b2ca2 (Created cosine similarity function)
=======
    "vectors = vectorizer.fit_transform(abstracts['abstract_content']) #input all document\n",
>>>>>>> 9362bc4 (Created cosine similarity function)
=======
    "vectors = vectorizer.fit_transform(abstracts['abstract_content']) #input all document\n",
=======
<<<<<<< HEAD
    "vectors = vectorizer.fit_transform(\n",
    "    abstracts['abstract_content'])  #input all document\n",
=======
    "vectors = vectorizer.fit_transform(abstracts['abstract_content']) #input all document\n",
>>>>>>> b7b2743fcd3b7ff463116b757e63659b0ded6016
>>>>>>> cbeea5afcc6933f91a4cf40673698d35cf2bf77e
>>>>>>> f5f8237d7c8594210bcf211b7ca04032696dc3a3
    "similarities = []\n",
    "# len(vectors)\n",
    "vectors[0]\n",
    "for i in range(len(abstracts)):\n",
<<<<<<< HEAD
<<<<<<< HEAD
=======
=======
>>>>>>> f5f8237d7c8594210bcf211b7ca04032696dc3a3
<<<<<<< HEAD
    "    #     cosine_similarity(np.array(vectors[0], vectors[i]))\n",
    "\n",
    "    #     # Calculate the cosine similarity between the vectors\n",
    "    similarity = [\n",
    "        abstracts.iloc[i]['work_id'],\n",
    "        cosine_similarity(vectors[0], vectors[i]),\n",
    "        abstracts.iloc[i]['abstract_content']\n",
    "    ]\n",
    "    #     # cosine_similarity(vectors[0], vectors[i]) for i in range ...\n",
    "    # cosine_similarity( np.array( vectors[index for query] , vectors[index for comparison] ) )\n",
    "\n",
    "    similarities.append(similarity)\n",
    "df1 = pd.DataFrame(similarities)\n",
    "df1.columns = ['work_id', 'cosine_similarity', 'abstract_content']\n",
    "df1.sort_values('cosine_similarity',\n",
    "                ascending=False).to_csv('example_results_noIDF.csv')\n"
=======
<<<<<<< HEAD
=======
>>>>>>> 9362bc4 (Created cosine similarity function)
=======
>>>>>>> cbeea5afcc6933f91a4cf40673698d35cf2bf77e
>>>>>>> f5f8237d7c8594210bcf211b7ca04032696dc3a3
    "#     cosine_similarity(np.array(vectors[0], vectors[i]))\n",
    "\n",
    "#     # Calculate the cosine similarity between the vectors\n",
    "    similarity = [ abstracts.iloc[i]['work_id'],cosine_similarity(vectors[0], vectors[i]), abstracts.iloc[i]['abstract_content']] \n",
    "#     # cosine_similarity(vectors[0], vectors[i]) for i in range ... \n",
    "    # cosine_similarity( np.array( vectors[index for query] , vectors[index for comparison] ) )\n",
    "    \n",
    "    similarities.append(similarity)\n",
    "df1 = pd.DataFrame(similarities)\n",
    "df1.columns = ['work_id', 'cosine_similarity','abstract_content']\n",
    "df1.sort_values('cosine_similarity', ascending=False).to_csv('example_results_noIDF.csv')\n"
<<<<<<< HEAD
<<<<<<< HEAD
>>>>>>> b3b2ca2 (Created cosine similarity function)
=======
>>>>>>> 9362bc4 (Created cosine similarity function)
=======
=======
>>>>>>> b7b2743fcd3b7ff463116b757e63659b0ded6016
>>>>>>> cbeea5afcc6933f91a4cf40673698d35cf2bf77e
>>>>>>> f5f8237d7c8594210bcf211b7ca04032696dc3a3
   ]
  },
  {
   "cell_type": "code",
<<<<<<< HEAD
<<<<<<< HEAD
<<<<<<< HEAD
<<<<<<< HEAD
   "execution_count": null,
=======
   "execution_count": 318,
>>>>>>> b3b2ca2 (Created cosine similarity function)
=======
   "execution_count": null,
>>>>>>> ac4679f (enabled ngrams)
=======
   "execution_count": 318,
>>>>>>> 9362bc4 (Created cosine similarity function)
=======
   "execution_count": 318,
=======
<<<<<<< HEAD
   "execution_count": null,
=======
<<<<<<< HEAD
   "execution_count": null,
=======
   "execution_count": 318,
>>>>>>> ad328b5477adf323faf94410fe850a6ccc91dab0
>>>>>>> b7b2743fcd3b7ff463116b757e63659b0ded6016
>>>>>>> cbeea5afcc6933f91a4cf40673698d35cf2bf77e
>>>>>>> f5f8237d7c8594210bcf211b7ca04032696dc3a3
   "metadata": {},
   "outputs": [
    {
     "data": {
      "text/plain": [
       "(array([ 2.,  0.,  0.,  0.,  0.,  0.,  0.,  1.,  5.,  4., 18., 14., 12.,\n",
       "         5.,  2.,  6.,  1.,  1.,  0.,  0.,  0.,  0.,  0.,  1.,  1.]),\n",
       " array([0.  , 0.04, 0.08, 0.12, 0.16, 0.2 , 0.24, 0.28, 0.32, 0.36, 0.4 ,\n",
       "        0.44, 0.48, 0.52, 0.56, 0.6 , 0.64, 0.68, 0.72, 0.76, 0.8 , 0.84,\n",
       "        0.88, 0.92, 0.96, 1.  ]),\n",
       " <BarContainer object of 25 artists>)"
      ]
     },
     "execution_count": 318,
     "metadata": {},
     "output_type": "execute_result"
    },
    {
     "data": {
      "image/png": "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",
      "text/plain": [
       "<Figure size 640x480 with 1 Axes>"
      ]
     },
     "metadata": {},
     "output_type": "display_data"
    }
   ],
   "source": [
    "plt.hist([i[0][0] for i in df1['cosine_similarity']], bins=25)"
   ]
<<<<<<< HEAD
<<<<<<< HEAD
<<<<<<< HEAD
=======
=======
>>>>>>> f5f8237d7c8594210bcf211b7ca04032696dc3a3
<<<<<<< HEAD
  },
  {
   "cell_type": "code",
   "execution_count": 53,
=======
<<<<<<< HEAD
=======
<<<<<<< HEAD
>>>>>>> f5f8237d7c8594210bcf211b7ca04032696dc3a3
  },
  {
   "cell_type": "code",
   "execution_count": 58,
<<<<<<< HEAD
>>>>>>> ac4679f (enabled ngrams)
=======
>>>>>>> b7b2743fcd3b7ff463116b757e63659b0ded6016
>>>>>>> f5f8237d7c8594210bcf211b7ca04032696dc3a3
   "metadata": {},
   "outputs": [],
   "source": [
    "from sklearn.feature_extraction.text import TfidfVectorizer\n",
    "\n",
<<<<<<< HEAD
    "\n",
    "def cosine_match(target_ref: str,\n",
    "                 open_alex_works: list,\n",
    "                 n_grams=(1, 2),\n",
    "                 use_idf=False):\n",
=======
    "def cosine_match(target_ref:str, open_alex_works: list, n_grams=(1,2), use_idf=False):\n",
<<<<<<< HEAD
>>>>>>> ac4679f (enabled ngrams)
=======
>>>>>>> b7b2743fcd3b7ff463116b757e63659b0ded6016
>>>>>>> f5f8237d7c8594210bcf211b7ca04032696dc3a3
    "\n",
    "    similarities = []\n",
    "    vectorizer = TfidfVectorizer(use_idf=use_idf, ngram_range=n_grams)\n",
    "    vectors = vectorizer.fit_transform(open_alex_works['abstracts'])\n",
    "    target_vector = vectorizer.transform(target_ref['abstracts'])\n",
    "\n",
    "    for i in range(len(open_alex_works)):\n",
<<<<<<< HEAD
    "        #     cosine_similarity(np.array(vectors[0], vectors[i]))\n",
    "\n",
    "        #     # Calculate the cosine similarity between the vectors\n",
    "        similarity = [\n",
    "            open_alex_works.iloc[i]['oa_id'], open_alex_works.iloc[i]['year'],\n",
    "            open_alex_works.iloc[i]['journal_issnl'],\n",
    "            open_alex_works.iloc[i]['authors'],\n",
    "            open_alex_works.iloc[i]['abstracts'],\n",
    "            cosine_similarity(target_vector, vectors[i])\n",
    "        ]\n",
    "        #     # cosine_similarity(vectors[0], vectors[i]) for i in range ...\n",
    "        # cosine_similarity( np.array( vectors[index for query] , vectors[index for comparison] ) )\n",
    "\n",
    "        similarities.append(similarity)\n",
    "    similarities = pd.DataFrame(similarities)\n",
    "    similarities.columns = [\n",
    "        'oa_id', 'year', 'journal_issnl', 'authors', 'abstracts', 'cos_sim'\n",
    "    ]\n",
=======
    "#     cosine_similarity(np.array(vectors[0], vectors[i]))\n",
    "\n",
    "#     # Calculate the cosine similarity between the vectors\n",
    "        similarity = [open_alex_works.iloc[i]['oa_id'], open_alex_works.iloc[i]['abstracts'],cosine_similarity(target_vector, vectors[i])]\n",
    "#     # cosine_similarity(vectors[0], vectors[i]) for i in range ...\n",
    "    # cosine_similarity( np.array( vectors[index for query] , vectors[index for comparison] ) )\n",
    "\n",
    "        similarities.append(similarity)\n",
<<<<<<< HEAD
>>>>>>> ac4679f (enabled ngrams)
=======
>>>>>>> b7b2743fcd3b7ff463116b757e63659b0ded6016
>>>>>>> f5f8237d7c8594210bcf211b7ca04032696dc3a3
    "    return similarities"
   ]
  },
  {
   "cell_type": "code",
<<<<<<< HEAD
   "execution_count": 48,
   "metadata": {},
   "outputs": [],
   "source": [
    "df_all = pd.read_csv('../abstracts_from_W4383896166.csv')\n",
    "df_onlyabstracts = df_all[df_all['abstracts'].notnull()]\n"
=======
   "execution_count": 65,
   "metadata": {},
   "outputs": [
    {
     "data": {
      "text/html": [
       "<div>\n",
       "<style scoped>\n",
       "    .dataframe tbody tr th:only-of-type {\n",
       "        vertical-align: middle;\n",
       "    }\n",
       "\n",
       "    .dataframe tbody tr th {\n",
       "        vertical-align: top;\n",
       "    }\n",
       "\n",
       "    .dataframe thead th {\n",
       "        text-align: right;\n",
       "    }\n",
       "</style>\n",
       "<table border=\"1\" class=\"dataframe\">\n",
       "  <thead>\n",
       "    <tr style=\"text-align: right;\">\n",
       "      <th></th>\n",
       "      <th>oa_id</th>\n",
       "      <th>abstracts</th>\n",
       "    </tr>\n",
       "  </thead>\n",
       "  <tbody>\n",
       "    <tr>\n",
       "      <th>597</th>\n",
       "      <td>W4383896166</td>\n",
       "      <td>Ethnic boundary crossing takes two different f...</td>\n",
       "    </tr>\n",
       "  </tbody>\n",
       "</table>\n",
       "</div>"
      ],
      "text/plain": [
       "           oa_id                                          abstracts\n",
       "597  W4383896166  Ethnic boundary crossing takes two different f..."
      ]
     },
     "execution_count": 65,
     "metadata": {},
     "output_type": "execute_result"
    }
   ],
   "source": [
    "df_all = pd.read_csv('../abstracts_from_W4383896166.csv')\n",
    "\n",
    "df_onlyabstracts = df_all[df_all['abstracts'].notnull()]\n",
    "\n",
    "\n"
<<<<<<< HEAD
>>>>>>> ac4679f (enabled ngrams)
=======
>>>>>>> b7b2743fcd3b7ff463116b757e63659b0ded6016
>>>>>>> f5f8237d7c8594210bcf211b7ca04032696dc3a3
   ]
  },
  {
   "cell_type": "code",
<<<<<<< HEAD
   "execution_count": 54,
   "metadata": {},
   "outputs": [],
   "source": [
    "target_ref = df_onlyabstracts[df_onlyabstracts['abstracts'].str.contains(\n",
    "    'Ethnic boundary crossing')]\n",
    "open_alex_works = df_onlyabstracts\n",
    "matches_df = cosine_match(target_ref, open_alex_works)\n",
=======
   "execution_count": 66,
   "metadata": {},
   "outputs": [],
   "source": [
    "target_ref = df_onlyabstracts[df_onlyabstracts['abstracts'].str.contains('Ethnic boundary crossing')]\n",
    "open_alex_works = df_onlyabstracts\n",
    "matches_df = pd.DataFrame(cosine_match(target_ref, open_alex_works, n_grams=(1,1)))\n",
    "matches_df.columns = ['oa_id','abstracts','ngram_range=(1,1)']\n",
    "matches_df2 = pd.DataFrame(cosine_match(target_ref, open_alex_works, n_grams=(1,2)))\n",
    "matches_df2.columns = ['oa_id','abstract','ngram_range=(1,2)']\n",
    "matches_df3 = pd.DataFrame(cosine_match(target_ref, open_alex_works, n_grams=(1,3)))\n",
    "matches_df3.columns = ['oa_id','abstract','ngram_range=(1,3)']\n",
    "matches_df4 = pd.DataFrame(cosine_match(target_ref, open_alex_works, n_grams=(1,1), use_idf=True))\n",
    "matches_df4.columns = ['oa_id','abstract','idf=true']\n",
    "\n",
    "matches_df['ngram_range=(1,2)'] = matches_df2['ngram_range=(1,2)']\n",
    "matches_df['ngram_range=(1,3)'] = matches_df3['ngram_range=(1,3)']\n",
    "matches_df['idf=true'] = matches_df4['idf=true']\n",
<<<<<<< HEAD
>>>>>>> ac4679f (enabled ngrams)
=======
>>>>>>> b7b2743fcd3b7ff463116b757e63659b0ded6016
>>>>>>> f5f8237d7c8594210bcf211b7ca04032696dc3a3
    "# next steps:\n",
    "#   column with author\n",
    "#   columns with top match from restricted and matching score"
   ]
<<<<<<< HEAD
=======
<<<<<<< HEAD
>>>>>>> b3b2ca2 (Created cosine similarity function)
=======
>>>>>>> ac4679f (enabled ngrams)
=======
>>>>>>> 9362bc4 (Created cosine similarity function)
=======
=======
>>>>>>> ad328b5477adf323faf94410fe850a6ccc91dab0
>>>>>>> b7b2743fcd3b7ff463116b757e63659b0ded6016
>>>>>>> cbeea5afcc6933f91a4cf40673698d35cf2bf77e
>>>>>>> f5f8237d7c8594210bcf211b7ca04032696dc3a3
  }
 ],
 "metadata": {
  "kernelspec": {
   "display_name": "Python 3 (ipykernel)",
   "language": "python",
   "name": "python3"
  },
  "language_info": {
   "codemirror_mode": {
    "name": "ipython",
    "version": 3
   },
   "file_extension": ".py",
   "mimetype": "text/x-python",
   "name": "python",
   "nbconvert_exporter": "python",
   "pygments_lexer": "ipython3",
   "version": "3.10.6"
  }
 },
 "nbformat": 4,
 "nbformat_minor": 4
}
