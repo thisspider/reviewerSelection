{
 "cells": [
  {
   "cell_type": "code",
   "execution_count": 1,
   "metadata": {},
   "outputs": [],
   "source": [
    "import os \n",
    "import requests "
   ]
  },
  {
   "cell_type": "code",
   "execution_count": 2,
   "metadata": {},
   "outputs": [],
   "source": [
    "pmids ='19008416,18927361,18787170,18487186,18239126,18239125'\n",
    "\n",
    "base_url = \"https://eutils.ncbi.nlm.nih.gov/entrez/eutils/\"\n"
   ]
  },
  {
   "cell_type": "code",
   "execution_count": 3,
   "metadata": {},
   "outputs": [
    {
     "data": {
      "text/plain": [
       "{'header': {'type': 'esearch', 'version': '0.3'},\n",
       " 'esearchresult': {'count': '6',\n",
       "  'retmax': '6',\n",
       "  'retstart': '0',\n",
       "  'idlist': ['19008416',\n",
       "   '18927361',\n",
       "   '18787170',\n",
       "   '18487186',\n",
       "   '18239126',\n",
       "   '18239125'],\n",
       "  'translationset': [],\n",
       "  'querytranslation': '19008416,18927361,18787170,18487186,18239126,18239125[UID]'}}"
      ]
     },
     "execution_count": 3,
     "metadata": {},
     "output_type": "execute_result"
    }
   ],
   "source": [
    "query = base_url + \"esearch.fcgi?db=pubmed&retmode=json&term=\" + pmids\n",
    "\n",
    "tmp = requests.get(query)\n",
    "tmp.json()"
   ]
  },
  {
   "cell_type": "code",
   "execution_count": 88,
   "metadata": {},
   "outputs": [],
   "source": [
    "url = \"https://eutils.ncbi.nlm.nih.gov/entrez/eutils/esummary.fcgi\"\n",
    "params =  {\n",
    "        'db': 'pubmed',\n",
    "        'retmode': 'json',\n",
    "        'id': pmids\n",
    "    }\n",
    "\n",
    "tmp2 = requests.get(url, params)\n",
    "res = tmp2.json()"
   ]
  },
  {
   "cell_type": "code",
   "execution_count": 89,
   "metadata": {},
   "outputs": [
    {
     "name": "stdout",
     "output_type": "stream",
     "text": [
      "dict_keys(['uid', 'pubdate', 'epubdate', 'source', 'authors', 'lastauthor', 'title', 'sorttitle', 'volume', 'issue', 'pages', 'lang', 'nlmuniqueid', 'issn', 'essn', 'pubtype', 'recordstatus', 'pubstatus', 'articleids', 'history', 'references', 'attributes', 'pmcrefcount', 'fulljournalname', 'elocationid', 'doctype', 'srccontriblist', 'booktitle', 'medium', 'edition', 'publisherlocation', 'publishername', 'srcdate', 'reportnumber', 'availablefromurl', 'locationlabel', 'doccontriblist', 'docdate', 'bookname', 'chapter', 'sortpubdate', 'sortfirstauthor', 'vernaculartitle'])\n"
     ]
    },
    {
     "data": {
      "text/plain": [
       "{'uid': '19008416',\n",
       " 'pubdate': '2008 Dec 12',\n",
       " 'epubdate': '2008 Nov 13',\n",
       " 'source': 'Science',\n",
       " 'authors': [{'name': 'Varambally S', 'authtype': 'Author', 'clusterid': ''},\n",
       "  {'name': 'Cao Q', 'authtype': 'Author', 'clusterid': ''},\n",
       "  {'name': 'Mani RS', 'authtype': 'Author', 'clusterid': ''},\n",
       "  {'name': 'Shankar S', 'authtype': 'Author', 'clusterid': ''},\n",
       "  {'name': 'Wang X', 'authtype': 'Author', 'clusterid': ''},\n",
       "  {'name': 'Ateeq B', 'authtype': 'Author', 'clusterid': ''},\n",
       "  {'name': 'Laxman B', 'authtype': 'Author', 'clusterid': ''},\n",
       "  {'name': 'Cao X', 'authtype': 'Author', 'clusterid': ''},\n",
       "  {'name': 'Jing X', 'authtype': 'Author', 'clusterid': ''},\n",
       "  {'name': 'Ramnarayanan K', 'authtype': 'Author', 'clusterid': ''},\n",
       "  {'name': 'Brenner JC', 'authtype': 'Author', 'clusterid': ''},\n",
       "  {'name': 'Yu J', 'authtype': 'Author', 'clusterid': ''},\n",
       "  {'name': 'Kim JH', 'authtype': 'Author', 'clusterid': ''},\n",
       "  {'name': 'Han B', 'authtype': 'Author', 'clusterid': ''},\n",
       "  {'name': 'Tan P', 'authtype': 'Author', 'clusterid': ''},\n",
       "  {'name': 'Kumar-Sinha C', 'authtype': 'Author', 'clusterid': ''},\n",
       "  {'name': 'Lonigro RJ', 'authtype': 'Author', 'clusterid': ''},\n",
       "  {'name': 'Palanisamy N', 'authtype': 'Author', 'clusterid': ''},\n",
       "  {'name': 'Maher CA', 'authtype': 'Author', 'clusterid': ''},\n",
       "  {'name': 'Chinnaiyan AM', 'authtype': 'Author', 'clusterid': ''}],\n",
       " 'lastauthor': 'Chinnaiyan AM',\n",
       " 'title': 'Genomic loss of microRNA-101 leads to overexpression of histone methyltransferase EZH2 in cancer.',\n",
       " 'sorttitle': 'genomic loss of microrna 101 leads to overexpression of histone methyltransferase ezh2 in cancer',\n",
       " 'volume': '322',\n",
       " 'issue': '5908',\n",
       " 'pages': '1695-9',\n",
       " 'lang': ['eng'],\n",
       " 'nlmuniqueid': '0404511',\n",
       " 'issn': '0036-8075',\n",
       " 'essn': '1095-9203',\n",
       " 'pubtype': ['Journal Article'],\n",
       " 'recordstatus': 'PubMed - indexed for MEDLINE',\n",
       " 'pubstatus': '256',\n",
       " 'articleids': [{'idtype': 'pubmed', 'idtypen': 1, 'value': '19008416'},\n",
       "  {'idtype': 'mid', 'idtypen': 8, 'value': 'NIHMS104414'},\n",
       "  {'idtype': 'pmc', 'idtypen': 8, 'value': 'PMC2684823'},\n",
       "  {'idtype': 'pmcid',\n",
       "   'idtypen': 5,\n",
       "   'value': 'pmc-id: PMC2684823;manuscript-id: NIHMS104414;'},\n",
       "  {'idtype': 'doi', 'idtypen': 3, 'value': '10.1126/science.1165395'},\n",
       "  {'idtype': 'pii', 'idtypen': 4, 'value': '1165395'}],\n",
       " 'history': [{'pubstatus': 'entrez', 'date': '2008/11/15 09:00'},\n",
       "  {'pubstatus': 'pubmed', 'date': '2008/11/15 09:00'},\n",
       "  {'pubstatus': 'medline', 'date': '2009/01/06 09:00'}],\n",
       " 'references': [],\n",
       " 'attributes': ['Has Abstract'],\n",
       " 'pmcrefcount': 29,\n",
       " 'fulljournalname': 'Science (New York, N.Y.)',\n",
       " 'elocationid': 'doi: 10.1126/science.1165395',\n",
       " 'doctype': 'citation',\n",
       " 'srccontriblist': [],\n",
       " 'booktitle': '',\n",
       " 'medium': '',\n",
       " 'edition': '',\n",
       " 'publisherlocation': '',\n",
       " 'publishername': '',\n",
       " 'srcdate': '',\n",
       " 'reportnumber': '',\n",
       " 'availablefromurl': '',\n",
       " 'locationlabel': '',\n",
       " 'doccontriblist': [],\n",
       " 'docdate': '',\n",
       " 'bookname': '',\n",
       " 'chapter': '',\n",
       " 'sortpubdate': '2008/12/12 00:00',\n",
       " 'sortfirstauthor': 'Varambally S',\n",
       " 'vernaculartitle': ''}"
      ]
     },
     "execution_count": 89,
     "metadata": {},
     "output_type": "execute_result"
    }
   ],
   "source": [
    "print(res[\"result\"][\"19008416\"].keys())\n",
    "res[\"result\"][\"19008416\"]"
   ]
  },
  {
   "cell_type": "code",
   "execution_count": null,
   "metadata": {},
   "outputs": [],
   "source": []
  },
  {
   "cell_type": "markdown",
   "metadata": {},
   "source": [
    "### create query function "
   ]
  },
  {
   "cell_type": "code",
   "execution_count": 42,
   "metadata": {},
   "outputs": [],
   "source": [
    "pmids ='19008416,18927361,18787170,18487186,18239126,18239125'\n",
    "api_key=os.environ.get(\"NCBI_API_KEY\", None)\n",
    "base_url = \"https://eutils.ncbi.nlm.nih.gov/entrez/eutils/efetch.fcgi\""
   ]
  },
  {
   "cell_type": "code",
   "execution_count": 171,
   "metadata": {},
   "outputs": [
    {
     "data": {
      "text/plain": [
       "'<?xml version=\"1.0\" ?>\\n<!DOCTYPE PubmedArticleSet PUBLIC \"-//NLM//DTD PubMedArticle, 1st January 2023//EN\" \"https://dtd.nlm.nih.gov/ncbi/pubmed/out/pubmed_230101.dtd\">\\n<PubmedArticleSet>\\n<PubmedArticle><MedlineCitation Status=\"MEDLINE\" Owner=\"NLM\"><PMID Version=\"1\">19008416</PMID><DateCompleted><Year>2009</Year><Month>01</Month><Day>05</Day></DateCompleted><DateRevised><Year>2022</Year><Month>04</Month><Day>10</Day></DateRevised><Article PubModel=\"Print-Electronic\"><Journal><ISSN IssnType=\"Electronic\">1095-9203</ISSN><JournalIssue CitedMedium=\"Internet\"><Volume>322</Volume><Issue>5908</Issue><PubDate><Year>2008</Year><Month>Dec</Month><Day>12</Day></PubDate></JournalIssue><Title>Science (New York, N.Y.)</Title><ISOAbbreviation>Science</ISOAbbreviation></Journal><ArticleTitle>Genomic loss of microRNA-101 leads to overexpression of histone methyltransferase EZH2 in cancer.</ArticleTitle><Pagination><StartPage>1695</StartPage><EndPage>1699</EndPage><MedlinePgn>1695-9</MedlinePgn></Pagination><ELocationID EIdType=\"doi\" ValidYN=\"Y\">10.1126/science.1165395</ELocationID><Abstract><AbstractText>Enhancer of zeste homolog 2 (EZH2) is a mammalian histone methyltransferase that contributes to the epigenetic silencing of target genes and regulates the survival and metastasis of cancer cells. EZH2 is overexpressed in aggressive solid tumors by mechanisms that remain unclear. Here we show that the expression and function of EZH2 in cancer cell lines are inhibited by microRNA-101 (miR-101). Analysis of human prostate tumors revealed that miR-101 expression decreases during cancer progression, paralleling an increase in EZH2 expression. One or both of the two genomic loci encoding miR-101 were somatically lost in 37.5% of clinically localized prostate cancer cells (6 of 16) and 66.7% of metastatic disease cells (22 of 33). We propose that the genomic loss of miR-101 in cancer leads to overexpression of EZH2 and concomitant dysregulation of epigenetic pathways, resulting in cancer progression.</AbstractText></Abstract><AuthorList CompleteYN=\"Y\"><Author ValidYN=\"Y\"><LastName>Varambally</LastName><ForeName>Sooryanarayana</ForeName><Initials>S</Initials><AffiliationInfo><Affiliation>Michigan Center for Translational Pathology, University of Michigan Medical School, Ann Arbor, MI 48109, USA.</Affiliation></AffiliationInfo></Author><Author ValidYN=\"Y\"><LastName>Cao</LastName><ForeName>Qi</ForeName><Initials>Q</Initials></Author><Author ValidYN=\"Y\"><LastName>Mani</LastName><ForeName>Ram-Shankar</ForeName><Initials>RS</Initials></Author><Author ValidYN=\"Y\"><LastName>Shankar</LastName><ForeName>Sunita</ForeName><Initials>S</Initials></Author><Author ValidYN=\"Y\"><LastName>Wang</LastName><ForeName>Xiaosong</ForeName><Initials>X</Initials></Author><Author ValidYN=\"Y\"><LastName>Ateeq</LastName><ForeName>Bushra</ForeName><Initials>B</Initials></Author><Author ValidYN=\"Y\"><LastName>Laxman</LastName><ForeName>Bharathi</ForeName><Initials>B</Initials></Author><Author ValidYN=\"Y\"><LastName>Cao</LastName><ForeName>Xuhong</ForeName><Initials>X</Initials></Author><Author ValidYN=\"Y\"><LastName>Jing</LastName><ForeName>Xiaojun</ForeName><Initials>X</Initials></Author><Author ValidYN=\"Y\"><LastName>Ramnarayanan</LastName><ForeName>Kalpana</ForeName><Initials>K</Initials></Author><Author ValidYN=\"Y\"><LastName>Brenner</LastName><ForeName>J Chad</ForeName><Initials>JC</Initials></Author><Author ValidYN=\"Y\"><LastName>Yu</LastName><ForeName>Jindan</ForeName><Initials>J</Initials></Author><Author ValidYN=\"Y\"><LastName>Kim</LastName><ForeName>Jung H</ForeName><Initials>JH</Initials></Author><Author ValidYN=\"Y\"><LastName>Han</LastName><ForeName>Bo</ForeName><Initials>B</Initials></Author><Author ValidYN=\"Y\"><LastName>Tan</LastName><ForeName>Patrick</ForeName><Initials>P</Initials></Author><Author ValidYN=\"Y\"><LastName>Kumar-Sinha</LastName><ForeName>Chandan</ForeName><Initials>C</Initials></Author><Author ValidYN=\"Y\"><LastName>Lonigro</LastName><ForeName>Robert J</ForeName><Initials>RJ</Initials></Author><Author ValidYN=\"Y\"><LastName>Palanisamy</LastName><ForeName>Nallasivam</ForeName><Initials>N</Initials></Author><Author ValidYN=\"Y\"><LastName>Maher</LastName><ForeName>Christopher A</ForeName><Initials>CA</Initials></Author><Author ValidYN=\"Y\"><LastName>Chinnaiyan</LastName><ForeName>Arul M</ForeName><Initials>AM</Initials></Author></AuthorList><Language>eng</Language><DataBankList CompleteYN=\"Y\"><DataBank><DataBankName>GEO</DataBankName><AccessionNumberList><AccessionNumber>GSE13286</AccessionNumber></AccessionNumberList></DataBank></DataBankList><GrantList CompleteYN=\"Y\"><Grant><GrantID>UO1 111275</GrantID><Agency>PHS HHS</Agency><Country>United States</Country></Grant><Grant><GrantID>P50CA69568</GrantID><Acronym>CA</Acronym><Agency>NCI NIH HHS</Agency><Country>United States</Country></Grant><Grant><GrantID>K99 CA129565</GrantID><Acronym>CA</Acronym><Agency>NCI NIH HHS</Agency><Country>United States</Country></Grant><Grant><GrantID>P50 CA069568</GrantID><Acronym>CA</Acronym><Agency>NCI NIH HHS</Agency><Country>United States</Country></Grant><Grant><GrantID>U01 CA111275-04</GrantID><Acronym>CA</Acronym><Agency>NCI NIH HHS</Agency><Country>United States</Country></Grant><Grant><GrantID>P50 CA069568-06A10016</GrantID><Acronym>CA</Acronym><Agency>NCI NIH HHS</Agency><Country>United States</Country></Grant><Grant><GrantID>K99 CA129565-01A1</GrantID><Acronym>CA</Acronym><Agency>NCI NIH HHS</Agency><Country>United States</Country></Grant><Grant><GrantID>U01 CA111275</GrantID><Acronym>CA</Acronym><Agency>NCI NIH HHS</Agency><Country>United States</Country></Grant></GrantList><PublicationTypeList><PublicationType UI=\"D016428\">Journal Article</PublicationType><PublicationType UI=\"D052061\">Research Support, N.I.H., Extramural</PublicationType><PublicationType UI=\"D013485\">Research Support, Non-U.S. Gov\\'t</PublicationType><PublicationType UI=\"D013486\">Research Support, U.S. Gov\\'t, Non-P.H.S.</PublicationType></PublicationTypeList><ArticleDate DateType=\"Electronic\"><Year>2008</Year><Month>11</Month><Day>13</Day></ArticleDate></Article><MedlineJournalInfo><Country>United States</Country><MedlineTA>Science</MedlineTA><NlmUniqueID>0404511</NlmUniqueID><ISSNLinking>0036-8075</ISSNLinking></MedlineJournalInfo><ChemicalList><Chemical><RegistryNumber>0</RegistryNumber><NameOfSubstance UI=\"D020413\">3\\' Untranslated Regions</NameOfSubstance></Chemical><Chemical><RegistryNumber>0</RegistryNumber><NameOfSubstance UI=\"D004268\">DNA-Binding Proteins</NameOfSubstance></Chemical><Chemical><RegistryNumber>0</RegistryNumber><NameOfSubstance UI=\"D006657\">Histones</NameOfSubstance></Chemical><Chemical><RegistryNumber>0</RegistryNumber><NameOfSubstance UI=\"C534072\">MIRN101 microRNA, human</NameOfSubstance></Chemical><Chemical><RegistryNumber>0</RegistryNumber><NameOfSubstance UI=\"D035683\">MicroRNAs</NameOfSubstance></Chemical><Chemical><RegistryNumber>0</RegistryNumber><NameOfSubstance UI=\"D034741\">RNA, Small Interfering</NameOfSubstance></Chemical><Chemical><RegistryNumber>0</RegistryNumber><NameOfSubstance UI=\"D014157\">Transcription Factors</NameOfSubstance></Chemical><Chemical><RegistryNumber>EC 2.1.1.43</RegistryNumber><NameOfSubstance UI=\"C498409\">EZH2 protein, human</NameOfSubstance></Chemical><Chemical><RegistryNumber>EC 2.1.1.43</RegistryNumber><NameOfSubstance UI=\"D000071221\">Enhancer of Zeste Homolog 2 Protein</NameOfSubstance></Chemical><Chemical><RegistryNumber>EC 2.1.1.43</RegistryNumber><NameOfSubstance UI=\"D063151\">Polycomb Repressive Complex 2</NameOfSubstance></Chemical><Chemical><RegistryNumber>K3Z4F929H6</RegistryNumber><NameOfSubstance UI=\"D008239\">Lysine</NameOfSubstance></Chemical></ChemicalList><CitationSubset>IM</CitationSubset><MeshHeadingList><MeshHeading><DescriptorName UI=\"D020413\" MajorTopicYN=\"N\">3\\' Untranslated Regions</DescriptorName></MeshHeading><MeshHeading><DescriptorName UI=\"D000465\" MajorTopicYN=\"N\">Algorithms</DescriptorName></MeshHeading><MeshHeading><DescriptorName UI=\"D001943\" MajorTopicYN=\"N\">Breast Neoplasms</DescriptorName><QualifierName UI=\"Q000235\" MajorTopicYN=\"N\">genetics</QualifierName><QualifierName UI=\"Q000378\" MajorTopicYN=\"N\">metabolism</QualifierName></MeshHeading><MeshHeading><DescriptorName UI=\"D045744\" MajorTopicYN=\"N\">Cell Line, Tumor</DescriptorName></MeshHeading><MeshHeading><DescriptorName UI=\"D004268\" MajorTopicYN=\"N\">DNA-Binding Proteins</DescriptorName><QualifierName UI=\"Q000235\" MajorTopicYN=\"Y\">genetics</QualifierName><QualifierName UI=\"Q000378\" MajorTopicYN=\"N\">metabolism</QualifierName></MeshHeading><MeshHeading><DescriptorName UI=\"D018450\" MajorTopicYN=\"N\">Disease Progression</DescriptorName></MeshHeading><MeshHeading><DescriptorName UI=\"D000071221\" MajorTopicYN=\"N\">Enhancer of Zeste Homolog 2 Protein</DescriptorName></MeshHeading><MeshHeading><DescriptorName UI=\"D044127\" MajorTopicYN=\"N\">Epigenesis, Genetic</DescriptorName></MeshHeading><MeshHeading><DescriptorName UI=\"D005260\" MajorTopicYN=\"N\">Female</DescriptorName></MeshHeading><MeshHeading><DescriptorName UI=\"D015972\" MajorTopicYN=\"Y\">Gene Expression Regulation, Neoplastic</DescriptorName></MeshHeading><MeshHeading><DescriptorName UI=\"D015894\" MajorTopicYN=\"N\">Genome, Human</DescriptorName></MeshHeading><MeshHeading><DescriptorName UI=\"D006657\" MajorTopicYN=\"N\">Histones</DescriptorName><QualifierName UI=\"Q000378\" MajorTopicYN=\"Y\">metabolism</QualifierName></MeshHeading><MeshHeading><DescriptorName UI=\"D006801\" MajorTopicYN=\"N\">Humans</DescriptorName></MeshHeading><MeshHeading><DescriptorName UI=\"D008239\" MajorTopicYN=\"N\">Lysine</DescriptorName><QualifierName UI=\"Q000378\" MajorTopicYN=\"N\">metabolism</QualifierName></MeshHeading><MeshHeading><DescriptorName UI=\"D008297\" MajorTopicYN=\"N\">Male</DescriptorName></MeshHeading><MeshHeading><DescriptorName UI=\"D008745\" MajorTopicYN=\"N\">Methylation</DescriptorName></MeshHeading><MeshHeading><DescriptorName UI=\"D035683\" MajorTopicYN=\"N\">MicroRNAs</DescriptorName><QualifierName UI=\"Q000235\" MajorTopicYN=\"Y\">genetics</QualifierName><QualifierName UI=\"Q000378\" MajorTopicYN=\"N\">metabolism</QualifierName></MeshHeading><MeshHeading><DescriptorName UI=\"D009362\" MajorTopicYN=\"N\">Neoplasm Metastasis</DescriptorName></MeshHeading><MeshHeading><DescriptorName UI=\"D009369\" MajorTopicYN=\"N\">Neoplasms</DescriptorName><QualifierName UI=\"Q000235\" MajorTopicYN=\"Y\">genetics</QualifierName><QualifierName UI=\"Q000378\" MajorTopicYN=\"N\">metabolism</QualifierName></MeshHeading><MeshHeading><DescriptorName UI=\"D063151\" MajorTopicYN=\"N\">Polycomb Repressive Complex 2</DescriptorName></MeshHeading><MeshHeading><DescriptorName UI=\"D011401\" MajorTopicYN=\"N\">Promoter Regions, Genetic</DescriptorName></MeshHeading><MeshHeading><DescriptorName UI=\"D011471\" MajorTopicYN=\"N\">Prostatic Neoplasms</DescriptorName><QualifierName UI=\"Q000235\" MajorTopicYN=\"Y\">genetics</QualifierName><QualifierName UI=\"Q000378\" MajorTopicYN=\"N\">metabolism</QualifierName><QualifierName UI=\"Q000473\" MajorTopicYN=\"N\">pathology</QualifierName></MeshHeading><MeshHeading><DescriptorName UI=\"D034741\" MajorTopicYN=\"N\">RNA, Small Interfering</DescriptorName><QualifierName UI=\"Q000235\" MajorTopicYN=\"N\">genetics</QualifierName></MeshHeading><MeshHeading><DescriptorName UI=\"D013274\" MajorTopicYN=\"N\">Stomach Neoplasms</DescriptorName><QualifierName UI=\"Q000235\" MajorTopicYN=\"N\">genetics</QualifierName><QualifierName UI=\"Q000378\" MajorTopicYN=\"N\">metabolism</QualifierName></MeshHeading><MeshHeading><DescriptorName UI=\"D014157\" MajorTopicYN=\"N\">Transcription Factors</DescriptorName><QualifierName UI=\"Q000235\" MajorTopicYN=\"Y\">genetics</QualifierName><QualifierName UI=\"Q000378\" MajorTopicYN=\"N\">metabolism</QualifierName></MeshHeading></MeshHeadingList></MedlineCitation><PubmedData><History><PubMedPubDate PubStatus=\"entrez\"><Year>2008</Year><Month>11</Month><Day>15</Day><Hour>9</Hour><Minute>0</Minute></PubMedPubDate><PubMedPubDate PubStatus=\"pubmed\"><Year>2008</Year><Month>11</Month><Day>15</Day><Hour>9</Hour><Minute>0</Minute></PubMedPubDate><PubMedPubDate PubStatus=\"medline\"><Year>2009</Year><Month>1</Month><Day>6</Day><Hour>9</Hour><Minute>0</Minute></PubMedPubDate></History><PublicationStatus>ppublish</PublicationStatus><ArticleIdList><ArticleId IdType=\"pubmed\">19008416</ArticleId><ArticleId IdType=\"mid\">NIHMS104414</ArticleId><ArticleId IdType=\"pmc\">PMC2684823</ArticleId><ArticleId IdType=\"doi\">10.1126/science.1165395</ArticleId><ArticleId IdType=\"pii\">1165395</ArticleId></ArticleIdList><ReferenceList><Reference><Citation>Boyer LA, et al. Nature. 2006 May 18;441:349.</Citation><ArticleIdList><ArticleId IdType=\"pubmed\">16625203</ArticleId></ArticleIdList></Reference><Reference><Citation>Lee TI, et al. Cell. 2006 Apr 21;125:301.</Citation><ArticleIdList><ArticleId IdType=\"pmc\">PMC3773330</ArticleId><ArticleId IdType=\"pubmed\">16630818</ArticleId></ArticleIdList></Reference><Reference><Citation>Sher F, et al. Stem Cells. 2008 Aug 7;</Citation></Reference><Reference><Citation>Varambally S, et al. Nature. 2002;419:624.</Citation><ArticleIdList><ArticleId IdType=\"pubmed\">12374981</ArticleId></ArticleIdList></Reference><Reference><Citation>Bracken AP, et al. EMBO J. 2003 Oct 15;22:5323.</Citation><ArticleIdList><ArticleId IdType=\"pmc\">PMC213796</ArticleId><ArticleId IdType=\"pubmed\">14532106</ArticleId></ArticleIdList></Reference><Reference><Citation>Erhardt S, et al. Development. 2003 Sep;130:4235.</Citation><ArticleIdList><ArticleId IdType=\"pubmed\">12900441</ArticleId></ArticleIdList></Reference><Reference><Citation>Plath K, et al. Science. 2003 Apr 4;300:131.</Citation><ArticleIdList><ArticleId IdType=\"pubmed\">12649488</ArticleId></ArticleIdList></Reference><Reference><Citation>Cao R, et al. Science. 2002;298:1039.</Citation><ArticleIdList><ArticleId IdType=\"pubmed\">12351676</ArticleId></ArticleIdList></Reference><Reference><Citation>Kuzmichev A, Nishioka K, Erdjument-Bromage H, Tempst P, Reinberg D. Genes Dev. 2002 Nov 15;16:2893.</Citation><ArticleIdList><ArticleId IdType=\"pmc\">PMC187479</ArticleId><ArticleId IdType=\"pubmed\">12435631</ArticleId></ArticleIdList></Reference><Reference><Citation>Yu J, et al. Cancer Cell. 2007 Nov;12:419.</Citation><ArticleIdList><ArticleId IdType=\"pubmed\">17996646</ArticleId></ArticleIdList></Reference><Reference><Citation>Cao Q, et al. Oncogene. 2008</Citation></Reference><Reference><Citation>Kleer CG, et al. Proc Natl Acad Sci U S A. 2003 Sep 30;100:11606.</Citation><ArticleIdList><ArticleId IdType=\"pmc\">PMC208805</ArticleId><ArticleId IdType=\"pubmed\">14500907</ArticleId></ArticleIdList></Reference><Reference><Citation>Croonquist PA, Van Ness B. Oncogene. 2005 Sep 15;24:6269.</Citation><ArticleIdList><ArticleId IdType=\"pubmed\">16007202</ArticleId></ArticleIdList></Reference><Reference><Citation>Takeshita F, et al. Proc Natl Acad Sci U S A. 2005 Aug 23;102:12177.</Citation><ArticleIdList><ArticleId IdType=\"pmc\">PMC1183487</ArticleId><ArticleId IdType=\"pubmed\">16091473</ArticleId></ArticleIdList></Reference><Reference><Citation>Bachmann IM, et al. J Clin Oncol. 2006 Jan 10;24:268.</Citation><ArticleIdList><ArticleId IdType=\"pubmed\">16330673</ArticleId></ArticleIdList></Reference><Reference><Citation>Weikert S, et al. Int J Mol Med. 2005 Aug;16:349.</Citation><ArticleIdList><ArticleId IdType=\"pubmed\">16012774</ArticleId></ArticleIdList></Reference><Reference><Citation>Matsukawa Y, et al. Cancer Sci. 2006 Jun;97:484.</Citation><ArticleIdList><ArticleId IdType=\"pubmed\">16734726</ArticleId></ArticleIdList></Reference><Reference><Citation>Lewis BP, Burge CB, Bartel DP. Cell. 2005 Jan 14;120:15.</Citation><ArticleIdList><ArticleId IdType=\"pubmed\">15652477</ArticleId></ArticleIdList></Reference><Reference><Citation>Marson A, et al. Cell. 2008 Aug 8;134:521.</Citation><ArticleIdList><ArticleId IdType=\"pmc\">PMC2586071</ArticleId><ArticleId IdType=\"pubmed\">18692474</ArticleId></ArticleIdList></Reference><Reference><Citation>Sethupathy P, Megraw M, Hatzigeorgiou AG. Nat Methods. 2006 Nov;3:881.</Citation><ArticleIdList><ArticleId IdType=\"pubmed\">17060911</ArticleId></ArticleIdList></Reference><Reference><Citation>Krek A, et al. Nat Genet. 2005 May;37:495.</Citation><ArticleIdList><ArticleId IdType=\"pubmed\">15806104</ArticleId></ArticleIdList></Reference><Reference><Citation>Lewis BP, Shih IH, Jones-Rhoades MW, Bartel DP, Burge CB. Cell. 2003 Dec 26;115:787.</Citation><ArticleIdList><ArticleId IdType=\"pubmed\">14697198</ArticleId></ArticleIdList></Reference><Reference><Citation>John B, et al. PLoS Biol. 2004 Nov;2:e363.</Citation><ArticleIdList><ArticleId IdType=\"pmc\">PMC521178</ArticleId><ArticleId IdType=\"pubmed\">15502875</ArticleId></ArticleIdList></Reference><Reference><Citation>Rusinov V, Baev V, Minkov IN, Tabler M. Nucleic Acids Res. 2005 Jul 1;33:W696.</Citation><ArticleIdList><ArticleId IdType=\"pmc\">PMC1160125</ArticleId><ArticleId IdType=\"pubmed\">15980566</ArticleId></ArticleIdList></Reference><Reference><Citation>Pasini D, Bracken AP, Jensen MR, Lazzerini Denchi E, Helin K. Embo J. 2004 Oct 13;23:4061.</Citation><ArticleIdList><ArticleId IdType=\"pmc\">PMC524339</ArticleId><ArticleId IdType=\"pubmed\">15385962</ArticleId></ArticleIdList></Reference><Reference><Citation>Fiskus W, et al. Mol Cancer Ther. 2006 Dec;5:3096.</Citation><ArticleIdList><ArticleId IdType=\"pubmed\">17172412</ArticleId></ArticleIdList></Reference><Reference><Citation>Krutzfeldt J, et al. Nature. 2005 Dec 1;438:685.</Citation><ArticleIdList><ArticleId IdType=\"pubmed\">16258535</ArticleId></ArticleIdList></Reference></ReferenceList></PubmedData></PubmedArticle><PubmedArticle><MedlineCitation Status=\"MEDLINE\" Owner=\"NLM\"><PMID Version=\"1\">18927361</PMID><DateCompleted><Year>2008</Year><Month>11</Month><Day>03</Day></DateCompleted><DateRevised><Year>2009</Year><Month>11</Month><Day>19</Day></DateRevised><Article PubModel=\"Print\"><Journal><ISSN IssnType=\"Electronic\">1095-9203</ISSN><JournalIssue CitedMedium=\"Internet\"><Volume>322</Volume><Issue>5900</Issue><PubDate><Year>2008</Year><Month>Oct</Month><Day>17</Day></PubDate></JournalIssue><Title>Science (New York, N.Y.)</Title><ISOAbbreviation>Science</ISOAbbreviation></Journal><ArticleTitle>Genetics. DNA test for breast cancer risk draws criticism.</ArticleTitle><Pagination><StartPage>357</StartPage><MedlinePgn>357</MedlinePgn></Pagination><ELocationID EIdType=\"doi\" ValidYN=\"Y\">10.1126/science.322.5900.357</ELocationID><AuthorList CompleteYN=\"Y\"><Author ValidYN=\"Y\"><LastName>Couzin</LastName><ForeName>Jennifer</ForeName><Initials>J</Initials></Author></AuthorList><Language>eng</Language><PublicationTypeList><PublicationType UI=\"D016433\">News</PublicationType></PublicationTypeList></Article><MedlineJournalInfo><Country>United States</Country><MedlineTA>Science</MedlineTA><NlmUniqueID>0404511</NlmUniqueID><ISSNLinking>0036-8075</ISSNLinking></MedlineJournalInfo><CitationSubset>IM</CitationSubset><MeshHeadingList><MeshHeading><DescriptorName UI=\"D001943\" MajorTopicYN=\"N\">Breast Neoplasms</DescriptorName><QualifierName UI=\"Q000235\" MajorTopicYN=\"Y\">genetics</QualifierName></MeshHeading><MeshHeading><DescriptorName UI=\"D005260\" MajorTopicYN=\"N\">Female</DescriptorName></MeshHeading><MeshHeading><DescriptorName UI=\"D020022\" MajorTopicYN=\"Y\">Genetic Predisposition to Disease</DescriptorName></MeshHeading><MeshHeading><DescriptorName UI=\"D005820\" MajorTopicYN=\"Y\">Genetic Testing</DescriptorName></MeshHeading><MeshHeading><DescriptorName UI=\"D006801\" MajorTopicYN=\"N\">Humans</DescriptorName></MeshHeading><MeshHeading><DescriptorName UI=\"D020641\" MajorTopicYN=\"N\">Polymorphism, Single Nucleotide</DescriptorName></MeshHeading></MeshHeadingList></MedlineCitation><PubmedData><History><PubMedPubDate PubStatus=\"pubmed\"><Year>2008</Year><Month>10</Month><Day>18</Day><Hour>9</Hour><Minute>0</Minute></PubMedPubDate><PubMedPubDate PubStatus=\"medline\"><Year>2008</Year><Month>11</Month><Day>4</Day><Hour>9</Hour><Minute>0</Minute></PubMedPubDate><PubMedPubDate PubStatus=\"entrez\"><Year>2008</Year><Month>10</Month><Day>18</Day><Hour>9</Hour><Minute>0</Minute></PubMedPubDate></History><PublicationStatus>ppublish</PublicationStatus><ArticleIdList><ArticleId IdType=\"pubmed\">18927361</ArticleId><ArticleId IdType=\"doi\">10.1126/science.322.5900.357</ArticleId><ArticleId IdType=\"pii\">322/5900/357</ArticleId></ArticleIdList></PubmedData></PubmedArticle><PubmedArticle><MedlineCitation Status=\"MEDLINE\" Owner=\"NLM\"><PMID Version=\"1\">18787170</PMID><DateCompleted><Year>2008</Year><Month>09</Month><Day>25</Day></DateCompleted><DateRevised><Year>2022</Year><Month>03</Month><Day>30</Day></DateRevised><Article PubModel=\"Print\"><Journal><ISSN IssnType=\"Electronic\">1095-9203</ISSN><JournalIssue CitedMedium=\"Internet\"><Volume>321</Volume><Issue>5895</Issue><PubDate><Year>2008</Year><Month>Sep</Month><Day>12</Day></PubDate></JournalIssue><Title>Science (New York, N.Y.)</Title><ISOAbbreviation>Science</ISOAbbreviation></Journal><ArticleTitle>FBXW7 targets mTOR for degradation and cooperates with PTEN in tumor suppression.</ArticleTitle><Pagination><StartPage>1499</StartPage><EndPage>1502</EndPage><MedlinePgn>1499-502</MedlinePgn></Pagination><ELocationID EIdType=\"doi\" ValidYN=\"Y\">10.1126/science.1162981</ELocationID><Abstract><AbstractText>The enzyme mTOR (mammalian target of rapamycin) is a major target for therapeutic intervention to treat many human diseases, including cancer, but very little is known about the processes that control levels of mTOR protein. Here, we show that mTOR is targeted for ubiquitination and consequent degradation by binding to the tumor suppressor protein FBXW7. Human breast cancer cell lines and primary tumors showed a reciprocal relation between loss of FBXW7 and deletion or mutation of PTEN (phosphatase and tensin homolog), which also activates mTOR. Tumor cell lines harboring deletions or mutations in FBXW7 are particularly sensitive to rapamycin treatment, which suggests that loss of FBXW7 may be a biomarker for human cancers susceptible to treatment with inhibitors of the mTOR pathway.</AbstractText></Abstract><AuthorList CompleteYN=\"Y\"><Author ValidYN=\"Y\"><LastName>Mao</LastName><ForeName>Jian-Hua</ForeName><Initials>JH</Initials><AffiliationInfo><Affiliation>Cancer Research Institute, University of California at San Francisco, 2340 Sutter Street, San Francisco, CA 94143, USA.</Affiliation></AffiliationInfo></Author><Author ValidYN=\"Y\"><LastName>Kim</LastName><ForeName>Il-Jin</ForeName><Initials>IJ</Initials></Author><Author ValidYN=\"Y\"><LastName>Wu</LastName><ForeName>Di</ForeName><Initials>D</Initials></Author><Author ValidYN=\"Y\"><LastName>Climent</LastName><ForeName>Joan</ForeName><Initials>J</Initials></Author><Author ValidYN=\"Y\"><LastName>Kang</LastName><ForeName>Hio Chung</ForeName><Initials>HC</Initials></Author><Author ValidYN=\"Y\"><LastName>DelRosario</LastName><ForeName>Reyno</ForeName><Initials>R</Initials></Author><Author ValidYN=\"Y\"><LastName>Balmain</LastName><ForeName>Allan</ForeName><Initials>A</Initials></Author></AuthorList><Language>eng</Language><GrantList CompleteYN=\"Y\"><Grant><GrantID>U01 CA084244-10</GrantID><Acronym>CA</Acronym><Agency>NCI NIH HHS</Agency><Country>United States</Country></Grant><Grant><GrantID>U01 CA084244-08</GrantID><Acronym>CA</Acronym><Agency>NCI NIH HHS</Agency><Country>United States</Country></Grant><Grant><GrantID>U01 CA084244</GrantID><Acronym>CA</Acronym><Agency>NCI NIH HHS</Agency><Country>United States</Country></Grant><Grant><GrantID>R01 CA116481</GrantID><Acronym>CA</Acronym><Agency>NCI NIH HHS</Agency><Country>United States</Country></Grant><Grant><GrantID>U01 CA084244-09</GrantID><Acronym>CA</Acronym><Agency>NCI NIH HHS</Agency><Country>United States</Country></Grant></GrantList><PublicationTypeList><PublicationType UI=\"D016428\">Journal Article</PublicationType></PublicationTypeList></Article><MedlineJournalInfo><Country>United States</Country><MedlineTA>Science</MedlineTA><NlmUniqueID>0404511</NlmUniqueID><ISSNLinking>0036-8075</ISSNLinking></MedlineJournalInfo><ChemicalList><Chemical><RegistryNumber>0</RegistryNumber><NameOfSubstance UI=\"D018797\">Cell Cycle Proteins</NameOfSubstance></Chemical><Chemical><RegistryNumber>0</RegistryNumber><NameOfSubstance UI=\"D044783\">F-Box Proteins</NameOfSubstance></Chemical><Chemical><RegistryNumber>0</RegistryNumber><NameOfSubstance UI=\"D000073979\">F-Box-WD Repeat-Containing Protein 7</NameOfSubstance></Chemical><Chemical><RegistryNumber>0</RegistryNumber><NameOfSubstance UI=\"C513273\">FBXW7 protein, human</NameOfSubstance></Chemical><Chemical><RegistryNumber>0</RegistryNumber><NameOfSubstance UI=\"D025521\">Tumor Suppressor Proteins</NameOfSubstance></Chemical><Chemical><RegistryNumber>EC 2.3.2.27</RegistryNumber><NameOfSubstance UI=\"D044767\">Ubiquitin-Protein Ligases</NameOfSubstance></Chemical><Chemical><RegistryNumber>EC 2.7.-</RegistryNumber><NameOfSubstance UI=\"D011494\">Protein Kinases</NameOfSubstance></Chemical><Chemical><RegistryNumber>EC 2.7.1.1</RegistryNumber><NameOfSubstance UI=\"C546842\">MTOR protein, human</NameOfSubstance></Chemical><Chemical><RegistryNumber>EC 2.7.1.1</RegistryNumber><NameOfSubstance UI=\"C546843\">mTOR protein, mouse</NameOfSubstance></Chemical><Chemical><RegistryNumber>EC 2.7.11.1</RegistryNumber><NameOfSubstance UI=\"D051057\">Proto-Oncogene Proteins c-akt</NameOfSubstance></Chemical><Chemical><RegistryNumber>EC 2.7.11.1</RegistryNumber><NameOfSubstance UI=\"D058570\">TOR Serine-Threonine Kinases</NameOfSubstance></Chemical><Chemical><RegistryNumber>EC 3.1.3.67</RegistryNumber><NameOfSubstance UI=\"D051059\">PTEN Phosphohydrolase</NameOfSubstance></Chemical><Chemical><RegistryNumber>EC 3.1.3.67</RegistryNumber><NameOfSubstance UI=\"C494929\">PTEN protein, human</NameOfSubstance></Chemical><Chemical><RegistryNumber>W36ZG6FT64</RegistryNumber><NameOfSubstance UI=\"D020123\">Sirolimus</NameOfSubstance></Chemical></ChemicalList><CitationSubset>IM</CitationSubset><MeshHeadingList><MeshHeading><DescriptorName UI=\"D000818\" MajorTopicYN=\"N\">Animals</DescriptorName></MeshHeading><MeshHeading><DescriptorName UI=\"D001943\" MajorTopicYN=\"N\">Breast Neoplasms</DescriptorName><QualifierName UI=\"Q000188\" MajorTopicYN=\"N\">drug therapy</QualifierName><QualifierName UI=\"Q000235\" MajorTopicYN=\"N\">genetics</QualifierName><QualifierName UI=\"Q000378\" MajorTopicYN=\"Y\">metabolism</QualifierName><QualifierName UI=\"Q000473\" MajorTopicYN=\"N\">pathology</QualifierName></MeshHeading><MeshHeading><DescriptorName UI=\"D018797\" MajorTopicYN=\"N\">Cell Cycle Proteins</DescriptorName><QualifierName UI=\"Q000235\" MajorTopicYN=\"N\">genetics</QualifierName><QualifierName UI=\"Q000378\" MajorTopicYN=\"Y\">metabolism</QualifierName></MeshHeading><MeshHeading><DescriptorName UI=\"D002460\" MajorTopicYN=\"N\">Cell Line</DescriptorName></MeshHeading><MeshHeading><DescriptorName UI=\"D045744\" MajorTopicYN=\"N\">Cell Line, Tumor</DescriptorName></MeshHeading><MeshHeading><DescriptorName UI=\"D044783\" MajorTopicYN=\"N\">F-Box Proteins</DescriptorName><QualifierName UI=\"Q000235\" MajorTopicYN=\"N\">genetics</QualifierName><QualifierName UI=\"Q000378\" MajorTopicYN=\"Y\">metabolism</QualifierName></MeshHeading><MeshHeading><DescriptorName UI=\"D000073979\" MajorTopicYN=\"N\">F-Box-WD Repeat-Containing Protein 7</DescriptorName></MeshHeading><MeshHeading><DescriptorName UI=\"D017353\" MajorTopicYN=\"N\">Gene Deletion</DescriptorName></MeshHeading><MeshHeading><DescriptorName UI=\"D018628\" MajorTopicYN=\"N\">Gene Dosage</DescriptorName></MeshHeading><MeshHeading><DescriptorName UI=\"D020868\" MajorTopicYN=\"N\">Gene Silencing</DescriptorName></MeshHeading><MeshHeading><DescriptorName UI=\"D016147\" MajorTopicYN=\"N\">Genes, Tumor Suppressor</DescriptorName></MeshHeading><MeshHeading><DescriptorName UI=\"D006801\" MajorTopicYN=\"N\">Humans</DescriptorName></MeshHeading><MeshHeading><DescriptorName UI=\"D051379\" MajorTopicYN=\"N\">Mice</DescriptorName></MeshHeading><MeshHeading><DescriptorName UI=\"D008819\" MajorTopicYN=\"N\">Mice, Nude</DescriptorName></MeshHeading><MeshHeading><DescriptorName UI=\"D009154\" MajorTopicYN=\"N\">Mutation</DescriptorName></MeshHeading><MeshHeading><DescriptorName UI=\"D009368\" MajorTopicYN=\"N\">Neoplasm Transplantation</DescriptorName></MeshHeading><MeshHeading><DescriptorName UI=\"D051059\" MajorTopicYN=\"N\">PTEN Phosphohydrolase</DescriptorName><QualifierName UI=\"Q000235\" MajorTopicYN=\"N\">genetics</QualifierName><QualifierName UI=\"Q000378\" MajorTopicYN=\"Y\">metabolism</QualifierName></MeshHeading><MeshHeading><DescriptorName UI=\"D010766\" MajorTopicYN=\"N\">Phosphorylation</DescriptorName></MeshHeading><MeshHeading><DescriptorName UI=\"D011485\" MajorTopicYN=\"N\">Protein Binding</DescriptorName></MeshHeading><MeshHeading><DescriptorName UI=\"D011494\" MajorTopicYN=\"N\">Protein Kinases</DescriptorName><QualifierName UI=\"Q000378\" MajorTopicYN=\"Y\">metabolism</QualifierName></MeshHeading><MeshHeading><DescriptorName UI=\"D051057\" MajorTopicYN=\"N\">Proto-Oncogene Proteins c-akt</DescriptorName><QualifierName UI=\"Q000378\" MajorTopicYN=\"N\">metabolism</QualifierName></MeshHeading><MeshHeading><DescriptorName UI=\"D015398\" MajorTopicYN=\"N\">Signal Transduction</DescriptorName></MeshHeading><MeshHeading><DescriptorName UI=\"D020123\" MajorTopicYN=\"N\">Sirolimus</DescriptorName><QualifierName UI=\"Q000494\" MajorTopicYN=\"N\">pharmacology</QualifierName><QualifierName UI=\"Q000627\" MajorTopicYN=\"N\">therapeutic use</QualifierName></MeshHeading><MeshHeading><DescriptorName UI=\"D058570\" MajorTopicYN=\"N\">TOR Serine-Threonine Kinases</DescriptorName></MeshHeading><MeshHeading><DescriptorName UI=\"D014162\" MajorTopicYN=\"N\">Transfection</DescriptorName></MeshHeading><MeshHeading><DescriptorName UI=\"D025521\" MajorTopicYN=\"N\">Tumor Suppressor Proteins</DescriptorName><QualifierName UI=\"Q000378\" MajorTopicYN=\"Y\">metabolism</QualifierName></MeshHeading><MeshHeading><DescriptorName UI=\"D044767\" MajorTopicYN=\"N\">Ubiquitin-Protein Ligases</DescriptorName><QualifierName UI=\"Q000235\" MajorTopicYN=\"N\">genetics</QualifierName><QualifierName UI=\"Q000378\" MajorTopicYN=\"Y\">metabolism</QualifierName></MeshHeading><MeshHeading><DescriptorName UI=\"D054875\" MajorTopicYN=\"N\">Ubiquitination</DescriptorName></MeshHeading></MeshHeadingList></MedlineCitation><PubmedData><History><PubMedPubDate PubStatus=\"pubmed\"><Year>2008</Year><Month>9</Month><Day>13</Day><Hour>9</Hour><Minute>0</Minute></PubMedPubDate><PubMedPubDate PubStatus=\"medline\"><Year>2008</Year><Month>9</Month><Day>26</Day><Hour>9</Hour><Minute>0</Minute></PubMedPubDate><PubMedPubDate PubStatus=\"entrez\"><Year>2008</Year><Month>9</Month><Day>13</Day><Hour>9</Hour><Minute>0</Minute></PubMedPubDate></History><PublicationStatus>ppublish</PublicationStatus><ArticleIdList><ArticleId IdType=\"pubmed\">18787170</ArticleId><ArticleId IdType=\"mid\">NIHMS132604</ArticleId><ArticleId IdType=\"pmc\">PMC2849753</ArticleId><ArticleId IdType=\"doi\">10.1126/science.1162981</ArticleId><ArticleId IdType=\"pii\">321/5895/1499</ArticleId></ArticleIdList><ReferenceList><Reference><Citation>Welcker M, Clurman BE. Nat. Rev. Cancer. 2008;8:83.</Citation><ArticleIdList><ArticleId IdType=\"pubmed\">18094723</ArticleId></ArticleIdList></Reference><Reference><Citation>Akhoondi S, et al. Cancer Res. 2007;67:9006.</Citation><ArticleIdList><ArticleId IdType=\"pubmed\">17909001</ArticleId></ArticleIdList></Reference><Reference><Citation>Mao JH, et al. Nature. 2004;432:775.</Citation><ArticleIdList><ArticleId IdType=\"pubmed\">15592418</ArticleId></ArticleIdList></Reference><Reference><Citation>Rajagopalan H, et al. Nature. 2004;428:77.</Citation><ArticleIdList><ArticleId IdType=\"pubmed\">14999283</ArticleId></ArticleIdList></Reference><Reference><Citation>Yada M, et al. EMBO J. 2004;23:2116.</Citation><ArticleIdList><ArticleId IdType=\"pmc\">PMC424394</ArticleId><ArticleId IdType=\"pubmed\">15103331</ArticleId></ArticleIdList></Reference><Reference><Citation>Welcker M, et al. Proc. Natl. Acad. Sci. U. S. A. 2004;101:9085.</Citation><ArticleIdList><ArticleId IdType=\"pmc\">PMC428477</ArticleId><ArticleId IdType=\"pubmed\">15150404</ArticleId></ArticleIdList></Reference><Reference><Citation>Kemp Z, et al. Cancer Res. 2005;65:11361.</Citation><ArticleIdList><ArticleId IdType=\"pubmed\">16357143</ArticleId></ArticleIdList></Reference><Reference><Citation>Wu G, et al. Mol. Cell Biol. 2001;21:7403.</Citation><ArticleIdList><ArticleId IdType=\"pmc\">PMC99913</ArticleId><ArticleId IdType=\"pubmed\">11585921</ArticleId></ArticleIdList></Reference><Reference><Citation>Strohmaier H, Spruck CH, Kaiser P, Won KA, Sangfelt O, Reed SI. Nature. 2001;413:316.</Citation><ArticleIdList><ArticleId IdType=\"pubmed\">11565034</ArticleId></ArticleIdList></Reference><Reference><Citation>Neve RM, et al. Cancer Cell. 2006;10:515.</Citation><ArticleIdList><ArticleId IdType=\"pmc\">PMC2730521</ArticleId><ArticleId IdType=\"pubmed\">17157791</ArticleId></ArticleIdList></Reference><Reference><Citation>Climent J, et al. Cancer Res. 2007;67:818.</Citation><ArticleIdList><ArticleId IdType=\"pubmed\">17234794</ArticleId></ArticleIdList></Reference><Reference><Citation>Chin K, et al. Cancer Cell. 2006;10:529.</Citation><ArticleIdList><ArticleId IdType=\"pubmed\">17157792</ArticleId></ArticleIdList></Reference><Reference><Citation>Fridlyand J, et al. BMC Cancer. 2006;6:96.</Citation><ArticleIdList><ArticleId IdType=\"pmc\">PMC1459181</ArticleId><ArticleId IdType=\"pubmed\">16620391</ArticleId></ArticleIdList></Reference><Reference><Citation>Mao JH, Wu D, Perez-Losada J, Nagase H, DelRosario R, Balmain A. Oncogene. 2003;22:8379.</Citation><ArticleIdList><ArticleId IdType=\"pubmed\">14627978</ArticleId></ArticleIdList></Reference><Reference><Citation>Di Cristofano A, Pesce B, Cordon-Cardo C, Pandolfi PP. Nat. Genet. 1998;19:348.</Citation><ArticleIdList><ArticleId IdType=\"pubmed\">9697695</ArticleId></ArticleIdList></Reference><Reference><Citation>Steelman LS, et al. Oncogene. 2008;27:4086.</Citation><ArticleIdList><ArticleId IdType=\"pmc\">PMC3836277</ArticleId><ArticleId IdType=\"pubmed\">18332865</ArticleId></ArticleIdList></Reference><Reference><Citation>Welcker M, Orian A, Grim JE, Eisenman RN, Clurman BE. Curr. Biol. 2004;14:1852.</Citation><ArticleIdList><ArticleId IdType=\"pubmed\">15498494</ArticleId></ArticleIdList></Reference><Reference><Citation>Buolamwini JK, Addo J, Kamath S, Patil S, Mason D, Ores M. Curr. Cancer Drug Targets. 2005;5:57.</Citation><ArticleIdList><ArticleId IdType=\"pubmed\">15720190</ArticleId></ArticleIdList></Reference></ReferenceList></PubmedData></PubmedArticle><PubmedArticle><MedlineCitation Status=\"MEDLINE\" Owner=\"NLM\"><PMID Version=\"1\">18487186</PMID><DateCompleted><Year>2008</Year><Month>05</Month><Day>27</Day></DateCompleted><DateRevised><Year>2021</Year><Month>10</Month><Day>20</Day></DateRevised><Article PubModel=\"Print\"><Journal><ISSN IssnType=\"Electronic\">1095-9203</ISSN><JournalIssue CitedMedium=\"Internet\"><Volume>320</Volume><Issue>5878</Issue><PubDate><Year>2008</Year><Month>May</Month><Day>16</Day></PubDate></JournalIssue><Title>Science (New York, N.Y.)</Title><ISOAbbreviation>Science</ISOAbbreviation></Journal><ArticleTitle>Design logic of a cannabinoid receptor signaling network that triggers neurite outgrowth.</ArticleTitle><Pagination><StartPage>903</StartPage><EndPage>909</EndPage><MedlinePgn>903-9</MedlinePgn></Pagination><ELocationID EIdType=\"doi\" ValidYN=\"Y\">10.1126/science.1152662</ELocationID><Abstract><AbstractText>Cannabinoid receptor 1 (CB1R) regulates neuronal differentiation. To understand the logic underlying decision-making in the signaling network controlling CB1R-induced neurite outgrowth, we profiled the activation of several hundred transcription factors after cell stimulation. We assembled an in silico signaling network by connecting CB1R to 23 activated transcription factors. Statistical analyses of this network predicted a role for the breast cancer 1 protein BRCA1 in neuronal differentiation and a new pathway from CB1R through phosphoinositol 3-kinase to the transcription factor paired box 6 (PAX6). Both predictions were experimentally confirmed. Results of transcription factor activation experiments that used pharmacological inhibitors of kinases revealed a network organization of partial OR gates regulating kinases stacked above AND gates that control transcription factors, which together allow for distributed decision-making in CB1R-induced neurite outgrowth.</AbstractText></Abstract><AuthorList CompleteYN=\"Y\"><Author ValidYN=\"Y\"><LastName>Bromberg</LastName><ForeName>Kenneth D</ForeName><Initials>KD</Initials><AffiliationInfo><Affiliation>Department of Pharmacology and Systems Therapeutics, Mount Sinai School of Medicine, New York, NY 10029, USA.</Affiliation></AffiliationInfo></Author><Author ValidYN=\"Y\"><LastName>Ma\\'ayan</LastName><ForeName>Avi</ForeName><Initials>A</Initials></Author><Author ValidYN=\"Y\"><LastName>Neves</LastName><ForeName>Susana R</ForeName><Initials>SR</Initials></Author><Author ValidYN=\"Y\"><LastName>Iyengar</LastName><ForeName>Ravi</ForeName><Initials>R</Initials></Author></AuthorList><Language>eng</Language><GrantList CompleteYN=\"Y\"><Grant><GrantID>R01 GM072853</GrantID><Acronym>GM</Acronym><Agency>NIGMS NIH HHS</Agency><Country>United States</Country></Grant><Grant><GrantID>P50 GM071558</GrantID><Acronym>GM</Acronym><Agency>NIGMS NIH HHS</Agency><Country>United States</Country></Grant><Grant><GrantID>5R24 CA095823-04</GrantID><Acronym>CA</Acronym><Agency>NCI NIH HHS</Agency><Country>United States</Country></Grant><Grant><GrantID>GM54508</GrantID><Acronym>GM</Acronym><Agency>NIGMS NIH HHS</Agency><Country>United States</Country></Grant><Grant><GrantID>T32 CA088796</GrantID><Acronym>CA</Acronym><Agency>NCI NIH HHS</Agency><Country>United States</Country></Grant><Grant><GrantID>T32 CA88796</GrantID><Acronym>CA</Acronym><Agency>NCI NIH HHS</Agency><Country>United States</Country></Grant><Grant><GrantID>R01 GM072853-04</GrantID><Acronym>GM</Acronym><Agency>NIGMS NIH HHS</Agency><Country>United States</Country></Grant><Grant><GrantID>GM072853</GrantID><Acronym>GM</Acronym><Agency>NIGMS NIH HHS</Agency><Country>United States</Country></Grant><Grant><GrantID>1 S10 RR0 9145-01</GrantID><Acronym>RR</Acronym><Agency>NCRR NIH HHS</Agency><Country>United States</Country></Grant><Grant><GrantID>P50 GM071558-020007</GrantID><Acronym>GM</Acronym><Agency>NIGMS NIH HHS</Agency><Country>United States</Country></Grant><Grant><GrantID>P50 GM071558-030007</GrantID><Acronym>GM</Acronym><Agency>NIGMS NIH HHS</Agency><Country>United States</Country></Grant><Grant><GrantID>R01 GM054508</GrantID><Acronym>GM</Acronym><Agency>NIGMS NIH HHS</Agency><Country>United States</Country></Grant><Grant><GrantID>P50-071558</GrantID><Agency>PHS HHS</Agency><Country>United States</Country></Grant><Grant><GrantID>P50 GM071558-01A2</GrantID><Acronym>GM</Acronym><Agency>NIGMS NIH HHS</Agency><Country>United States</Country></Grant><Grant><GrantID>R01 GM054508-21</GrantID><Acronym>GM</Acronym><Agency>NIGMS NIH HHS</Agency><Country>United States</Country></Grant><Grant><GrantID>P50 GM071558-02</GrantID><Acronym>GM</Acronym><Agency>NIGMS NIH HHS</Agency><Country>United States</Country></Grant><Grant><GrantID>R24 CA095823</GrantID><Acronym>CA</Acronym><Agency>NCI NIH HHS</Agency><Country>United States</Country></Grant><Grant><GrantID>P50 GM071558-01A20007</GrantID><Acronym>GM</Acronym><Agency>NIGMS NIH HHS</Agency><Country>United States</Country></Grant></GrantList><PublicationTypeList><PublicationType UI=\"D016428\">Journal Article</PublicationType><PublicationType UI=\"D052061\">Research Support, N.I.H., Extramural</PublicationType><PublicationType UI=\"D013486\">Research Support, U.S. Gov\\'t, Non-P.H.S.</PublicationType></PublicationTypeList></Article><MedlineJournalInfo><Country>United States</Country><MedlineTA>Science</MedlineTA><NlmUniqueID>0404511</NlmUniqueID><ISSNLinking>0036-8075</ISSNLinking></MedlineJournalInfo><ChemicalList><Chemical><RegistryNumber>0</RegistryNumber><NameOfSubstance UI=\"D019313\">BRCA1 Protein</NameOfSubstance></Chemical><Chemical><RegistryNumber>0</RegistryNumber><NameOfSubstance UI=\"D005136\">Eye Proteins</NameOfSubstance></Chemical><Chemical><RegistryNumber>0</RegistryNumber><NameOfSubstance UI=\"D018398\">Homeodomain Proteins</NameOfSubstance></Chemical><Chemical><RegistryNumber>0</RegistryNumber><NameOfSubstance UI=\"D000071841\">PAX6 Transcription Factor</NameOfSubstance></Chemical><Chemical><RegistryNumber>0</RegistryNumber><NameOfSubstance UI=\"D051761\">Paired Box Transcription Factors</NameOfSubstance></Chemical><Chemical><RegistryNumber>0</RegistryNumber><NameOfSubstance UI=\"C000605732\">Pax6 protein, mouse</NameOfSubstance></Chemical><Chemical><RegistryNumber>0</RegistryNumber><NameOfSubstance UI=\"C000605733\">Pax6 protein, rat</NameOfSubstance></Chemical><Chemical><RegistryNumber>0</RegistryNumber><NameOfSubstance UI=\"D043884\">Receptor, Cannabinoid, CB1</NameOfSubstance></Chemical><Chemical><RegistryNumber>0</RegistryNumber><NameOfSubstance UI=\"D012097\">Repressor Proteins</NameOfSubstance></Chemical><Chemical><RegistryNumber>0</RegistryNumber><NameOfSubstance UI=\"D014157\">Transcription Factors</NameOfSubstance></Chemical><Chemical><RegistryNumber>EC 2.7.1.-</RegistryNumber><NameOfSubstance UI=\"D019869\">Phosphatidylinositol 3-Kinases</NameOfSubstance></Chemical></ChemicalList><CitationSubset>IM</CitationSubset><MeshHeadingList><MeshHeading><DescriptorName UI=\"D000818\" MajorTopicYN=\"N\">Animals</DescriptorName></MeshHeading><MeshHeading><DescriptorName UI=\"D019313\" MajorTopicYN=\"N\">BRCA1 Protein</DescriptorName><QualifierName UI=\"Q000378\" MajorTopicYN=\"N\">metabolism</QualifierName></MeshHeading><MeshHeading><DescriptorName UI=\"D002454\" MajorTopicYN=\"N\">Cell Differentiation</DescriptorName></MeshHeading><MeshHeading><DescriptorName UI=\"D045744\" MajorTopicYN=\"N\">Cell Line, Tumor</DescriptorName></MeshHeading><MeshHeading><DescriptorName UI=\"D002478\" MajorTopicYN=\"N\">Cells, Cultured</DescriptorName></MeshHeading><MeshHeading><DescriptorName UI=\"D019295\" MajorTopicYN=\"N\">Computational Biology</DescriptorName></MeshHeading><MeshHeading><DescriptorName UI=\"D003198\" MajorTopicYN=\"N\">Computer Simulation</DescriptorName></MeshHeading><MeshHeading><DescriptorName UI=\"D005136\" MajorTopicYN=\"N\">Eye Proteins</DescriptorName><QualifierName UI=\"Q000378\" MajorTopicYN=\"N\">metabolism</QualifierName></MeshHeading><MeshHeading><DescriptorName UI=\"D006624\" MajorTopicYN=\"N\">Hippocampus</DescriptorName><QualifierName UI=\"Q000166\" MajorTopicYN=\"N\">cytology</QualifierName></MeshHeading><MeshHeading><DescriptorName UI=\"D018398\" MajorTopicYN=\"N\">Homeodomain Proteins</DescriptorName><QualifierName UI=\"Q000378\" MajorTopicYN=\"N\">metabolism</QualifierName></MeshHeading><MeshHeading><DescriptorName UI=\"D053858\" MajorTopicYN=\"N\">Metabolic Networks and Pathways</DescriptorName></MeshHeading><MeshHeading><DescriptorName UI=\"D051379\" MajorTopicYN=\"N\">Mice</DescriptorName></MeshHeading><MeshHeading><DescriptorName UI=\"D016501\" MajorTopicYN=\"N\">Neurites</DescriptorName><QualifierName UI=\"Q000502\" MajorTopicYN=\"Y\">physiology</QualifierName></MeshHeading><MeshHeading><DescriptorName UI=\"D009474\" MajorTopicYN=\"N\">Neurons</DescriptorName><QualifierName UI=\"Q000166\" MajorTopicYN=\"Y\">cytology</QualifierName><QualifierName UI=\"Q000378\" MajorTopicYN=\"N\">metabolism</QualifierName></MeshHeading><MeshHeading><DescriptorName UI=\"D000071841\" MajorTopicYN=\"N\">PAX6 Transcription Factor</DescriptorName></MeshHeading><MeshHeading><DescriptorName UI=\"D051761\" MajorTopicYN=\"N\">Paired Box Transcription Factors</DescriptorName><QualifierName UI=\"Q000378\" MajorTopicYN=\"N\">metabolism</QualifierName></MeshHeading><MeshHeading><DescriptorName UI=\"D019869\" MajorTopicYN=\"N\">Phosphatidylinositol 3-Kinases</DescriptorName><QualifierName UI=\"Q000378\" MajorTopicYN=\"N\">metabolism</QualifierName></MeshHeading><MeshHeading><DescriptorName UI=\"D025941\" MajorTopicYN=\"N\">Protein Interaction Mapping</DescriptorName></MeshHeading><MeshHeading><DescriptorName UI=\"D051381\" MajorTopicYN=\"N\">Rats</DescriptorName></MeshHeading><MeshHeading><DescriptorName UI=\"D043884\" MajorTopicYN=\"N\">Receptor, Cannabinoid, CB1</DescriptorName><QualifierName UI=\"Q000378\" MajorTopicYN=\"Y\">metabolism</QualifierName></MeshHeading><MeshHeading><DescriptorName UI=\"D012097\" MajorTopicYN=\"N\">Repressor Proteins</DescriptorName><QualifierName UI=\"Q000378\" MajorTopicYN=\"N\">metabolism</QualifierName></MeshHeading><MeshHeading><DescriptorName UI=\"D015398\" MajorTopicYN=\"Y\">Signal Transduction</DescriptorName></MeshHeading><MeshHeading><DescriptorName UI=\"D014157\" MajorTopicYN=\"N\">Transcription Factors</DescriptorName><QualifierName UI=\"Q000037\" MajorTopicYN=\"N\">antagonists &amp; inhibitors</QualifierName><QualifierName UI=\"Q000378\" MajorTopicYN=\"Y\">metabolism</QualifierName></MeshHeading></MeshHeadingList></MedlineCitation><PubmedData><History><PubMedPubDate PubStatus=\"pubmed\"><Year>2008</Year><Month>5</Month><Day>20</Day><Hour>9</Hour><Minute>0</Minute></PubMedPubDate><PubMedPubDate PubStatus=\"medline\"><Year>2008</Year><Month>5</Month><Day>28</Day><Hour>9</Hour><Minute>0</Minute></PubMedPubDate><PubMedPubDate PubStatus=\"entrez\"><Year>2008</Year><Month>5</Month><Day>20</Day><Hour>9</Hour><Minute>0</Minute></PubMedPubDate></History><PublicationStatus>ppublish</PublicationStatus><ArticleIdList><ArticleId IdType=\"pubmed\">18487186</ArticleId><ArticleId IdType=\"mid\">NIHMS142954</ArticleId><ArticleId IdType=\"pmc\">PMC2776723</ArticleId><ArticleId IdType=\"doi\">10.1126/science.1152662</ArticleId><ArticleId IdType=\"pii\">320/5878/903</ArticleId></ArticleIdList><ReferenceList><Reference><Citation>Jordan JD, et al. J Biol Chem. 2005;280:11413.</Citation><ArticleIdList><ArticleId IdType=\"pubmed\">15657046</ArticleId></ArticleIdList></Reference><Reference><Citation>He JC, et al. J Biol Chem. 2005;280:33426.</Citation><ArticleIdList><ArticleId IdType=\"pubmed\">16046413</ArticleId></ArticleIdList></Reference><Reference><Citation>Harkany T, et al. Trends Pharmacol Sci. 2007;28:83.</Citation><ArticleIdList><ArticleId IdType=\"pubmed\">17222464</ArticleId></ArticleIdList></Reference><Reference><Citation>Chevaleyre V, Takahashi KA, Castillo PE. Annu Rev Neurosci. 2006;29:37.</Citation><ArticleIdList><ArticleId IdType=\"pubmed\">16776579</ArticleId></ArticleIdList></Reference><Reference><Citation>Centonze D, Finazzi-Agro A, Bernardi G, Maccarrone M. Trends Pharmacol Sci. 2007;28:180.</Citation><ArticleIdList><ArticleId IdType=\"pubmed\">17350694</ArticleId></ArticleIdList></Reference><Reference><Citation>Bhalla US, Ram PT, Iyengar R. Science. 2002;297:1018.</Citation><ArticleIdList><ArticleId IdType=\"pubmed\">12169734</ArticleId></ArticleIdList></Reference><Reference><Citation>Segal RA. Annu Rev Neurosci. 2003;26:299.</Citation><ArticleIdList><ArticleId IdType=\"pubmed\">12598680</ArticleId></ArticleIdList></Reference><Reference><Citation>Gutkind JS. Sci STKE. 2000;2000:re1.</Citation><ArticleIdList><ArticleId IdType=\"pubmed\">11752597</ArticleId></ArticleIdList></Reference><Reference><Citation>Clagett-Dame M, McNeill EM, Muley PD. J Neurobiol. 2006;66:739.</Citation><ArticleIdList><ArticleId IdType=\"pubmed\">16688769</ArticleId></ArticleIdList></Reference><Reference><Citation>Bader GD, Betel D, Hogue CWV. Nucleic Acids Res. 2003;31:248.</Citation><ArticleIdList><ArticleId IdType=\"pmc\">PMC165503</ArticleId><ArticleId IdType=\"pubmed\">12519993</ArticleId></ArticleIdList></Reference><Reference><Citation>Mishra GR, et al. Nucleic Acids Res. 2006;34:D411.</Citation><ArticleIdList><ArticleId IdType=\"pmc\">PMC1347503</ArticleId><ArticleId IdType=\"pubmed\">16381900</ArticleId></ArticleIdList></Reference><Reference><Citation>Chatr-aryamontri A, et al. Nucleic Acids Res. 2007;35:D572.</Citation><ArticleIdList><ArticleId IdType=\"pmc\">PMC1751541</ArticleId><ArticleId IdType=\"pubmed\">17135203</ArticleId></ArticleIdList></Reference><Reference><Citation>Xenarios I, et al. Nucleic Acids Res. 2001;29:239.</Citation><ArticleIdList><ArticleId IdType=\"pmc\">PMC29798</ArticleId><ArticleId IdType=\"pubmed\">11125102</ArticleId></ArticleIdList></Reference><Reference><Citation>Kerrien S, et al. Nucleic Acids Res. 2007;35:D561.</Citation><ArticleIdList><ArticleId IdType=\"pmc\">PMC1751531</ArticleId><ArticleId IdType=\"pubmed\">17145710</ArticleId></ArticleIdList></Reference><Reference><Citation>Stark C, et al. Nucleic Acids Res. 2006;34:D535.</Citation><ArticleIdList><ArticleId IdType=\"pmc\">PMC1347471</ArticleId><ArticleId IdType=\"pubmed\">16381927</ArticleId></ArticleIdList></Reference><Reference><Citation>Joshi-Tope G, et al. Nucleic Acids Res. 2005;33:D428.</Citation><ArticleIdList><ArticleId IdType=\"pmc\">PMC540026</ArticleId><ArticleId IdType=\"pubmed\">15608231</ArticleId></ArticleIdList></Reference><Reference><Citation>Husi H, Ward MA, Choudhary JS, Blackstock WP, Grant SG. Nat Neurosci. 2000;3:661.</Citation><ArticleIdList><ArticleId IdType=\"pubmed\">10862698</ArticleId></ArticleIdList></Reference><Reference><Citation>Ma\\'ayan A, et al. Science. 2005;309:1078.</Citation><ArticleIdList><ArticleId IdType=\"pmc\">PMC3032439</ArticleId><ArticleId IdType=\"pubmed\">16099987</ArticleId></ArticleIdList></Reference><Reference><Citation>Venkitaraman AR. Cell. 2002;108:171.</Citation><ArticleIdList><ArticleId IdType=\"pubmed\">11832208</ArticleId></ArticleIdList></Reference><Reference><Citation>Watts DJ, Strogatz SH. Nature. 1998;393:440.</Citation><ArticleIdList><ArticleId IdType=\"pubmed\">9623998</ArticleId></ArticleIdList></Reference><Reference><Citation>Berger SI, Posner JM, Ma\\'ayan A. BMC Bioinform. 2007;8:372.</Citation><ArticleIdList><ArticleId IdType=\"pmc\">PMC2082048</ArticleId><ArticleId IdType=\"pubmed\">17916244</ArticleId></ArticleIdList></Reference><Reference><Citation>Gudmundsdottir A, Ashworth A. Oncogene. 2006;25:5864.</Citation><ArticleIdList><ArticleId IdType=\"pubmed\">16998501</ArticleId></ArticleIdList></Reference><Reference><Citation>Joukov V, et al. Cell. 2006;127:539.</Citation><ArticleIdList><ArticleId IdType=\"pubmed\">17081976</ArticleId></ArticleIdList></Reference><Reference><Citation>Gowen LC, Johnson BL, Latour AM, Sulik KK, Koller BH. Nat Genet. 1996;12:191.</Citation><ArticleIdList><ArticleId IdType=\"pubmed\">8563759</ArticleId></ArticleIdList></Reference><Reference><Citation>Eccles DM, Barker S, Pilz DT, Kennedy C. J Med Genet. 2003;40:24e.</Citation><ArticleIdList><ArticleId IdType=\"pmc\">PMC1735401</ArticleId><ArticleId IdType=\"pubmed\">12624153</ArticleId></ArticleIdList></Reference><Reference><Citation>Eccles D, Bunyan D, Barker S, Castle B. J Med Genet. 2005;42:e42.</Citation><ArticleIdList><ArticleId IdType=\"pmc\">PMC1736091</ArticleId><ArticleId IdType=\"pubmed\">15994867</ArticleId></ArticleIdList></Reference><Reference><Citation>Houvras Y, et al. J Biol Chem. 2000;275:36230.</Citation><ArticleIdList><ArticleId IdType=\"pubmed\">10945975</ArticleId></ArticleIdList></Reference><Reference><Citation>Gao B, et al. FEBS Lett. 2001;488:179.</Citation><ArticleIdList><ArticleId IdType=\"pubmed\">11163768</ArticleId></ArticleIdList></Reference><Reference><Citation>Dubrovska A, et al. Oncogene. 2005;24:2289.</Citation><ArticleIdList><ArticleId IdType=\"pubmed\">15735739</ArticleId></ArticleIdList></Reference><Reference><Citation>Garcia-Campmany L, Marti E. Development. 2007;134:65.</Citation><ArticleIdList><ArticleId IdType=\"pubmed\">17138664</ArticleId></ArticleIdList></Reference><Reference><Citation>Govek EE, Newey SE, Van Aelst L. Genes Dev. 2005;19:1.</Citation><ArticleIdList><ArticleId IdType=\"pubmed\">15630019</ArticleId></ArticleIdList></Reference><Reference><Citation>Ziv NE, Smith SJ. Neuron. 1996;17:91.</Citation><ArticleIdList><ArticleId IdType=\"pubmed\">8755481</ArticleId></ArticleIdList></Reference><Reference><Citation>Alessi DR, et al. EMBO J. 1996;15:6541.</Citation><ArticleIdList><ArticleId IdType=\"pmc\">PMC452479</ArticleId><ArticleId IdType=\"pubmed\">8978681</ArticleId></ArticleIdList></Reference><Reference><Citation>Lang D, Powell SK, Plummer RS, Young KP, Ruggeri BA. Biochem Pharmacol. 2007;73:1.</Citation><ArticleIdList><ArticleId IdType=\"pubmed\">16904651</ArticleId></ArticleIdList></Reference><Reference><Citation>Yan Q, et al. J Biol Chem. 2007;282:13954.</Citation><ArticleIdList><ArticleId IdType=\"pubmed\">17374606</ArticleId></ArticleIdList></Reference><Reference><Citation>Shen-Orr SS, Milo R, Mangan S, Alon U. Nat Genet. 2002;31:64.</Citation><ArticleIdList><ArticleId IdType=\"pubmed\">11967538</ArticleId></ArticleIdList></Reference><Reference><Citation>Miralem T, Avraham HK. Mol Cell Biol. 2003;23:579.</Citation><ArticleIdList><ArticleId IdType=\"pmc\">PMC151527</ArticleId><ArticleId IdType=\"pubmed\">12509456</ArticleId></ArticleIdList></Reference></ReferenceList></PubmedData></PubmedArticle><PubmedArticle><MedlineCitation Status=\"MEDLINE\" Owner=\"NLM\"><PMID Version=\"1\">18239126</PMID><DateCompleted><Year>2008</Year><Month>02</Month><Day>12</Day></DateCompleted><DateRevised><Year>2022</Year><Month>03</Month><Day>16</Day></DateRevised><Article PubModel=\"Print\"><Journal><ISSN IssnType=\"Electronic\">1095-9203</ISSN><JournalIssue CitedMedium=\"Internet\"><Volume>319</Volume><Issue>5863</Issue><PubDate><Year>2008</Year><Month>Feb</Month><Day>01</Day></PubDate></JournalIssue><Title>Science (New York, N.Y.)</Title><ISOAbbreviation>Science</ISOAbbreviation></Journal><ArticleTitle>Cancer proliferation gene discovery through functional genomics.</ArticleTitle><Pagination><StartPage>620</StartPage><EndPage>624</EndPage><MedlinePgn>620-4</MedlinePgn></Pagination><ELocationID EIdType=\"doi\" ValidYN=\"Y\">10.1126/science.1149200</ELocationID><Abstract><AbstractText>Retroviral short hairpin RNA (shRNA)-mediated genetic screens in mammalian cells are powerful tools for discovering loss-of-function phenotypes. We describe a highly parallel multiplex methodology for screening large pools of shRNAs using half-hairpin barcodes for microarray deconvolution. We carried out dropout screens for shRNAs that affect cell proliferation and viability in cancer cells and normal cells. We identified many shRNAs to be antiproliferative that target core cellular processes, such as the cell cycle and protein translation, in all cells examined. Moreover, we identified genes that are selectively required for proliferation and survival in different cell lines. Our platform enables rapid and cost-effective genome-wide screens to identify cancer proliferation and survival genes for target discovery. Such efforts are complementary to the Cancer Genome Atlas and provide an alternative functional view of cancer cells.</AbstractText></Abstract><AuthorList CompleteYN=\"Y\"><Author ValidYN=\"Y\"><LastName>Schlabach</LastName><ForeName>Michael R</ForeName><Initials>MR</Initials><AffiliationInfo><Affiliation>Howard Hughes Medical Institute and Department of Genetics, Center for Genetics and Genomics, Brigham and Women\\'s Hospital, Harvard Medical School, Boston, MA 02115, USA.</Affiliation></AffiliationInfo></Author><Author ValidYN=\"Y\"><LastName>Luo</LastName><ForeName>Ji</ForeName><Initials>J</Initials></Author><Author ValidYN=\"Y\"><LastName>Solimini</LastName><ForeName>Nicole L</ForeName><Initials>NL</Initials></Author><Author ValidYN=\"Y\"><LastName>Hu</LastName><ForeName>Guang</ForeName><Initials>G</Initials></Author><Author ValidYN=\"Y\"><LastName>Xu</LastName><ForeName>Qikai</ForeName><Initials>Q</Initials></Author><Author ValidYN=\"Y\"><LastName>Li</LastName><ForeName>Mamie Z</ForeName><Initials>MZ</Initials></Author><Author ValidYN=\"Y\"><LastName>Zhao</LastName><ForeName>Zhenming</ForeName><Initials>Z</Initials></Author><Author ValidYN=\"Y\"><LastName>Smogorzewska</LastName><ForeName>Agata</ForeName><Initials>A</Initials></Author><Author ValidYN=\"Y\"><LastName>Sowa</LastName><ForeName>Mathew E</ForeName><Initials>ME</Initials></Author><Author ValidYN=\"Y\"><LastName>Ang</LastName><ForeName>Xiaolu L</ForeName><Initials>XL</Initials></Author><Author ValidYN=\"Y\"><LastName>Westbrook</LastName><ForeName>Thomas F</ForeName><Initials>TF</Initials></Author><Author ValidYN=\"Y\"><LastName>Liang</LastName><ForeName>Anthony C</ForeName><Initials>AC</Initials></Author><Author ValidYN=\"Y\"><LastName>Chang</LastName><ForeName>Kenneth</ForeName><Initials>K</Initials></Author><Author ValidYN=\"Y\"><LastName>Hackett</LastName><ForeName>Jennifer A</ForeName><Initials>JA</Initials></Author><Author ValidYN=\"Y\"><LastName>Harper</LastName><ForeName>J Wade</ForeName><Initials>JW</Initials></Author><Author ValidYN=\"Y\"><LastName>Hannon</LastName><ForeName>Gregory J</ForeName><Initials>GJ</Initials></Author><Author ValidYN=\"Y\"><LastName>Elledge</LastName><ForeName>Stephen J</ForeName><Initials>SJ</Initials></Author></AuthorList><Language>eng</Language><GrantList CompleteYN=\"Y\"><Grant><GrantID>P01 CA013106-37</GrantID><Acronym>CA</Acronym><Agency>NCI NIH HHS</Agency><Country>United States</Country></Grant><Grant><GrantID>P01 CA013106</GrantID><Acronym>CA</Acronym><Agency>NCI NIH HHS</Agency><Country>United States</Country></Grant><Grant><Acronym>HHMI</Acronym><Agency>Howard Hughes Medical Institute</Agency><Country>United States</Country></Grant><Grant><GrantID>F31 NS054507</GrantID><Acronym>NS</Acronym><Agency>NINDS NIH HHS</Agency><Country>United States</Country></Grant><Grant><GrantID>T32CA09216</GrantID><Acronym>CA</Acronym><Agency>NCI NIH HHS</Agency><Country>United States</Country></Grant><Grant><GrantID>T32 CA009216</GrantID><Acronym>CA</Acronym><Agency>NCI NIH HHS</Agency><Country>United States</Country></Grant><Grant><GrantID>R01 AG011085</GrantID><Acronym>AG</Acronym><Agency>NIA NIH HHS</Agency><Country>United States</Country></Grant><Grant><GrantID>F31 NS054507-01</GrantID><Acronym>NS</Acronym><Agency>NINDS NIH HHS</Agency><Country>United States</Country></Grant><Grant><GrantID>P01 CA013106-36</GrantID><Acronym>CA</Acronym><Agency>NCI NIH HHS</Agency><Country>United States</Country></Grant></GrantList><PublicationTypeList><PublicationType UI=\"D016428\">Journal Article</PublicationType><PublicationType UI=\"D052061\">Research Support, N.I.H., Extramural</PublicationType><PublicationType UI=\"D013485\">Research Support, Non-U.S. Gov\\'t</PublicationType><PublicationType UI=\"D013486\">Research Support, U.S. Gov\\'t, Non-P.H.S.</PublicationType></PublicationTypeList></Article><MedlineJournalInfo><Country>United States</Country><MedlineTA>Science</MedlineTA><NlmUniqueID>0404511</NlmUniqueID><ISSNLinking>0036-8075</ISSNLinking></MedlineJournalInfo><ChemicalList><Chemical><RegistryNumber>0</RegistryNumber><NameOfSubstance UI=\"D035683\">MicroRNAs</NameOfSubstance></Chemical><Chemical><RegistryNumber>0</RegistryNumber><NameOfSubstance UI=\"D034741\">RNA, Small Interfering</NameOfSubstance></Chemical></ChemicalList><CitationSubset>IM</CitationSubset><CommentsCorrectionsList><CommentsCorrections RefType=\"ErratumIn\"><RefSource>Science.2008 Apr 18;320(5874):316</RefSource></CommentsCorrections></CommentsCorrectionsList><MeshHeadingList><MeshHeading><DescriptorName UI=\"D001943\" MajorTopicYN=\"N\">Breast Neoplasms</DescriptorName><QualifierName UI=\"Q000235\" MajorTopicYN=\"Y\">genetics</QualifierName><QualifierName UI=\"Q000473\" MajorTopicYN=\"N\">pathology</QualifierName></MeshHeading><MeshHeading><DescriptorName UI=\"D002460\" MajorTopicYN=\"N\">Cell Line</DescriptorName></MeshHeading><MeshHeading><DescriptorName UI=\"D045744\" MajorTopicYN=\"N\">Cell Line, Tumor</DescriptorName></MeshHeading><MeshHeading><DescriptorName UI=\"D049109\" MajorTopicYN=\"Y\">Cell Proliferation</DescriptorName></MeshHeading><MeshHeading><DescriptorName UI=\"D002470\" MajorTopicYN=\"N\">Cell Survival</DescriptorName><QualifierName UI=\"Q000235\" MajorTopicYN=\"N\">genetics</QualifierName></MeshHeading><MeshHeading><DescriptorName UI=\"D003110\" MajorTopicYN=\"N\">Colonic Neoplasms</DescriptorName><QualifierName UI=\"Q000235\" MajorTopicYN=\"Y\">genetics</QualifierName><QualifierName UI=\"Q000473\" MajorTopicYN=\"N\">pathology</QualifierName></MeshHeading><MeshHeading><DescriptorName UI=\"D015723\" MajorTopicYN=\"N\">Gene Library</DescriptorName></MeshHeading><MeshHeading><DescriptorName UI=\"D052138\" MajorTopicYN=\"Y\">Genes, Neoplasm</DescriptorName></MeshHeading><MeshHeading><DescriptorName UI=\"D005822\" MajorTopicYN=\"N\">Genetic Vectors</DescriptorName></MeshHeading><MeshHeading><DescriptorName UI=\"D015894\" MajorTopicYN=\"N\">Genome, Human</DescriptorName></MeshHeading><MeshHeading><DescriptorName UI=\"D023281\" MajorTopicYN=\"N\">Genomics</DescriptorName><QualifierName UI=\"Q000379\" MajorTopicYN=\"Y\">methods</QualifierName></MeshHeading><MeshHeading><DescriptorName UI=\"D006801\" MajorTopicYN=\"N\">Humans</DescriptorName></MeshHeading><MeshHeading><DescriptorName UI=\"D035683\" MajorTopicYN=\"N\">MicroRNAs</DescriptorName></MeshHeading><MeshHeading><DescriptorName UI=\"D020411\" MajorTopicYN=\"N\">Oligonucleotide Array Sequence Analysis</DescriptorName></MeshHeading><MeshHeading><DescriptorName UI=\"D034741\" MajorTopicYN=\"N\">RNA, Small Interfering</DescriptorName></MeshHeading><MeshHeading><DescriptorName UI=\"D012190\" MajorTopicYN=\"N\">Retroviridae</DescriptorName><QualifierName UI=\"Q000235\" MajorTopicYN=\"N\">genetics</QualifierName></MeshHeading></MeshHeadingList></MedlineCitation><PubmedData><History><PubMedPubDate PubStatus=\"pubmed\"><Year>2008</Year><Month>2</Month><Day>2</Day><Hour>9</Hour><Minute>0</Minute></PubMedPubDate><PubMedPubDate PubStatus=\"medline\"><Year>2008</Year><Month>2</Month><Day>13</Day><Hour>9</Hour><Minute>0</Minute></PubMedPubDate><PubMedPubDate PubStatus=\"entrez\"><Year>2008</Year><Month>2</Month><Day>2</Day><Hour>9</Hour><Minute>0</Minute></PubMedPubDate></History><PublicationStatus>ppublish</PublicationStatus><ArticleIdList><ArticleId IdType=\"pubmed\">18239126</ArticleId><ArticleId IdType=\"mid\">NIHMS249937</ArticleId><ArticleId IdType=\"pmc\">PMC2981870</ArticleId><ArticleId IdType=\"doi\">10.1126/science.1149200</ArticleId><ArticleId IdType=\"pii\">319/5863/620</ArticleId></ArticleIdList><ReferenceList><Reference><Citation>Paddison PJ, et al. Nature. 2004;428:427.</Citation><ArticleIdList><ArticleId IdType=\"pubmed\">15042091</ArticleId></ArticleIdList></Reference><Reference><Citation>Silva JM, et al. Nat Genet. 2005;37:1281.</Citation><ArticleIdList><ArticleId IdType=\"pubmed\">16200065</ArticleId></ArticleIdList></Reference><Reference><Citation>Westbrook TF, et al. Cell. 2005;121:837.</Citation><ArticleIdList><ArticleId IdType=\"pubmed\">15960972</ArticleId></ArticleIdList></Reference><Reference><Citation>Popov N, et al. Nat Cell Biol. 2007;9:765.</Citation><ArticleIdList><ArticleId IdType=\"pubmed\">17558397</ArticleId></ArticleIdList></Reference><Reference><Citation>Kolfschoten IG, et al. Cell. 2005;121:849.</Citation><ArticleIdList><ArticleId IdType=\"pubmed\">15960973</ArticleId></ArticleIdList></Reference><Reference><Citation>Ngo VN, et al. Nature. 2006;441:106.</Citation><ArticleIdList><ArticleId IdType=\"pubmed\">16572121</ArticleId></ArticleIdList></Reference><Reference><Citation>Berns K, et al. Nature. 2004;428:431.</Citation><ArticleIdList><ArticleId IdType=\"pubmed\">15042092</ArticleId></ArticleIdList></Reference><Reference><Citation>Brummelkamp TR, et al. Nat Chem Biol. 2006;2:202.</Citation><ArticleIdList><ArticleId IdType=\"pubmed\">16474381</ArticleId></ArticleIdList></Reference><Reference><Citation>Sjoblom T, et al. Science. 2006;314:268.</Citation><ArticleIdList><ArticleId IdType=\"pubmed\">16959974</ArticleId></ArticleIdList></Reference><Reference><Citation>Wood LD, et al. Science. 2007;318:1108.</Citation><ArticleIdList><ArticleId IdType=\"pubmed\">17932254</ArticleId></ArticleIdList></Reference><Reference><Citation>Dickins RA, et al. Nat Genet. 2005;37:1289.</Citation><ArticleIdList><ArticleId IdType=\"pubmed\">16200064</ArticleId></ArticleIdList></Reference><Reference><Citation>Smyth GK, Speed T. Methods. 2003;31:265.</Citation><ArticleIdList><ArticleId IdType=\"pubmed\">14597310</ArticleId></ArticleIdList></Reference><Reference><Citation>Draviam VM, et al. Nat Cell Biol. 2007;9:556.</Citation><ArticleIdList><ArticleId IdType=\"pubmed\">17417629</ArticleId></ArticleIdList></Reference><Reference><Citation>Ito M, Nakano T, Erdodi F, Hartshorne DJ. Mol Cell Biochem. 2004;259:197.</Citation><ArticleIdList><ArticleId IdType=\"pubmed\">15124925</ArticleId></ArticleIdList></Reference><Reference><Citation>Jin H, Sperka T, Herrlich P, Morrison H. Nature. 2006;442:576.</Citation><ArticleIdList><ArticleId IdType=\"pubmed\">16885985</ArticleId></ArticleIdList></Reference><Reference><Citation>Vassilev LT, et al. Science. 2004;303:844.</Citation><ArticleIdList><ArticleId IdType=\"pubmed\">14704432</ArticleId></ArticleIdList></Reference><Reference><Citation>Solimini NL, Luo J, Elledge SJ. Cell. 2007;130:986.</Citation><ArticleIdList><ArticleId IdType=\"pubmed\">17889643</ArticleId></ArticleIdList></Reference><Reference><Citation>Silva JM, et al. Science. 2008;319:617.</Citation><ArticleIdList><ArticleId IdType=\"pmc\">PMC2981861</ArticleId><ArticleId IdType=\"pubmed\">18239125</ArticleId></ArticleIdList></Reference></ReferenceList></PubmedData></PubmedArticle><PubmedArticle><MedlineCitation Status=\"MEDLINE\" Owner=\"NLM\"><PMID Version=\"1\">18239125</PMID><DateCompleted><Year>2008</Year><Month>02</Month><Day>12</Day></DateCompleted><DateRevised><Year>2022</Year><Month>01</Month><Day>29</Day></DateRevised><Article PubModel=\"Print\"><Journal><ISSN IssnType=\"Electronic\">1095-9203</ISSN><JournalIssue CitedMedium=\"Internet\"><Volume>319</Volume><Issue>5863</Issue><PubDate><Year>2008</Year><Month>Feb</Month><Day>01</Day></PubDate></JournalIssue><Title>Science (New York, N.Y.)</Title><ISOAbbreviation>Science</ISOAbbreviation></Journal><ArticleTitle>Profiling essential genes in human mammary cells by multiplex RNAi screening.</ArticleTitle><Pagination><StartPage>617</StartPage><EndPage>620</EndPage><MedlinePgn>617-20</MedlinePgn></Pagination><ELocationID EIdType=\"doi\" ValidYN=\"Y\">10.1126/science.1149185</ELocationID><Abstract><AbstractText>By virtue of their accumulated genetic alterations, tumor cells may acquire vulnerabilities that create opportunities for therapeutic intervention. We have devised a massively parallel strategy for screening short hairpin RNA (shRNA) collections for stable loss-of-function phenotypes. We assayed from 6000 to 20,000 shRNAs simultaneously to identify genes important for the proliferation and survival of five cell lines derived from human mammary tissue. Lethal shRNAs common to these cell lines targeted many known cell-cycle regulatory networks. Cell line-specific sensitivities to suppression of protein complexes and biological pathways also emerged, and these could be validated by RNA interference (RNAi) and pharmacologically. These studies establish a practical platform for genome-scale screening of complex phenotypes in mammalian cells and demonstrate that RNAi can be used to expose genotype-specific sensitivities.</AbstractText></Abstract><AuthorList CompleteYN=\"Y\"><Author ValidYN=\"Y\"><LastName>Silva</LastName><ForeName>Jose M</ForeName><Initials>JM</Initials><AffiliationInfo><Affiliation>Watson School of Biological Sciences, Howard Hughes Medical Institute, Cold Spring Harbor Laboratory, Cold Spring Harbor, NY 11724, USA.</Affiliation></AffiliationInfo></Author><Author ValidYN=\"Y\"><LastName>Marran</LastName><ForeName>Krista</ForeName><Initials>K</Initials></Author><Author ValidYN=\"Y\"><LastName>Parker</LastName><ForeName>Joel S</ForeName><Initials>JS</Initials></Author><Author ValidYN=\"Y\"><LastName>Silva</LastName><ForeName>Javier</ForeName><Initials>J</Initials></Author><Author ValidYN=\"Y\"><LastName>Golding</LastName><ForeName>Michael</ForeName><Initials>M</Initials></Author><Author ValidYN=\"Y\"><LastName>Schlabach</LastName><ForeName>Michael R</ForeName><Initials>MR</Initials></Author><Author ValidYN=\"Y\"><LastName>Elledge</LastName><ForeName>Stephen J</ForeName><Initials>SJ</Initials></Author><Author ValidYN=\"Y\"><LastName>Hannon</LastName><ForeName>Gregory J</ForeName><Initials>GJ</Initials></Author><Author ValidYN=\"Y\"><LastName>Chang</LastName><ForeName>Kenneth</ForeName><Initials>K</Initials></Author></AuthorList><Language>eng</Language><GrantList CompleteYN=\"Y\"><Grant><Acronym>HHMI</Acronym><Agency>Howard Hughes Medical Institute</Agency><Country>United States</Country></Grant><Grant><GrantID>P01 CA013106</GrantID><Acronym>CA</Acronym><Agency>NCI NIH HHS</Agency><Country>United States</Country></Grant><Grant><GrantID>P01 CA013106-36</GrantID><Acronym>CA</Acronym><Agency>NCI NIH HHS</Agency><Country>United States</Country></Grant><Grant><GrantID>P01 CA013106-37</GrantID><Acronym>CA</Acronym><Agency>NCI NIH HHS</Agency><Country>United States</Country></Grant></GrantList><PublicationTypeList><PublicationType UI=\"D016428\">Journal Article</PublicationType><PublicationType UI=\"D052061\">Research Support, N.I.H., Extramural</PublicationType><PublicationType UI=\"D013486\">Research Support, U.S. Gov\\'t, Non-P.H.S.</PublicationType></PublicationTypeList></Article><MedlineJournalInfo><Country>United States</Country><MedlineTA>Science</MedlineTA><NlmUniqueID>0404511</NlmUniqueID><ISSNLinking>0036-8075</ISSNLinking></MedlineJournalInfo><ChemicalList><Chemical><RegistryNumber>0</RegistryNumber><NameOfSubstance UI=\"D034741\">RNA, Small Interfering</NameOfSubstance></Chemical></ChemicalList><CitationSubset>IM</CitationSubset><MeshHeadingList><MeshHeading><DescriptorName UI=\"D001940\" MajorTopicYN=\"N\">Breast</DescriptorName><QualifierName UI=\"Q000166\" MajorTopicYN=\"Y\">cytology</QualifierName><QualifierName UI=\"Q000378\" MajorTopicYN=\"Y\">metabolism</QualifierName></MeshHeading><MeshHeading><DescriptorName UI=\"D001943\" MajorTopicYN=\"N\">Breast Neoplasms</DescriptorName><QualifierName UI=\"Q000235\" MajorTopicYN=\"Y\">genetics</QualifierName><QualifierName UI=\"Q000473\" MajorTopicYN=\"N\">pathology</QualifierName></MeshHeading><MeshHeading><DescriptorName UI=\"D002460\" MajorTopicYN=\"N\">Cell Line</DescriptorName></MeshHeading><MeshHeading><DescriptorName UI=\"D045744\" MajorTopicYN=\"N\">Cell Line, Tumor</DescriptorName></MeshHeading><MeshHeading><DescriptorName UI=\"D049109\" MajorTopicYN=\"Y\">Cell Proliferation</DescriptorName></MeshHeading><MeshHeading><DescriptorName UI=\"D002470\" MajorTopicYN=\"Y\">Cell Survival</DescriptorName></MeshHeading><MeshHeading><DescriptorName UI=\"D020869\" MajorTopicYN=\"N\">Gene Expression Profiling</DescriptorName></MeshHeading><MeshHeading><DescriptorName UI=\"D020043\" MajorTopicYN=\"Y\">Genes, Essential</DescriptorName></MeshHeading><MeshHeading><DescriptorName UI=\"D023281\" MajorTopicYN=\"N\">Genomics</DescriptorName></MeshHeading><MeshHeading><DescriptorName UI=\"D006801\" MajorTopicYN=\"N\">Humans</DescriptorName></MeshHeading><MeshHeading><DescriptorName UI=\"D053858\" MajorTopicYN=\"N\">Metabolic Networks and Pathways</DescriptorName><QualifierName UI=\"Q000235\" MajorTopicYN=\"Y\">genetics</QualifierName></MeshHeading><MeshHeading><DescriptorName UI=\"D020411\" MajorTopicYN=\"N\">Oligonucleotide Array Sequence Analysis</DescriptorName></MeshHeading><MeshHeading><DescriptorName UI=\"D010641\" MajorTopicYN=\"N\">Phenotype</DescriptorName></MeshHeading><MeshHeading><DescriptorName UI=\"D034622\" MajorTopicYN=\"Y\">RNA Interference</DescriptorName></MeshHeading><MeshHeading><DescriptorName UI=\"D034741\" MajorTopicYN=\"N\">RNA, Small Interfering</DescriptorName></MeshHeading></MeshHeadingList></MedlineCitation><PubmedData><History><PubMedPubDate PubStatus=\"pubmed\"><Year>2008</Year><Month>2</Month><Day>2</Day><Hour>9</Hour><Minute>0</Minute></PubMedPubDate><PubMedPubDate PubStatus=\"medline\"><Year>2008</Year><Month>2</Month><Day>13</Day><Hour>9</Hour><Minute>0</Minute></PubMedPubDate><PubMedPubDate PubStatus=\"entrez\"><Year>2008</Year><Month>2</Month><Day>2</Day><Hour>9</Hour><Minute>0</Minute></PubMedPubDate></History><PublicationStatus>ppublish</PublicationStatus><ArticleIdList><ArticleId IdType=\"pubmed\">18239125</ArticleId><ArticleId IdType=\"mid\">NIHMS249659</ArticleId><ArticleId IdType=\"pmc\">PMC2981861</ArticleId><ArticleId IdType=\"doi\">10.1126/science.1149185</ArticleId><ArticleId IdType=\"pii\">319/5863/617</ArticleId></ArticleIdList><ReferenceList><Reference><Citation>Paddison PJ, Caudy AA, Hannon GJ. Proc Natl Acad Sci USA. 2002;99:1443.</Citation><ArticleIdList><ArticleId IdType=\"pmc\">PMC122210</ArticleId><ArticleId IdType=\"pubmed\">11818553</ArticleId></ArticleIdList></Reference><Reference><Citation>Elbashir SM, et al. Nature. 2001;411:494.</Citation><ArticleIdList><ArticleId IdType=\"pubmed\">11373684</ArticleId></ArticleIdList></Reference><Reference><Citation>Scherer L, Rossi JJ. Curr Pharm Biotechnol. 2004;5:355.</Citation><ArticleIdList><ArticleId IdType=\"pubmed\">15320766</ArticleId></ArticleIdList></Reference><Reference><Citation>Friedman A, Perrimon N. Curr Opin Genet Dev. 2004;14:470.</Citation><ArticleIdList><ArticleId IdType=\"pubmed\">15380236</ArticleId></ArticleIdList></Reference><Reference><Citation>Bernards R, Brummelkamp TR, Beijersbergen RL. Nat Methods. 2006;3:701.</Citation><ArticleIdList><ArticleId IdType=\"pubmed\">16929315</ArticleId></ArticleIdList></Reference><Reference><Citation>Hemann MT, et al. Nat Genet. 2003;33:396.</Citation><ArticleIdList><ArticleId IdType=\"pubmed\">12567186</ArticleId></ArticleIdList></Reference><Reference><Citation>Snove O, Jr, Rossi JJ. Nat Methods. 2006;3:689.</Citation><ArticleIdList><ArticleId IdType=\"pubmed\">16929313</ArticleId></ArticleIdList></Reference><Reference><Citation>Farah MH. Curr Drug Deliv. 2007;4:161.</Citation><ArticleIdList><ArticleId IdType=\"pubmed\">17456035</ArticleId></ArticleIdList></Reference><Reference><Citation>de Fougerolles A, Vornlocher HP, Maraganore J, Lieberman J. Nat Rev Drug Discov. 2007;6:443.</Citation><ArticleIdList><ArticleId IdType=\"pmc\">PMC7098199</ArticleId><ArticleId IdType=\"pubmed\">17541417</ArticleId></ArticleIdList></Reference><Reference><Citation>Aza-Blanc P, et al. Mol Cell. 2003;12:627.</Citation><ArticleIdList><ArticleId IdType=\"pubmed\">14527409</ArticleId></ArticleIdList></Reference><Reference><Citation>Whitehurst AW, et al. Nature. 2007;446:815.</Citation><ArticleIdList><ArticleId IdType=\"pubmed\">17429401</ArticleId></ArticleIdList></Reference><Reference><Citation>Natt F. Curr Opin Mol Ther. 2007;9:242.</Citation><ArticleIdList><ArticleId IdType=\"pubmed\">17608022</ArticleId></ArticleIdList></Reference><Reference><Citation>Paddison PJ, et al. Nature. 2004;428:427.</Citation><ArticleIdList><ArticleId IdType=\"pubmed\">15042091</ArticleId></ArticleIdList></Reference><Reference><Citation>Westbrook TF, et al. Cell. 2005;121:837.</Citation><ArticleIdList><ArticleId IdType=\"pubmed\">15960972</ArticleId></ArticleIdList></Reference><Reference><Citation>Root DE, et al. Nat Methods. 2006;3:715.</Citation><ArticleIdList><ArticleId IdType=\"pubmed\">16929317</ArticleId></ArticleIdList></Reference><Reference><Citation>Gazin C, et al. Nature. 2007;449:1073.</Citation><ArticleIdList><ArticleId IdType=\"pmc\">PMC2147719</ArticleId><ArticleId IdType=\"pubmed\">17960246</ArticleId></ArticleIdList></Reference><Reference><Citation>Ngo VN, et al. Nature. 2006;441:106.</Citation><ArticleIdList><ArticleId IdType=\"pubmed\">16572121</ArticleId></ArticleIdList></Reference><Reference><Citation>Silva JM, et al. Nat Genet. 2005;37:1281.</Citation><ArticleIdList><ArticleId IdType=\"pubmed\">16200065</ArticleId></ArticleIdList></Reference><Reference><Citation>Dickins RA, et al. Nat Genet. 2005;37:1289.</Citation><ArticleIdList><ArticleId IdType=\"pubmed\">16200064</ArticleId></ArticleIdList></Reference><Reference><Citation>Stegmeier F, Hu G, Rickles RJ, Hannon GJ, Elledge SJ. Proc Natl Acad Sci USA. 2005;102:13212.</Citation><ArticleIdList><ArticleId IdType=\"pmc\">PMC1196357</ArticleId><ArticleId IdType=\"pubmed\">16141338</ArticleId></ArticleIdList></Reference><Reference><Citation>Schlabach MR, et al. Science. 2008;319:620.</Citation><ArticleIdList><ArticleId IdType=\"pmc\">PMC2981870</ArticleId><ArticleId IdType=\"pubmed\">18239126</ArticleId></ArticleIdList></Reference><Reference><Citation>Nakayama KI, Nakayama K. Nat Rev Cancer. 2006;6:369.</Citation><ArticleIdList><ArticleId IdType=\"pubmed\">16633365</ArticleId></ArticleIdList></Reference><Reference><Citation>Peters JM. Nat Rev Mol Cell Biol. 2006;7:644.</Citation><ArticleIdList><ArticleId IdType=\"pubmed\">16896351</ArticleId></ArticleIdList></Reference><Reference><Citation>Fang G. Mol Biol Cell. 2002;13:755.</Citation><ArticleIdList><ArticleId IdType=\"pmc\">PMC99596</ArticleId><ArticleId IdType=\"pubmed\">11907259</ArticleId></ArticleIdList></Reference><Reference><Citation>Kops GJ, Foltz DR, Cleveland DW. Proc Natl Acad Sci USA. 2004;101:8699.</Citation><ArticleIdList><ArticleId IdType=\"pmc\">PMC423258</ArticleId><ArticleId IdType=\"pubmed\">15159543</ArticleId></ArticleIdList></Reference><Reference><Citation>Yen TJ, et al. Nature. 1992;359:536.</Citation><ArticleIdList><ArticleId IdType=\"pubmed\">1406971</ArticleId></ArticleIdList></Reference><Reference><Citation>Peng J, Zhu Y, Milton JT, Price DH. Genes Dev. 1998;12:755.</Citation><ArticleIdList><ArticleId IdType=\"pmc\">PMC316581</ArticleId><ArticleId IdType=\"pubmed\">9499409</ArticleId></ArticleIdList></Reference><Reference><Citation>Neve RM, et al. Cancer Cell. 2006;10:515.</Citation><ArticleIdList><ArticleId IdType=\"pmc\">PMC2730521</ArticleId><ArticleId IdType=\"pubmed\">17157791</ArticleId></ArticleIdList></Reference><Reference><Citation>Moyer JD, et al. Cancer Res. 1997;57:4838.</Citation><ArticleIdList><ArticleId IdType=\"pubmed\">9354447</ArticleId></ArticleIdList></Reference><Reference><Citation>Jackson-Grusby L, et al. Proc Natl Acad Sci USA. 1997;94:4681.</Citation><ArticleIdList><ArticleId IdType=\"pmc\">PMC20784</ArticleId><ArticleId IdType=\"pubmed\">9114051</ArticleId></ArticleIdList></Reference><Reference><Citation>Palombella VJ, et al. Cell. 1994;78:773.</Citation><ArticleIdList><ArticleId IdType=\"pubmed\">8087845</ArticleId></ArticleIdList></Reference></ReferenceList></PubmedData></PubmedArticle></PubmedArticleSet>'"
      ]
     },
     "execution_count": 171,
     "metadata": {},
     "output_type": "execute_result"
    }
   ],
   "source": [
    "# if more than about 200 UIDs are to be provided, the request should be made using the HTTP POST method\n",
    "\n",
    "def query_eutils(pmids):\n",
    "    params =  {\n",
    "            'api_key': api_key,\n",
    "            'db': 'pubmed',\n",
    "            'id': pmids,\n",
    "        }\n",
    "    return requests.get(base_url, params).text\n",
    "\n",
    "res = query_eutils(pmids)\n",
    "res"
   ]
  },
  {
   "cell_type": "code",
   "execution_count": 9,
   "metadata": {},
   "outputs": [],
   "source": [
    "import xml.etree.ElementTree as ET"
   ]
  },
  {
   "cell_type": "code",
   "execution_count": 191,
   "metadata": {},
   "outputs": [
    {
     "name": "stdout",
     "output_type": "stream",
     "text": [
      "<Element 'PubmedArticle' at 0x1242a5710>\n",
      "<Element 'PubmedArticle' at 0x1243b6de0>\n",
      "<Element 'PubmedArticle' at 0x1243b5260>\n",
      "<Element 'PubmedArticle' at 0x1243a6700>\n",
      "<Element 'PubmedArticle' at 0x1243d6b60>\n",
      "<Element 'PubmedArticle' at 0x1243b1080>\n"
     ]
    }
   ],
   "source": [
    "root = ET.fromstring(res)\n",
    "for child in root:\n",
    "    print(child)"
   ]
  },
  {
   "cell_type": "code",
   "execution_count": 201,
   "metadata": {},
   "outputs": [],
   "source": [
    "def text_or_none(field):\n",
    "    \"\"\"Return the text of an xml element or empty string if the element is None.\"\"\"\n",
    "    return field.text if field is not None else None"
   ]
  },
  {
   "cell_type": "code",
   "execution_count": 161,
   "metadata": {},
   "outputs": [],
   "source": [
    "def get_title(article):\n",
    "    \"\"\"Return article title\"\"\"\n",
    "    return text_or_none(article.find('.//ArticleTitle'))"
   ]
  },
  {
   "cell_type": "code",
   "execution_count": 138,
   "metadata": {},
   "outputs": [],
   "source": [
    "def get_pubyear(article):\n",
    "    \"\"\"Return publication year (in journal)\"\"\"\n",
    "    return text_or_none(article.find('.//PubDate/Year'))"
   ]
  },
  {
   "cell_type": "code",
   "execution_count": 185,
   "metadata": {},
   "outputs": [],
   "source": [
    "def get_abstract(article):\n",
    "    \"\"\"Return article abstract\"\"\"\n",
    "    return text_or_none(article.find('.//AbstractText'))"
   ]
  },
  {
   "cell_type": "code",
   "execution_count": 139,
   "metadata": {},
   "outputs": [],
   "source": [
    "def get_authors(article):\n",
    "    \"\"\"Return article authors in format 'LastName, ForeName'\"\"\"\n",
    "    return [', '.join([author.find(\"LastName\").text, \n",
    "                       author.find(\"ForeName\").text]) \n",
    "            for author in article.find('.//AuthorList')] "
   ]
  },
  {
   "cell_type": "code",
   "execution_count": 206,
   "metadata": {},
   "outputs": [
    {
     "data": {
      "text/plain": [
       "['Varambally, Sooryanarayana, Michigan Center for Translational Pathology, University of Michigan Medical School, Ann Arbor, MI 48109, USA.',\n",
       " 'Cao, Qi',\n",
       " 'Mani, Ram-Shankar',\n",
       " 'Shankar, Sunita',\n",
       " 'Wang, Xiaosong',\n",
       " 'Ateeq, Bushra',\n",
       " 'Laxman, Bharathi',\n",
       " 'Cao, Xuhong',\n",
       " 'Jing, Xiaojun',\n",
       " 'Ramnarayanan, Kalpana',\n",
       " 'Brenner, J Chad',\n",
       " 'Yu, Jindan',\n",
       " 'Kim, Jung H',\n",
       " 'Han, Bo',\n",
       " 'Tan, Patrick',\n",
       " 'Kumar-Sinha, Chandan',\n",
       " 'Lonigro, Robert J',\n",
       " 'Palanisamy, Nallasivam',\n",
       " 'Maher, Christopher A',\n",
       " 'Chinnaiyan, Arul M']"
      ]
     },
     "execution_count": 206,
     "metadata": {},
     "output_type": "execute_result"
    }
   ],
   "source": [
    "def get_authors(article):\n",
    "    \"\"\"Return article authors in format 'LastName, ForeName'\"\"\"\n",
    "    return [\n",
    "        \", \".join(\n",
    "            filter(\n",
    "                None,\n",
    "                [\n",
    "                    text_or_none(author.find(\"LastName\")),\n",
    "                    text_or_none(author.find(\"ForeName\")),\n",
    "                    text_or_none(author.find(\"AffiliationInfo/Affiliation\")),\n",
    "                ],\n",
    "            )\n",
    "        )\n",
    "        for author in article.find(\".//AuthorList\")\n",
    "    ]\n",
    "\n",
    "get_authors(root)"
   ]
  },
  {
   "cell_type": "code",
   "execution_count": 142,
   "metadata": {},
   "outputs": [],
   "source": [
    "def get_ref_pmids(article):\n",
    "    refs = []\n",
    "    if article.find('.//ReferenceList') is not None:\n",
    "        for ref in article.find('.//ReferenceList'):\n",
    "            if ref.find('.//ArticleId') is not None:\n",
    "                if ref.find('.//ArticleId').attrib['IdType']=='pubmed':\n",
    "                    refs.append(ref.find('.//ArticleId').text) \n",
    "    return refs"
   ]
  },
  {
   "cell_type": "code",
   "execution_count": 143,
   "metadata": {},
   "outputs": [],
   "source": [
    "def get_journal_name(article):\n",
    "    \"\"\"Return journal name\"\"\"\n",
    "    return text_or_none(article.find('.//Article/Journal/ISOAbbreviation'))"
   ]
  },
  {
   "cell_type": "code",
   "execution_count": 144,
   "metadata": {},
   "outputs": [],
   "source": [
    "def get_journal_issn(article):\n",
    "    \"\"\"Return journal ISSN\"\"\"\n",
    "    return text_or_none(article.find('.//Article/Journal/ISSN'))"
   ]
  },
  {
   "cell_type": "markdown",
   "metadata": {},
   "source": [
    "### run for several articles and create dataframe"
   ]
  },
  {
   "cell_type": "code",
   "execution_count": 155,
   "metadata": {},
   "outputs": [],
   "source": [
    "import pandas as pd\n",
    "\n",
    "root = ET.fromstring(res)"
   ]
  },
  {
   "cell_type": "code",
   "execution_count": 188,
   "metadata": {},
   "outputs": [
    {
     "data": {
      "text/html": [
       "<div>\n",
       "<style scoped>\n",
       "    .dataframe tbody tr th:only-of-type {\n",
       "        vertical-align: middle;\n",
       "    }\n",
       "\n",
       "    .dataframe tbody tr th {\n",
       "        vertical-align: top;\n",
       "    }\n",
       "\n",
       "    .dataframe thead th {\n",
       "        text-align: right;\n",
       "    }\n",
       "</style>\n",
       "<table border=\"1\" class=\"dataframe\">\n",
       "  <thead>\n",
       "    <tr style=\"text-align: right;\">\n",
       "      <th></th>\n",
       "      <th>title</th>\n",
       "      <th>authors</th>\n",
       "      <th>abstract</th>\n",
       "      <th>author_affil</th>\n",
       "      <th>references</th>\n",
       "      <th>year</th>\n",
       "      <th>journal_name</th>\n",
       "      <th>journal_issn</th>\n",
       "    </tr>\n",
       "  </thead>\n",
       "  <tbody>\n",
       "    <tr>\n",
       "      <th>0</th>\n",
       "      <td>Genomic loss of microRNA-101 leads to overexpr...</td>\n",
       "      <td>[Varambally, Sooryanarayana, Cao, Qi, Mani, Ra...</td>\n",
       "      <td>Enhancer of zeste homolog 2 (EZH2) is a mammal...</td>\n",
       "      <td>[Michigan Center for Translational Pathology, ...</td>\n",
       "      <td>[16625203, 12374981, 12900441, 12649488, 12351...</td>\n",
       "      <td>2008</td>\n",
       "      <td>Science</td>\n",
       "      <td>1095-9203</td>\n",
       "    </tr>\n",
       "    <tr>\n",
       "      <th>1</th>\n",
       "      <td>Genetics. DNA test for breast cancer risk draw...</td>\n",
       "      <td>[Couzin, Jennifer]</td>\n",
       "      <td>None</td>\n",
       "      <td>[None]</td>\n",
       "      <td>[]</td>\n",
       "      <td>2008</td>\n",
       "      <td>Science</td>\n",
       "      <td>1095-9203</td>\n",
       "    </tr>\n",
       "    <tr>\n",
       "      <th>2</th>\n",
       "      <td>FBXW7 targets mTOR for degradation and coopera...</td>\n",
       "      <td>[Mao, Jian-Hua, Kim, Il-Jin, Wu, Di, Climent, ...</td>\n",
       "      <td>The enzyme mTOR (mammalian target of rapamycin...</td>\n",
       "      <td>[Cancer Research Institute, University of Cali...</td>\n",
       "      <td>[18094723, 17909001, 15592418, 14999283, 16357...</td>\n",
       "      <td>2008</td>\n",
       "      <td>Science</td>\n",
       "      <td>1095-9203</td>\n",
       "    </tr>\n",
       "    <tr>\n",
       "      <th>3</th>\n",
       "      <td>Design logic of a cannabinoid receptor signali...</td>\n",
       "      <td>[Bromberg, Kenneth D, Ma'ayan, Avi, Neves, Sus...</td>\n",
       "      <td>Cannabinoid receptor 1 (CB1R) regulates neuron...</td>\n",
       "      <td>[Department of Pharmacology and Systems Therap...</td>\n",
       "      <td>[15657046, 16046413, 17222464, 16776579, 17350...</td>\n",
       "      <td>2008</td>\n",
       "      <td>Science</td>\n",
       "      <td>1095-9203</td>\n",
       "    </tr>\n",
       "    <tr>\n",
       "      <th>4</th>\n",
       "      <td>Cancer proliferation gene discovery through fu...</td>\n",
       "      <td>[Schlabach, Michael R, Luo, Ji, Solimini, Nico...</td>\n",
       "      <td>Retroviral short hairpin RNA (shRNA)-mediated ...</td>\n",
       "      <td>[Howard Hughes Medical Institute and Departmen...</td>\n",
       "      <td>[15042091, 16200065, 15960972, 17558397, 15960...</td>\n",
       "      <td>2008</td>\n",
       "      <td>Science</td>\n",
       "      <td>1095-9203</td>\n",
       "    </tr>\n",
       "    <tr>\n",
       "      <th>5</th>\n",
       "      <td>Profiling essential genes in human mammary cel...</td>\n",
       "      <td>[Silva, Jose M, Marran, Krista, Parker, Joel S...</td>\n",
       "      <td>By virtue of their accumulated genetic alterat...</td>\n",
       "      <td>[Watson School of Biological Sciences, Howard ...</td>\n",
       "      <td>[11373684, 15320766, 15380236, 16929315, 12567...</td>\n",
       "      <td>2008</td>\n",
       "      <td>Science</td>\n",
       "      <td>1095-9203</td>\n",
       "    </tr>\n",
       "  </tbody>\n",
       "</table>\n",
       "</div>"
      ],
      "text/plain": [
       "                                               title  \\\n",
       "0  Genomic loss of microRNA-101 leads to overexpr...   \n",
       "1  Genetics. DNA test for breast cancer risk draw...   \n",
       "2  FBXW7 targets mTOR for degradation and coopera...   \n",
       "3  Design logic of a cannabinoid receptor signali...   \n",
       "4  Cancer proliferation gene discovery through fu...   \n",
       "5  Profiling essential genes in human mammary cel...   \n",
       "\n",
       "                                             authors  \\\n",
       "0  [Varambally, Sooryanarayana, Cao, Qi, Mani, Ra...   \n",
       "1                                 [Couzin, Jennifer]   \n",
       "2  [Mao, Jian-Hua, Kim, Il-Jin, Wu, Di, Climent, ...   \n",
       "3  [Bromberg, Kenneth D, Ma'ayan, Avi, Neves, Sus...   \n",
       "4  [Schlabach, Michael R, Luo, Ji, Solimini, Nico...   \n",
       "5  [Silva, Jose M, Marran, Krista, Parker, Joel S...   \n",
       "\n",
       "                                            abstract  \\\n",
       "0  Enhancer of zeste homolog 2 (EZH2) is a mammal...   \n",
       "1                                               None   \n",
       "2  The enzyme mTOR (mammalian target of rapamycin...   \n",
       "3  Cannabinoid receptor 1 (CB1R) regulates neuron...   \n",
       "4  Retroviral short hairpin RNA (shRNA)-mediated ...   \n",
       "5  By virtue of their accumulated genetic alterat...   \n",
       "\n",
       "                                        author_affil  \\\n",
       "0  [Michigan Center for Translational Pathology, ...   \n",
       "1                                             [None]   \n",
       "2  [Cancer Research Institute, University of Cali...   \n",
       "3  [Department of Pharmacology and Systems Therap...   \n",
       "4  [Howard Hughes Medical Institute and Departmen...   \n",
       "5  [Watson School of Biological Sciences, Howard ...   \n",
       "\n",
       "                                          references  year journal_name  \\\n",
       "0  [16625203, 12374981, 12900441, 12649488, 12351...  2008      Science   \n",
       "1                                                 []  2008      Science   \n",
       "2  [18094723, 17909001, 15592418, 14999283, 16357...  2008      Science   \n",
       "3  [15657046, 16046413, 17222464, 16776579, 17350...  2008      Science   \n",
       "4  [15042091, 16200065, 15960972, 17558397, 15960...  2008      Science   \n",
       "5  [11373684, 15320766, 15380236, 16929315, 12567...  2008      Science   \n",
       "\n",
       "  journal_issn  \n",
       "0    1095-9203  \n",
       "1    1095-9203  \n",
       "2    1095-9203  \n",
       "3    1095-9203  \n",
       "4    1095-9203  \n",
       "5    1095-9203  "
      ]
     },
     "execution_count": 188,
     "metadata": {},
     "output_type": "execute_result"
    }
   ],
   "source": [
    "def create_ref_df(root):\n",
    "    return pd.DataFrame({\n",
    "        \"title\" : [get_title(article) for article in root],\n",
    "        \"authors\":  [get_authors(article) for article in root],\n",
    "        \"abstract\": [get_abstract(article) for article in root],\n",
    "        \"authors\": [get_authors(article) for article in root],\n",
    "        \"author_affil\": [get_author_affiliations(article) for article in root],\n",
    "        \"references\": [get_ref_pmids(article) for article in root],\n",
    "        \"year\": [get_pubyear(article) for article in root],\n",
    "        \"journal_name\": [get_journal_name(article) for article in root],\n",
    "        \"journal_issn\": [get_journal_issn(article) for article in root]\n",
    "    })\n",
    "    \n",
    "create_ref_df(root)"
   ]
  }
 ],
 "metadata": {
  "kernelspec": {
   "display_name": "reviewerSelection",
   "language": "python",
   "name": "python3"
  },
  "language_info": {
   "codemirror_mode": {
    "name": "ipython",
    "version": 3
   },
   "file_extension": ".py",
   "mimetype": "text/x-python",
   "name": "python",
   "nbconvert_exporter": "python",
   "pygments_lexer": "ipython3",
   "version": "3.10.6"
  },
  "orig_nbformat": 4
 },
 "nbformat": 4,
 "nbformat_minor": 2
}
