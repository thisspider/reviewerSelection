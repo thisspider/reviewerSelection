{
 "cells": [
  {
   "cell_type": "code",
   "execution_count": 4,
   "metadata": {},
   "outputs": [],
   "source": [
    "# Steps for preprocessing:\n",
    "    # Tokenization?\n",
    "    # Lower casing\n",
    "    # Stop words removal\n",
    "    # Stemming?\n",
    "    # Lemmatization?\n",
    "    # Bag of words/W2V, CBOW, Skip-gram\n",
    "    # TF-IDF\n",
    "from rapidfuzz import process, fuzz"
   ]
  },
  {
   "cell_type": "code",
   "execution_count": 5,
   "metadata": {},
   "outputs": [],
   "source": [
    "def rapidfuzz_match(extracted_references: list, openalex_works: list, scorer = fuzz.WRatio):\n",
    "    top_match = []\n",
    "    second_match = []\n",
    "    third_match = []\n",
    "    top_names = []\n",
    "    top_scores = []\n",
    "    top_indexes = []\n",
    "    second_scores = []\n",
    "    second_indexes = []\n",
    "    second_names = []\n",
    "    choices = openalex_works\n",
    "    for reference in extracted_references:\n",
    "        # possible scorers are fuzz.WRatio , fuzz.partial_ratio , fuzz.token_set_ratio , fuzz.partial_token_set_ratio , fuzz.token_sort_ratio\n",
    "        top, second, third = process.extract(reference, choices, scorer=scorer, limit=3)\n",
    "        top_score = top[1]\n",
    "        top_index = top[2]\n",
    "        top_name = top[0]\n",
    "        top_names.append(top_name)\n",
    "        top_scores.append(top_score)\n",
    "        top_indexes.append(top_index)\n",
    "        top_match.append(top)\n",
    "        second_match.append(second)\n",
    "        second_score = second[1]\n",
    "        second_index = second[2]\n",
    "        second_name = second[0]\n",
    "        second_names.append(second_name)\n",
    "        second_scores.append(second_score)\n",
    "        second_indexes.append(second_index)\n",
    "        third_match.append(third)\n",
    "    matched_df = pd.DataFrame(list(zip(extracted_references, top_match,top_names, top_scores, top_indexes, second_match, second_names, second_scores, second_indexes, third_match)), columns=['extracted_reference', 'top_match', 'top_names', 'top_scores', 'top_indexes', 'second_match', 'second_names', 'second_scores', 'second_indexes', 'third_match'])\n",
    "    return matched_df"
   ]
  }
 ],
 "metadata": {
  "kernelspec": {
   "display_name": "reviewerSelection",
   "language": "python",
   "name": "python3"
  },
  "language_info": {
   "codemirror_mode": {
    "name": "ipython",
    "version": 3
   },
   "file_extension": ".py",
   "mimetype": "text/x-python",
   "name": "python",
   "nbconvert_exporter": "python",
   "pygments_lexer": "ipython3",
   "version": "3.10.6"
  },
  "orig_nbformat": 4
 },
 "nbformat": 4,
 "nbformat_minor": 2
}
